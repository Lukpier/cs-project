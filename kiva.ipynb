{
 "cells": [
  {
   "cell_type": "code",
   "execution_count": 1,
   "metadata": {},
   "outputs": [],
   "source": [
    "import pandas as pd\n",
    "import numpy as np\n",
    "import datetime\n",
    "import matplotlib as plt\n",
    "import numpy as np\n",
    "\n",
    "pd.set_option('display.float_format', lambda x: '%.5f' % x)"
   ]
  },
  {
   "cell_type": "markdown",
   "metadata": {},
   "source": [
    "### Point 1: \n",
    "Normalize the loan_lenders table. In the normalized table, each row must have one loan_id and one lender."
   ]
  },
  {
   "cell_type": "code",
   "execution_count": 2,
   "metadata": {},
   "outputs": [],
   "source": [
    "loan_lenders = pd.read_csv('data/loans_lenders.csv')"
   ]
  },
  {
   "cell_type": "code",
   "execution_count": 3,
   "metadata": {},
   "outputs": [
    {
     "data": {
      "text/html": [
       "<div>\n",
       "<style scoped>\n",
       "    .dataframe tbody tr th:only-of-type {\n",
       "        vertical-align: middle;\n",
       "    }\n",
       "\n",
       "    .dataframe tbody tr th {\n",
       "        vertical-align: top;\n",
       "    }\n",
       "\n",
       "    .dataframe thead th {\n",
       "        text-align: right;\n",
       "    }\n",
       "</style>\n",
       "<table border=\"1\" class=\"dataframe\">\n",
       "  <thead>\n",
       "    <tr style=\"text-align: right;\">\n",
       "      <th></th>\n",
       "      <th>loan_id</th>\n",
       "      <th>lenders</th>\n",
       "    </tr>\n",
       "  </thead>\n",
       "  <tbody>\n",
       "    <tr>\n",
       "      <th>0</th>\n",
       "      <td>483693</td>\n",
       "      <td>muc888, sam4326, camaran3922, lachheb1865, reb...</td>\n",
       "    </tr>\n",
       "    <tr>\n",
       "      <th>1</th>\n",
       "      <td>483738</td>\n",
       "      <td>muc888, nora3555, williammanashi, barbara5610,...</td>\n",
       "    </tr>\n",
       "    <tr>\n",
       "      <th>2</th>\n",
       "      <td>485000</td>\n",
       "      <td>muc888, terrystl, richardandsusan8352, sherri4...</td>\n",
       "    </tr>\n",
       "    <tr>\n",
       "      <th>3</th>\n",
       "      <td>486087</td>\n",
       "      <td>muc888, james5068, rudi5955, daniel9859, don92...</td>\n",
       "    </tr>\n",
       "    <tr>\n",
       "      <th>4</th>\n",
       "      <td>534428</td>\n",
       "      <td>muc888, niki3008, teresa9174, mike4896, david7...</td>\n",
       "    </tr>\n",
       "  </tbody>\n",
       "</table>\n",
       "</div>"
      ],
      "text/plain": [
       "   loan_id                                            lenders\n",
       "0   483693  muc888, sam4326, camaran3922, lachheb1865, reb...\n",
       "1   483738  muc888, nora3555, williammanashi, barbara5610,...\n",
       "2   485000  muc888, terrystl, richardandsusan8352, sherri4...\n",
       "3   486087  muc888, james5068, rudi5955, daniel9859, don92...\n",
       "4   534428  muc888, niki3008, teresa9174, mike4896, david7..."
      ]
     },
     "execution_count": 3,
     "metadata": {},
     "output_type": "execute_result"
    }
   ],
   "source": [
    "loan_lenders.head()"
   ]
  },
  {
   "cell_type": "code",
   "execution_count": 4,
   "metadata": {},
   "outputs": [],
   "source": [
    "def normalize(df, column, sep='|', keep=False):\n",
    "    \"\"\"\n",
    "    Split the values of a column and expand so the new DataFrame has one split\n",
    "    value per row. Filters rows where the column is missing.\n",
    "    \n",
    "    Params\n",
    "    ------\n",
    "    df : pandas.DataFrame\n",
    "        dataframe with the column to split and expand\n",
    "    column : str\n",
    "        the column to split and expand\n",
    "    sep : str\n",
    "        the string used to split the column's values\n",
    "    keep : bool\n",
    "        whether to retain the presplit value as it's own row\n",
    "\n",
    "    Returns\n",
    "    -------\n",
    "    pandas.DataFrame\n",
    "        Returns a dataframe with the same columns as `df`.\n",
    "    \"\"\"\n",
    "    indexes = list()\n",
    "    new_values = list()\n",
    "    df = df.dropna(subset=[column])\n",
    "    for i, presplit in enumerate(df[column].astype(str)):\n",
    "        values = presplit.split(sep)\n",
    "        if keep and len(values) > 1:\n",
    "            indexes.append(i)\n",
    "            new_values.append(presplit)\n",
    "        for value in values:\n",
    "            indexes.append(i)\n",
    "            new_values.append(value)\n",
    "    new_df = df.iloc[indexes, :].copy()\n",
    "    new_df[column] = new_values\n",
    "    return new_df"
   ]
  },
  {
   "cell_type": "code",
   "execution_count": 5,
   "metadata": {},
   "outputs": [
    {
     "name": "stdout",
     "output_type": "stream",
     "text": [
      "CPU times: user 15.6 s, sys: 1.45 s, total: 17.1 s\n",
      "Wall time: 17.4 s\n"
     ]
    }
   ],
   "source": [
    "%%time\n",
    "\n",
    "norm_loan_lenders = normalize(loan_lenders, 'lenders', ',')"
   ]
  },
  {
   "cell_type": "code",
   "execution_count": 6,
   "metadata": {},
   "outputs": [
    {
     "data": {
      "text/html": [
       "<div>\n",
       "<style scoped>\n",
       "    .dataframe tbody tr th:only-of-type {\n",
       "        vertical-align: middle;\n",
       "    }\n",
       "\n",
       "    .dataframe tbody tr th {\n",
       "        vertical-align: top;\n",
       "    }\n",
       "\n",
       "    .dataframe thead th {\n",
       "        text-align: right;\n",
       "    }\n",
       "</style>\n",
       "<table border=\"1\" class=\"dataframe\">\n",
       "  <thead>\n",
       "    <tr style=\"text-align: right;\">\n",
       "      <th></th>\n",
       "      <th>loan_id</th>\n",
       "      <th>lenders</th>\n",
       "    </tr>\n",
       "  </thead>\n",
       "  <tbody>\n",
       "    <tr>\n",
       "      <th>0</th>\n",
       "      <td>483693</td>\n",
       "      <td>muc888</td>\n",
       "    </tr>\n",
       "    <tr>\n",
       "      <th>0</th>\n",
       "      <td>483693</td>\n",
       "      <td>sam4326</td>\n",
       "    </tr>\n",
       "    <tr>\n",
       "      <th>0</th>\n",
       "      <td>483693</td>\n",
       "      <td>camaran3922</td>\n",
       "    </tr>\n",
       "    <tr>\n",
       "      <th>0</th>\n",
       "      <td>483693</td>\n",
       "      <td>lachheb1865</td>\n",
       "    </tr>\n",
       "    <tr>\n",
       "      <th>0</th>\n",
       "      <td>483693</td>\n",
       "      <td>rebecca3499</td>\n",
       "    </tr>\n",
       "  </tbody>\n",
       "</table>\n",
       "</div>"
      ],
      "text/plain": [
       "   loan_id       lenders\n",
       "0   483693        muc888\n",
       "0   483693       sam4326\n",
       "0   483693   camaran3922\n",
       "0   483693   lachheb1865\n",
       "0   483693   rebecca3499"
      ]
     },
     "execution_count": 6,
     "metadata": {},
     "output_type": "execute_result"
    }
   ],
   "source": [
    "norm_loan_lenders.head()"
   ]
  },
  {
   "cell_type": "markdown",
   "metadata": {},
   "source": [
    "### Point 2: \n",
    "For each loan, add a column duration corresponding to the number of days between the disburse time and the planned expiration time. If any of those two dates is missing, also the duration must be missing."
   ]
  },
  {
   "cell_type": "code",
   "execution_count": 7,
   "metadata": {},
   "outputs": [
    {
     "name": "stdout",
     "output_type": "stream",
     "text": [
      "CPU times: user 28.8 s, sys: 2.53 s, total: 31.3 s\n",
      "Wall time: 32.1 s\n"
     ]
    }
   ],
   "source": [
    "%%time\n",
    "\n",
    "loans = pd.read_csv('data/loans.csv')[['loan_id', 'country_code', 'loan_amount', 'num_lenders_total', 'disburse_time', 'planned_expiration_time']]"
   ]
  },
  {
   "cell_type": "markdown",
   "metadata": {},
   "source": [
    "a lot of nan's!"
   ]
  },
  {
   "cell_type": "code",
   "execution_count": 8,
   "metadata": {},
   "outputs": [
    {
     "name": "stdout",
     "output_type": "stream",
     "text": [
      "371834 2813\n"
     ]
    }
   ],
   "source": [
    "print(len(loans.planned_expiration_time[loans.planned_expiration_time.isnull()]),\n",
    "len(loans.disburse_time[loans.disburse_time.isnull()]))"
   ]
  },
  {
   "cell_type": "markdown",
   "metadata": {},
   "source": [
    "let's convert to datetime all not nan values of disburse_time and planned_expiration_time;\n",
    "#### note:\n",
    "nan values in a pandas series are represented as float"
   ]
  },
  {
   "cell_type": "code",
   "execution_count": 9,
   "metadata": {},
   "outputs": [],
   "source": [
    "formatter = '%Y-%m-%d %H:%M:%S.%f +0000'"
   ]
  },
  {
   "cell_type": "code",
   "execution_count": 10,
   "metadata": {},
   "outputs": [
    {
     "name": "stdout",
     "output_type": "stream",
     "text": [
      "CPU times: user 4.76 s, sys: 84.1 ms, total: 4.85 s\n",
      "Wall time: 4.91 s\n"
     ]
    }
   ],
   "source": [
    "%%time \n",
    "\n",
    "loans['disburse_time'] =  pd.to_datetime(loans['disburse_time'], format=formatter)\n",
    "loans['planned_expiration_time'] =  pd.to_datetime(loans['planned_expiration_time'], format=formatter)"
   ]
  },
  {
   "cell_type": "code",
   "execution_count": 11,
   "metadata": {},
   "outputs": [
    {
     "name": "stdout",
     "output_type": "stream",
     "text": [
      "CPU times: user 24.4 ms, sys: 8.93 ms, total: 33.3 ms\n",
      "Wall time: 33.4 ms\n"
     ]
    }
   ],
   "source": [
    "%%time\n",
    "\n",
    "loans['duration'] = loans.planned_expiration_time - loans.disburse_time"
   ]
  },
  {
   "cell_type": "code",
   "execution_count": 12,
   "metadata": {},
   "outputs": [
    {
     "data": {
      "text/plain": [
       "0         53 days 19:30:06\n",
       "1         96 days 14:25:07\n",
       "2         37 days 13:10:05\n",
       "3         34 days 19:10:02\n",
       "4         57 days 22:10:02\n",
       "                ...       \n",
       "1419602   39 days 17:00:03\n",
       "1419603   39 days 08:40:07\n",
       "1419604   51 days 14:20:04\n",
       "1419605   63 days 00:50:02\n",
       "1419606   61 days 12:50:06\n",
       "Name: duration, Length: 1419607, dtype: timedelta64[ns]"
      ]
     },
     "execution_count": 12,
     "metadata": {},
     "output_type": "execute_result"
    }
   ],
   "source": [
    "loans.duration"
   ]
  },
  {
   "cell_type": "markdown",
   "metadata": {},
   "source": [
    "There are 14935 loans which duration is negative: it means that the deadline was not satisfied"
   ]
  },
  {
   "cell_type": "code",
   "execution_count": 13,
   "metadata": {},
   "outputs": [
    {
     "data": {
      "text/plain": [
       "63        -31 days +21:40:03\n",
       "96        -25 days +06:30:11\n",
       "177       -25 days +21:00:03\n",
       "207       -33 days +06:30:08\n",
       "217       -31 days +17:40:03\n",
       "                 ...        \n",
       "1419303   -35 days +21:30:03\n",
       "1419304   -32 days +17:50:04\n",
       "1419374   -34 days +21:40:03\n",
       "1419443   -30 days +06:00:03\n",
       "1419581   -30 days +16:50:04\n",
       "Name: duration, Length: 14935, dtype: timedelta64[ns]"
      ]
     },
     "execution_count": 13,
     "metadata": {},
     "output_type": "execute_result"
    }
   ],
   "source": [
    "loans.duration[loans.duration < pd.Timedelta(0)]"
   ]
  },
  {
   "cell_type": "markdown",
   "metadata": {},
   "source": [
    "### Point 3: \n",
    "Find the lenders that have funded at least twice"
   ]
  },
  {
   "cell_type": "code",
   "execution_count": 14,
   "metadata": {},
   "outputs": [
    {
     "name": "stdout",
     "output_type": "stream",
     "text": [
      "CPU times: user 14.2 s, sys: 560 ms, total: 14.8 s\n",
      "Wall time: 14.9 s\n"
     ]
    }
   ],
   "source": [
    "%%time\n",
    "\n",
    "loans_by_lenders = norm_loan_lenders.groupby('lenders')['loan_id'].count().reset_index(name='fund_count')"
   ]
  },
  {
   "cell_type": "code",
   "execution_count": 15,
   "metadata": {},
   "outputs": [
    {
     "data": {
      "text/html": [
       "<div>\n",
       "<style scoped>\n",
       "    .dataframe tbody tr th:only-of-type {\n",
       "        vertical-align: middle;\n",
       "    }\n",
       "\n",
       "    .dataframe tbody tr th {\n",
       "        vertical-align: top;\n",
       "    }\n",
       "\n",
       "    .dataframe thead th {\n",
       "        text-align: right;\n",
       "    }\n",
       "</style>\n",
       "<table border=\"1\" class=\"dataframe\">\n",
       "  <thead>\n",
       "    <tr style=\"text-align: right;\">\n",
       "      <th></th>\n",
       "      <th>lenders</th>\n",
       "      <th>fund_count</th>\n",
       "    </tr>\n",
       "  </thead>\n",
       "  <tbody>\n",
       "    <tr>\n",
       "      <th>0</th>\n",
       "      <td>000</td>\n",
       "      <td>39</td>\n",
       "    </tr>\n",
       "    <tr>\n",
       "      <th>1</th>\n",
       "      <td>00000</td>\n",
       "      <td>39</td>\n",
       "    </tr>\n",
       "    <tr>\n",
       "      <th>2</th>\n",
       "      <td>0002</td>\n",
       "      <td>70</td>\n",
       "    </tr>\n",
       "    <tr>\n",
       "      <th>4</th>\n",
       "      <td>0101craign0101</td>\n",
       "      <td>71</td>\n",
       "    </tr>\n",
       "    <tr>\n",
       "      <th>5</th>\n",
       "      <td>0132575</td>\n",
       "      <td>4</td>\n",
       "    </tr>\n",
       "    <tr>\n",
       "      <th>6</th>\n",
       "      <td>0154884</td>\n",
       "      <td>4</td>\n",
       "    </tr>\n",
       "    <tr>\n",
       "      <th>7</th>\n",
       "      <td>0161130</td>\n",
       "      <td>2</td>\n",
       "    </tr>\n",
       "    <tr>\n",
       "      <th>8</th>\n",
       "      <td>0169713</td>\n",
       "      <td>3</td>\n",
       "    </tr>\n",
       "    <tr>\n",
       "      <th>9</th>\n",
       "      <td>0185429</td>\n",
       "      <td>2</td>\n",
       "    </tr>\n",
       "    <tr>\n",
       "      <th>11</th>\n",
       "      <td>0206338</td>\n",
       "      <td>2</td>\n",
       "    </tr>\n",
       "    <tr>\n",
       "      <th>12</th>\n",
       "      <td>0219854</td>\n",
       "      <td>3</td>\n",
       "    </tr>\n",
       "    <tr>\n",
       "      <th>13</th>\n",
       "      <td>0221581</td>\n",
       "      <td>2</td>\n",
       "    </tr>\n",
       "    <tr>\n",
       "      <th>14</th>\n",
       "      <td>0239059</td>\n",
       "      <td>2</td>\n",
       "    </tr>\n",
       "    <tr>\n",
       "      <th>16</th>\n",
       "      <td>0256321</td>\n",
       "      <td>2</td>\n",
       "    </tr>\n",
       "    <tr>\n",
       "      <th>17</th>\n",
       "      <td>0265562</td>\n",
       "      <td>2</td>\n",
       "    </tr>\n",
       "  </tbody>\n",
       "</table>\n",
       "</div>"
      ],
      "text/plain": [
       "            lenders  fund_count\n",
       "0               000          39\n",
       "1             00000          39\n",
       "2              0002          70\n",
       "4    0101craign0101          71\n",
       "5           0132575           4\n",
       "6           0154884           4\n",
       "7           0161130           2\n",
       "8           0169713           3\n",
       "9           0185429           2\n",
       "11          0206338           2\n",
       "12          0219854           3\n",
       "13          0221581           2\n",
       "14          0239059           2\n",
       "16          0256321           2\n",
       "17          0265562           2"
      ]
     },
     "execution_count": 15,
     "metadata": {},
     "output_type": "execute_result"
    }
   ],
   "source": [
    "loans_by_lenders[loans_by_lenders.fund_count > 1].head(15)"
   ]
  },
  {
   "cell_type": "markdown",
   "metadata": {},
   "source": [
    "### Point 4: \n",
    "For each country, compute how many loans have involved that country as borrowers"
   ]
  },
  {
   "cell_type": "markdown",
   "metadata": {},
   "source": [
    "### Point 5: \n",
    "For each country, compute the overall amount of money borrowed"
   ]
  },
  {
   "cell_type": "markdown",
   "metadata": {},
   "source": [
    "### Point 6: \n",
    "Like the previous point, but expressed as a percentage of the overall amount lent"
   ]
  },
  {
   "cell_type": "code",
   "execution_count": 16,
   "metadata": {},
   "outputs": [],
   "source": [
    "def borrow_summary(dimension: str) -> pd.DataFrame:\n",
    "    grouped = loans.groupby(dimension)\n",
    "    borrow_summary = grouped['loan_id'].count().reset_index(name='borrow_count')\n",
    "    borrow_summary['overall_amount_borrowed'] = grouped['loan_amount'].sum().reset_index()['loan_amount']\n",
    "    overall_amount_lent = loans['loan_amount'].sum()\n",
    "    borrow_summary['overall_amount_borrowed/total'] = (borrow_summary['overall_amount_borrowed'] / overall_amount_lent) * 100\n",
    "    return borrow_summary"
   ]
  },
  {
   "cell_type": "code",
   "execution_count": 17,
   "metadata": {},
   "outputs": [],
   "source": [
    "borrow_by_country = borrow_summary('country_code')"
   ]
  },
  {
   "cell_type": "code",
   "execution_count": 18,
   "metadata": {},
   "outputs": [
    {
     "data": {
      "text/html": [
       "<div>\n",
       "<style scoped>\n",
       "    .dataframe tbody tr th:only-of-type {\n",
       "        vertical-align: middle;\n",
       "    }\n",
       "\n",
       "    .dataframe tbody tr th {\n",
       "        vertical-align: top;\n",
       "    }\n",
       "\n",
       "    .dataframe thead th {\n",
       "        text-align: right;\n",
       "    }\n",
       "</style>\n",
       "<table border=\"1\" class=\"dataframe\">\n",
       "  <thead>\n",
       "    <tr style=\"text-align: right;\">\n",
       "      <th></th>\n",
       "      <th>country_code</th>\n",
       "      <th>borrow_count</th>\n",
       "      <th>overall_amount_borrowed</th>\n",
       "      <th>overall_amount_borrowed/total</th>\n",
       "    </tr>\n",
       "  </thead>\n",
       "  <tbody>\n",
       "    <tr>\n",
       "      <th>0</th>\n",
       "      <td>AF</td>\n",
       "      <td>2337</td>\n",
       "      <td>1967950.00000</td>\n",
       "      <td>0.16657</td>\n",
       "    </tr>\n",
       "    <tr>\n",
       "      <th>1</th>\n",
       "      <td>AL</td>\n",
       "      <td>3075</td>\n",
       "      <td>4307350.00000</td>\n",
       "      <td>0.36459</td>\n",
       "    </tr>\n",
       "    <tr>\n",
       "      <th>2</th>\n",
       "      <td>AM</td>\n",
       "      <td>13952</td>\n",
       "      <td>22950475.00000</td>\n",
       "      <td>1.94259</td>\n",
       "    </tr>\n",
       "    <tr>\n",
       "      <th>3</th>\n",
       "      <td>AZ</td>\n",
       "      <td>10172</td>\n",
       "      <td>14784625.00000</td>\n",
       "      <td>1.25141</td>\n",
       "    </tr>\n",
       "    <tr>\n",
       "      <th>4</th>\n",
       "      <td>BA</td>\n",
       "      <td>608</td>\n",
       "      <td>477250.00000</td>\n",
       "      <td>0.04040</td>\n",
       "    </tr>\n",
       "    <tr>\n",
       "      <th>5</th>\n",
       "      <td>BF</td>\n",
       "      <td>3489</td>\n",
       "      <td>4085200.00000</td>\n",
       "      <td>0.34578</td>\n",
       "    </tr>\n",
       "    <tr>\n",
       "      <th>6</th>\n",
       "      <td>BG</td>\n",
       "      <td>296</td>\n",
       "      <td>375300.00000</td>\n",
       "      <td>0.03177</td>\n",
       "    </tr>\n",
       "    <tr>\n",
       "      <th>7</th>\n",
       "      <td>BI</td>\n",
       "      <td>1727</td>\n",
       "      <td>5233450.00000</td>\n",
       "      <td>0.44297</td>\n",
       "    </tr>\n",
       "    <tr>\n",
       "      <th>8</th>\n",
       "      <td>BJ</td>\n",
       "      <td>5946</td>\n",
       "      <td>3865825.00000</td>\n",
       "      <td>0.32721</td>\n",
       "    </tr>\n",
       "    <tr>\n",
       "      <th>9</th>\n",
       "      <td>BO</td>\n",
       "      <td>25250</td>\n",
       "      <td>44226725.00000</td>\n",
       "      <td>3.74347</td>\n",
       "    </tr>\n",
       "    <tr>\n",
       "      <th>10</th>\n",
       "      <td>BR</td>\n",
       "      <td>482</td>\n",
       "      <td>1192325.00000</td>\n",
       "      <td>0.10092</td>\n",
       "    </tr>\n",
       "    <tr>\n",
       "      <th>11</th>\n",
       "      <td>BT</td>\n",
       "      <td>2</td>\n",
       "      <td>20000.00000</td>\n",
       "      <td>0.00169</td>\n",
       "    </tr>\n",
       "    <tr>\n",
       "      <th>12</th>\n",
       "      <td>BW</td>\n",
       "      <td>1</td>\n",
       "      <td>8000.00000</td>\n",
       "      <td>0.00068</td>\n",
       "    </tr>\n",
       "    <tr>\n",
       "      <th>13</th>\n",
       "      <td>BZ</td>\n",
       "      <td>218</td>\n",
       "      <td>150175.00000</td>\n",
       "      <td>0.01271</td>\n",
       "    </tr>\n",
       "    <tr>\n",
       "      <th>14</th>\n",
       "      <td>CA</td>\n",
       "      <td>1</td>\n",
       "      <td>50000.00000</td>\n",
       "      <td>0.00423</td>\n",
       "    </tr>\n",
       "  </tbody>\n",
       "</table>\n",
       "</div>"
      ],
      "text/plain": [
       "   country_code  borrow_count  overall_amount_borrowed  \\\n",
       "0            AF          2337            1967950.00000   \n",
       "1            AL          3075            4307350.00000   \n",
       "2            AM         13952           22950475.00000   \n",
       "3            AZ         10172           14784625.00000   \n",
       "4            BA           608             477250.00000   \n",
       "5            BF          3489            4085200.00000   \n",
       "6            BG           296             375300.00000   \n",
       "7            BI          1727            5233450.00000   \n",
       "8            BJ          5946            3865825.00000   \n",
       "9            BO         25250           44226725.00000   \n",
       "10           BR           482            1192325.00000   \n",
       "11           BT             2              20000.00000   \n",
       "12           BW             1               8000.00000   \n",
       "13           BZ           218             150175.00000   \n",
       "14           CA             1              50000.00000   \n",
       "\n",
       "    overall_amount_borrowed/total  \n",
       "0                         0.16657  \n",
       "1                         0.36459  \n",
       "2                         1.94259  \n",
       "3                         1.25141  \n",
       "4                         0.04040  \n",
       "5                         0.34578  \n",
       "6                         0.03177  \n",
       "7                         0.44297  \n",
       "8                         0.32721  \n",
       "9                         3.74347  \n",
       "10                        0.10092  \n",
       "11                        0.00169  \n",
       "12                        0.00068  \n",
       "13                        0.01271  \n",
       "14                        0.00423  "
      ]
     },
     "execution_count": 18,
     "metadata": {},
     "output_type": "execute_result"
    }
   ],
   "source": [
    "borrow_by_country.head(15)"
   ]
  },
  {
   "cell_type": "code",
   "execution_count": 19,
   "metadata": {},
   "outputs": [
    {
     "data": {
      "text/html": [
       "<div>\n",
       "<style scoped>\n",
       "    .dataframe tbody tr th:only-of-type {\n",
       "        vertical-align: middle;\n",
       "    }\n",
       "\n",
       "    .dataframe tbody tr th {\n",
       "        vertical-align: top;\n",
       "    }\n",
       "\n",
       "    .dataframe thead th {\n",
       "        text-align: right;\n",
       "    }\n",
       "</style>\n",
       "<table border=\"1\" class=\"dataframe\">\n",
       "  <thead>\n",
       "    <tr style=\"text-align: right;\">\n",
       "      <th></th>\n",
       "      <th>borrow_count</th>\n",
       "      <th>overall_amount_borrowed</th>\n",
       "      <th>overall_amount_borrowed/total</th>\n",
       "    </tr>\n",
       "  </thead>\n",
       "  <tbody>\n",
       "    <tr>\n",
       "      <th>count</th>\n",
       "      <td>95.00000</td>\n",
       "      <td>95.00000</td>\n",
       "      <td>95.00000</td>\n",
       "    </tr>\n",
       "    <tr>\n",
       "      <th>mean</th>\n",
       "      <td>14943.13684</td>\n",
       "      <td>12435766.05263</td>\n",
       "      <td>1.05260</td>\n",
       "    </tr>\n",
       "    <tr>\n",
       "      <th>std</th>\n",
       "      <td>35149.88448</td>\n",
       "      <td>18263180.36163</td>\n",
       "      <td>1.54584</td>\n",
       "    </tr>\n",
       "    <tr>\n",
       "      <th>min</th>\n",
       "      <td>1.00000</td>\n",
       "      <td>5000.00000</td>\n",
       "      <td>0.00042</td>\n",
       "    </tr>\n",
       "    <tr>\n",
       "      <th>25%</th>\n",
       "      <td>545.00000</td>\n",
       "      <td>752525.00000</td>\n",
       "      <td>0.06370</td>\n",
       "    </tr>\n",
       "    <tr>\n",
       "      <th>50%</th>\n",
       "      <td>4681.00000</td>\n",
       "      <td>4181100.00000</td>\n",
       "      <td>0.35390</td>\n",
       "    </tr>\n",
       "    <tr>\n",
       "      <th>75%</th>\n",
       "      <td>15117.00000</td>\n",
       "      <td>16728425.00000</td>\n",
       "      <td>1.41594</td>\n",
       "    </tr>\n",
       "    <tr>\n",
       "      <th>max</th>\n",
       "      <td>285336.00000</td>\n",
       "      <td>97984600.00000</td>\n",
       "      <td>8.29368</td>\n",
       "    </tr>\n",
       "  </tbody>\n",
       "</table>\n",
       "</div>"
      ],
      "text/plain": [
       "       borrow_count  overall_amount_borrowed  overall_amount_borrowed/total\n",
       "count      95.00000                 95.00000                       95.00000\n",
       "mean    14943.13684           12435766.05263                        1.05260\n",
       "std     35149.88448           18263180.36163                        1.54584\n",
       "min         1.00000               5000.00000                        0.00042\n",
       "25%       545.00000             752525.00000                        0.06370\n",
       "50%      4681.00000            4181100.00000                        0.35390\n",
       "75%     15117.00000           16728425.00000                        1.41594\n",
       "max    285336.00000           97984600.00000                        8.29368"
      ]
     },
     "execution_count": 19,
     "metadata": {},
     "output_type": "execute_result"
    }
   ],
   "source": [
    "borrow_by_country.describe()"
   ]
  },
  {
   "cell_type": "markdown",
   "metadata": {},
   "source": [
    "### Point 7: \n",
    "Like the three previous points, but split for each year (with respect to disburse_time)"
   ]
  },
  {
   "cell_type": "code",
   "execution_count": 20,
   "metadata": {},
   "outputs": [],
   "source": [
    "borrow_by_year = borrow_summary(loans['disburse_time'].dt.year)"
   ]
  },
  {
   "cell_type": "code",
   "execution_count": 21,
   "metadata": {},
   "outputs": [
    {
     "data": {
      "text/html": [
       "<div>\n",
       "<style scoped>\n",
       "    .dataframe tbody tr th:only-of-type {\n",
       "        vertical-align: middle;\n",
       "    }\n",
       "\n",
       "    .dataframe tbody tr th {\n",
       "        vertical-align: top;\n",
       "    }\n",
       "\n",
       "    .dataframe thead th {\n",
       "        text-align: right;\n",
       "    }\n",
       "</style>\n",
       "<table border=\"1\" class=\"dataframe\">\n",
       "  <thead>\n",
       "    <tr style=\"text-align: right;\">\n",
       "      <th></th>\n",
       "      <th>disburse_time</th>\n",
       "      <th>borrow_count</th>\n",
       "      <th>overall_amount_borrowed</th>\n",
       "      <th>overall_amount_borrowed/total</th>\n",
       "    </tr>\n",
       "  </thead>\n",
       "  <tbody>\n",
       "    <tr>\n",
       "      <th>0</th>\n",
       "      <td>2005.00000</td>\n",
       "      <td>203</td>\n",
       "      <td>102850.00000</td>\n",
       "      <td>0.00871</td>\n",
       "    </tr>\n",
       "    <tr>\n",
       "      <th>1</th>\n",
       "      <td>2006.00000</td>\n",
       "      <td>2172</td>\n",
       "      <td>1376575.00000</td>\n",
       "      <td>0.11652</td>\n",
       "    </tr>\n",
       "    <tr>\n",
       "      <th>2</th>\n",
       "      <td>2007.00000</td>\n",
       "      <td>24400</td>\n",
       "      <td>15446525.00000</td>\n",
       "      <td>1.30744</td>\n",
       "    </tr>\n",
       "    <tr>\n",
       "      <th>3</th>\n",
       "      <td>2008.00000</td>\n",
       "      <td>54586</td>\n",
       "      <td>39423050.00000</td>\n",
       "      <td>3.33687</td>\n",
       "    </tr>\n",
       "    <tr>\n",
       "      <th>4</th>\n",
       "      <td>2009.00000</td>\n",
       "      <td>83076</td>\n",
       "      <td>59689475.00000</td>\n",
       "      <td>5.05228</td>\n",
       "    </tr>\n",
       "    <tr>\n",
       "      <th>5</th>\n",
       "      <td>2010.00000</td>\n",
       "      <td>93466</td>\n",
       "      <td>72609150.00000</td>\n",
       "      <td>6.14583</td>\n",
       "    </tr>\n",
       "    <tr>\n",
       "      <th>6</th>\n",
       "      <td>2011.00000</td>\n",
       "      <td>114540</td>\n",
       "      <td>93699300.00000</td>\n",
       "      <td>7.93096</td>\n",
       "    </tr>\n",
       "    <tr>\n",
       "      <th>7</th>\n",
       "      <td>2012.00000</td>\n",
       "      <td>133650</td>\n",
       "      <td>119977575.00000</td>\n",
       "      <td>10.15522</td>\n",
       "    </tr>\n",
       "    <tr>\n",
       "      <th>8</th>\n",
       "      <td>2013.00000</td>\n",
       "      <td>140167</td>\n",
       "      <td>132043925.00000</td>\n",
       "      <td>11.17655</td>\n",
       "    </tr>\n",
       "    <tr>\n",
       "      <th>9</th>\n",
       "      <td>2014.00000</td>\n",
       "      <td>172709</td>\n",
       "      <td>152270425.00000</td>\n",
       "      <td>12.88857</td>\n",
       "    </tr>\n",
       "    <tr>\n",
       "      <th>10</th>\n",
       "      <td>2015.00000</td>\n",
       "      <td>183671</td>\n",
       "      <td>155835650.00000</td>\n",
       "      <td>13.19034</td>\n",
       "    </tr>\n",
       "    <tr>\n",
       "      <th>11</th>\n",
       "      <td>2016.00000</td>\n",
       "      <td>197187</td>\n",
       "      <td>160978375.00000</td>\n",
       "      <td>13.62564</td>\n",
       "    </tr>\n",
       "    <tr>\n",
       "      <th>12</th>\n",
       "      <td>2017.00000</td>\n",
       "      <td>216003</td>\n",
       "      <td>166053650.00000</td>\n",
       "      <td>14.05522</td>\n",
       "    </tr>\n",
       "    <tr>\n",
       "      <th>13</th>\n",
       "      <td>2018.00000</td>\n",
       "      <td>964</td>\n",
       "      <td>990025.00000</td>\n",
       "      <td>0.08380</td>\n",
       "    </tr>\n",
       "  </tbody>\n",
       "</table>\n",
       "</div>"
      ],
      "text/plain": [
       "    disburse_time  borrow_count  overall_amount_borrowed  \\\n",
       "0      2005.00000           203             102850.00000   \n",
       "1      2006.00000          2172            1376575.00000   \n",
       "2      2007.00000         24400           15446525.00000   \n",
       "3      2008.00000         54586           39423050.00000   \n",
       "4      2009.00000         83076           59689475.00000   \n",
       "5      2010.00000         93466           72609150.00000   \n",
       "6      2011.00000        114540           93699300.00000   \n",
       "7      2012.00000        133650          119977575.00000   \n",
       "8      2013.00000        140167          132043925.00000   \n",
       "9      2014.00000        172709          152270425.00000   \n",
       "10     2015.00000        183671          155835650.00000   \n",
       "11     2016.00000        197187          160978375.00000   \n",
       "12     2017.00000        216003          166053650.00000   \n",
       "13     2018.00000           964             990025.00000   \n",
       "\n",
       "    overall_amount_borrowed/total  \n",
       "0                         0.00871  \n",
       "1                         0.11652  \n",
       "2                         1.30744  \n",
       "3                         3.33687  \n",
       "4                         5.05228  \n",
       "5                         6.14583  \n",
       "6                         7.93096  \n",
       "7                        10.15522  \n",
       "8                        11.17655  \n",
       "9                        12.88857  \n",
       "10                       13.19034  \n",
       "11                       13.62564  \n",
       "12                       14.05522  \n",
       "13                        0.08380  "
      ]
     },
     "execution_count": 21,
     "metadata": {},
     "output_type": "execute_result"
    }
   ],
   "source": [
    "borrow_by_year"
   ]
  },
  {
   "cell_type": "markdown",
   "metadata": {},
   "source": [
    "### Point 8: \n",
    "For each lender, compute the overall amount of money lent. For each loan that has more than one lender, you must assume that all lenders contributed the same amount.\n"
   ]
  },
  {
   "cell_type": "code",
   "execution_count": 22,
   "metadata": {},
   "outputs": [],
   "source": [
    "loans['base_contribution'] = loans.loan_amount / loans.num_lenders_total"
   ]
  },
  {
   "cell_type": "code",
   "execution_count": 23,
   "metadata": {},
   "outputs": [],
   "source": [
    "ids = set(loans.loan_id) - set(loan_lenders.loan_id)\n",
    "ids2 = set(loan_lenders.loan_id) - set(loans.loan_id)\n"
   ]
  },
  {
   "cell_type": "code",
   "execution_count": 24,
   "metadata": {},
   "outputs": [],
   "source": [
    "loans_cleaned = loans[(loans.num_lenders_total > 0) & (~loans.loan_id.isin(ids))] ### verify maybe useless"
   ]
  },
  {
   "cell_type": "code",
   "execution_count": 25,
   "metadata": {},
   "outputs": [],
   "source": [
    "norm_cleaned = norm_loan_lenders[~norm_loan_lenders.loan_id.isin(ids2)] ### verify maybe useless"
   ]
  },
  {
   "cell_type": "code",
   "execution_count": 26,
   "metadata": {},
   "outputs": [
    {
     "name": "stdout",
     "output_type": "stream",
     "text": [
      "CPU times: user 4.25 s, sys: 1.83 s, total: 6.07 s\n",
      "Wall time: 6.42 s\n"
     ]
    }
   ],
   "source": [
    "%%time\n",
    "\n",
    "joined = pd.concat([norm_cleaned.set_index('loan_id'), loans_cleaned.set_index('loan_id')], axis=1, join='inner')"
   ]
  },
  {
   "cell_type": "code",
   "execution_count": 27,
   "metadata": {},
   "outputs": [],
   "source": [
    "overall_amount_per_lender = joined.groupby('lenders')['base_contribution'].sum().reset_index(name='overall_amount_lent')"
   ]
  },
  {
   "cell_type": "code",
   "execution_count": 28,
   "metadata": {},
   "outputs": [
    {
     "data": {
      "text/html": [
       "<div>\n",
       "<style scoped>\n",
       "    .dataframe tbody tr th:only-of-type {\n",
       "        vertical-align: middle;\n",
       "    }\n",
       "\n",
       "    .dataframe tbody tr th {\n",
       "        vertical-align: top;\n",
       "    }\n",
       "\n",
       "    .dataframe thead th {\n",
       "        text-align: right;\n",
       "    }\n",
       "</style>\n",
       "<table border=\"1\" class=\"dataframe\">\n",
       "  <thead>\n",
       "    <tr style=\"text-align: right;\">\n",
       "      <th></th>\n",
       "      <th>lenders</th>\n",
       "      <th>overall_amount_lent</th>\n",
       "    </tr>\n",
       "  </thead>\n",
       "  <tbody>\n",
       "    <tr>\n",
       "      <th>0</th>\n",
       "      <td>000</td>\n",
       "      <td>1485.30966</td>\n",
       "    </tr>\n",
       "    <tr>\n",
       "      <th>1</th>\n",
       "      <td>00000</td>\n",
       "      <td>1249.94736</td>\n",
       "    </tr>\n",
       "    <tr>\n",
       "      <th>2</th>\n",
       "      <td>0002</td>\n",
       "      <td>2201.18046</td>\n",
       "    </tr>\n",
       "    <tr>\n",
       "      <th>3</th>\n",
       "      <td>00mike00</td>\n",
       "      <td>38.46154</td>\n",
       "    </tr>\n",
       "    <tr>\n",
       "      <th>4</th>\n",
       "      <td>0101craign0101</td>\n",
       "      <td>2424.08893</td>\n",
       "    </tr>\n",
       "    <tr>\n",
       "      <th>5</th>\n",
       "      <td>0132575</td>\n",
       "      <td>113.58770</td>\n",
       "    </tr>\n",
       "    <tr>\n",
       "      <th>6</th>\n",
       "      <td>0154884</td>\n",
       "      <td>122.07768</td>\n",
       "    </tr>\n",
       "    <tr>\n",
       "      <th>7</th>\n",
       "      <td>0161130</td>\n",
       "      <td>52.73973</td>\n",
       "    </tr>\n",
       "    <tr>\n",
       "      <th>8</th>\n",
       "      <td>0169713</td>\n",
       "      <td>90.68987</td>\n",
       "    </tr>\n",
       "    <tr>\n",
       "      <th>9</th>\n",
       "      <td>0185429</td>\n",
       "      <td>52.86378</td>\n",
       "    </tr>\n",
       "    <tr>\n",
       "      <th>10</th>\n",
       "      <td>0197462</td>\n",
       "      <td>32.81250</td>\n",
       "    </tr>\n",
       "    <tr>\n",
       "      <th>11</th>\n",
       "      <td>0206338</td>\n",
       "      <td>58.06452</td>\n",
       "    </tr>\n",
       "    <tr>\n",
       "      <th>12</th>\n",
       "      <td>0219854</td>\n",
       "      <td>88.17617</td>\n",
       "    </tr>\n",
       "    <tr>\n",
       "      <th>13</th>\n",
       "      <td>0221581</td>\n",
       "      <td>56.57895</td>\n",
       "    </tr>\n",
       "    <tr>\n",
       "      <th>14</th>\n",
       "      <td>0239059</td>\n",
       "      <td>57.05645</td>\n",
       "    </tr>\n",
       "  </tbody>\n",
       "</table>\n",
       "</div>"
      ],
      "text/plain": [
       "            lenders  overall_amount_lent\n",
       "0               000           1485.30966\n",
       "1             00000           1249.94736\n",
       "2              0002           2201.18046\n",
       "3          00mike00             38.46154\n",
       "4    0101craign0101           2424.08893\n",
       "5           0132575            113.58770\n",
       "6           0154884            122.07768\n",
       "7           0161130             52.73973\n",
       "8           0169713             90.68987\n",
       "9           0185429             52.86378\n",
       "10          0197462             32.81250\n",
       "11          0206338             58.06452\n",
       "12          0219854             88.17617\n",
       "13          0221581             56.57895\n",
       "14          0239059             57.05645"
      ]
     },
     "execution_count": 28,
     "metadata": {},
     "output_type": "execute_result"
    }
   ],
   "source": [
    "overall_amount_per_lender.head(15)"
   ]
  },
  {
   "cell_type": "code",
   "execution_count": 29,
   "metadata": {},
   "outputs": [
    {
     "data": {
      "text/html": [
       "<div>\n",
       "<style scoped>\n",
       "    .dataframe tbody tr th:only-of-type {\n",
       "        vertical-align: middle;\n",
       "    }\n",
       "\n",
       "    .dataframe tbody tr th {\n",
       "        vertical-align: top;\n",
       "    }\n",
       "\n",
       "    .dataframe thead th {\n",
       "        text-align: right;\n",
       "    }\n",
       "</style>\n",
       "<table border=\"1\" class=\"dataframe\">\n",
       "  <thead>\n",
       "    <tr style=\"text-align: right;\">\n",
       "      <th></th>\n",
       "      <th>lenders</th>\n",
       "      <th>overall_amount_lent</th>\n",
       "    </tr>\n",
       "  </thead>\n",
       "  <tbody>\n",
       "    <tr>\n",
       "      <th>1639011</th>\n",
       "      <td>zvi</td>\n",
       "      <td>370.57695</td>\n",
       "    </tr>\n",
       "    <tr>\n",
       "      <th>1639012</th>\n",
       "      <td>zvi1263</td>\n",
       "      <td>28.84615</td>\n",
       "    </tr>\n",
       "    <tr>\n",
       "      <th>1639013</th>\n",
       "      <td>zvika5974</td>\n",
       "      <td>35.71429</td>\n",
       "    </tr>\n",
       "    <tr>\n",
       "      <th>1639014</th>\n",
       "      <td>zvonimir7460</td>\n",
       "      <td>34.37500</td>\n",
       "    </tr>\n",
       "    <tr>\n",
       "      <th>1639015</th>\n",
       "      <td>zx147</td>\n",
       "      <td>177.17835</td>\n",
       "    </tr>\n",
       "    <tr>\n",
       "      <th>1639016</th>\n",
       "      <td>zyra9641</td>\n",
       "      <td>26.88679</td>\n",
       "    </tr>\n",
       "    <tr>\n",
       "      <th>1639017</th>\n",
       "      <td>zyrah8525</td>\n",
       "      <td>166.69643</td>\n",
       "    </tr>\n",
       "    <tr>\n",
       "      <th>1639018</th>\n",
       "      <td>zyrorl</td>\n",
       "      <td>92.59959</td>\n",
       "    </tr>\n",
       "    <tr>\n",
       "      <th>1639019</th>\n",
       "      <td>zzaba</td>\n",
       "      <td>25.00000</td>\n",
       "    </tr>\n",
       "    <tr>\n",
       "      <th>1639020</th>\n",
       "      <td>zzaman</td>\n",
       "      <td>642.25094</td>\n",
       "    </tr>\n",
       "    <tr>\n",
       "      <th>1639021</th>\n",
       "      <td>zzanita</td>\n",
       "      <td>62.50000</td>\n",
       "    </tr>\n",
       "    <tr>\n",
       "      <th>1639022</th>\n",
       "      <td>zzcyna7269</td>\n",
       "      <td>44.28571</td>\n",
       "    </tr>\n",
       "    <tr>\n",
       "      <th>1639023</th>\n",
       "      <td>zzinnia</td>\n",
       "      <td>32.75862</td>\n",
       "    </tr>\n",
       "    <tr>\n",
       "      <th>1639024</th>\n",
       "      <td>zzmcfate</td>\n",
       "      <td>2033.75020</td>\n",
       "    </tr>\n",
       "    <tr>\n",
       "      <th>1639025</th>\n",
       "      <td>zzrvmf8538</td>\n",
       "      <td>112.82051</td>\n",
       "    </tr>\n",
       "  </tbody>\n",
       "</table>\n",
       "</div>"
      ],
      "text/plain": [
       "              lenders  overall_amount_lent\n",
       "1639011           zvi            370.57695\n",
       "1639012       zvi1263             28.84615\n",
       "1639013     zvika5974             35.71429\n",
       "1639014  zvonimir7460             34.37500\n",
       "1639015         zx147            177.17835\n",
       "1639016      zyra9641             26.88679\n",
       "1639017     zyrah8525            166.69643\n",
       "1639018        zyrorl             92.59959\n",
       "1639019         zzaba             25.00000\n",
       "1639020        zzaman            642.25094\n",
       "1639021       zzanita             62.50000\n",
       "1639022    zzcyna7269             44.28571\n",
       "1639023       zzinnia             32.75862\n",
       "1639024      zzmcfate           2033.75020\n",
       "1639025    zzrvmf8538            112.82051"
      ]
     },
     "execution_count": 29,
     "metadata": {},
     "output_type": "execute_result"
    }
   ],
   "source": [
    "overall_amount_per_lender.tail(15)"
   ]
  },
  {
   "cell_type": "code",
   "execution_count": 30,
   "metadata": {},
   "outputs": [
    {
     "data": {
      "text/html": [
       "<div>\n",
       "<style scoped>\n",
       "    .dataframe tbody tr th:only-of-type {\n",
       "        vertical-align: middle;\n",
       "    }\n",
       "\n",
       "    .dataframe tbody tr th {\n",
       "        vertical-align: top;\n",
       "    }\n",
       "\n",
       "    .dataframe thead th {\n",
       "        text-align: right;\n",
       "    }\n",
       "</style>\n",
       "<table border=\"1\" class=\"dataframe\">\n",
       "  <thead>\n",
       "    <tr style=\"text-align: right;\">\n",
       "      <th></th>\n",
       "      <th>overall_amount_lent</th>\n",
       "    </tr>\n",
       "  </thead>\n",
       "  <tbody>\n",
       "    <tr>\n",
       "      <th>count</th>\n",
       "      <td>1639026.00000</td>\n",
       "    </tr>\n",
       "    <tr>\n",
       "      <th>mean</th>\n",
       "      <td>637.10046</td>\n",
       "    </tr>\n",
       "    <tr>\n",
       "      <th>std</th>\n",
       "      <td>12587.00054</td>\n",
       "    </tr>\n",
       "    <tr>\n",
       "      <th>min</th>\n",
       "      <td>5.43478</td>\n",
       "    </tr>\n",
       "    <tr>\n",
       "      <th>25%</th>\n",
       "      <td>33.48962</td>\n",
       "    </tr>\n",
       "    <tr>\n",
       "      <th>50%</th>\n",
       "      <td>88.17220</td>\n",
       "    </tr>\n",
       "    <tr>\n",
       "      <th>75%</th>\n",
       "      <td>289.14772</td>\n",
       "    </tr>\n",
       "    <tr>\n",
       "      <th>max</th>\n",
       "      <td>6296800.48566</td>\n",
       "    </tr>\n",
       "  </tbody>\n",
       "</table>\n",
       "</div>"
      ],
      "text/plain": [
       "       overall_amount_lent\n",
       "count        1639026.00000\n",
       "mean             637.10046\n",
       "std            12587.00054\n",
       "min                5.43478\n",
       "25%               33.48962\n",
       "50%               88.17220\n",
       "75%              289.14772\n",
       "max          6296800.48566"
      ]
     },
     "execution_count": 30,
     "metadata": {},
     "output_type": "execute_result"
    }
   ],
   "source": [
    "overall_amount_per_lender.describe()"
   ]
  },
  {
   "cell_type": "markdown",
   "metadata": {},
   "source": [
    "### Point 9: \n",
    "For each country, compute the difference between the overall amount of money lent and the overall amount of money borrowed. Since the country of the lender is often unknown, you can assume that the true distribution among the countries is the same as the one computed from the rows where the country is known."
   ]
  },
  {
   "cell_type": "code",
   "execution_count": 31,
   "metadata": {},
   "outputs": [
    {
     "data": {
      "text/html": [
       "<div>\n",
       "<style scoped>\n",
       "    .dataframe tbody tr th:only-of-type {\n",
       "        vertical-align: middle;\n",
       "    }\n",
       "\n",
       "    .dataframe tbody tr th {\n",
       "        vertical-align: top;\n",
       "    }\n",
       "\n",
       "    .dataframe thead th {\n",
       "        text-align: right;\n",
       "    }\n",
       "</style>\n",
       "<table border=\"1\" class=\"dataframe\">\n",
       "  <thead>\n",
       "    <tr style=\"text-align: right;\">\n",
       "      <th></th>\n",
       "      <th>country_code</th>\n",
       "      <th>borrow_count</th>\n",
       "      <th>overall_amount_borrowed</th>\n",
       "      <th>overall_amount_borrowed/total</th>\n",
       "    </tr>\n",
       "  </thead>\n",
       "  <tbody>\n",
       "    <tr>\n",
       "      <th>0</th>\n",
       "      <td>AF</td>\n",
       "      <td>2337</td>\n",
       "      <td>1967950.00000</td>\n",
       "      <td>0.16657</td>\n",
       "    </tr>\n",
       "    <tr>\n",
       "      <th>1</th>\n",
       "      <td>AL</td>\n",
       "      <td>3075</td>\n",
       "      <td>4307350.00000</td>\n",
       "      <td>0.36459</td>\n",
       "    </tr>\n",
       "    <tr>\n",
       "      <th>2</th>\n",
       "      <td>AM</td>\n",
       "      <td>13952</td>\n",
       "      <td>22950475.00000</td>\n",
       "      <td>1.94259</td>\n",
       "    </tr>\n",
       "    <tr>\n",
       "      <th>3</th>\n",
       "      <td>AZ</td>\n",
       "      <td>10172</td>\n",
       "      <td>14784625.00000</td>\n",
       "      <td>1.25141</td>\n",
       "    </tr>\n",
       "    <tr>\n",
       "      <th>4</th>\n",
       "      <td>BA</td>\n",
       "      <td>608</td>\n",
       "      <td>477250.00000</td>\n",
       "      <td>0.04040</td>\n",
       "    </tr>\n",
       "  </tbody>\n",
       "</table>\n",
       "</div>"
      ],
      "text/plain": [
       "  country_code  borrow_count  overall_amount_borrowed  \\\n",
       "0           AF          2337            1967950.00000   \n",
       "1           AL          3075            4307350.00000   \n",
       "2           AM         13952           22950475.00000   \n",
       "3           AZ         10172           14784625.00000   \n",
       "4           BA           608             477250.00000   \n",
       "\n",
       "   overall_amount_borrowed/total  \n",
       "0                        0.16657  \n",
       "1                        0.36459  \n",
       "2                        1.94259  \n",
       "3                        1.25141  \n",
       "4                        0.04040  "
      ]
     },
     "execution_count": 31,
     "metadata": {},
     "output_type": "execute_result"
    }
   ],
   "source": [
    "borrow_by_country.head()"
   ]
  },
  {
   "cell_type": "code",
   "execution_count": 32,
   "metadata": {},
   "outputs": [],
   "source": [
    "lenders = pd.read_csv('data/lenders.csv')"
   ]
  },
  {
   "cell_type": "code",
   "execution_count": 33,
   "metadata": {},
   "outputs": [
    {
     "data": {
      "text/plain": [
       "1458635"
      ]
     },
     "execution_count": 33,
     "metadata": {},
     "output_type": "execute_result"
    }
   ],
   "source": [
    "sum(lenders['country_code'].isna()) ### lot of nan's. we must assume "
   ]
  },
  {
   "cell_type": "code",
   "execution_count": 34,
   "metadata": {},
   "outputs": [
    {
     "data": {
      "text/plain": [
       "US    591612\n",
       "CA     67970\n",
       "GB     38380\n",
       "AU     37103\n",
       "DE     16007\n",
       "       ...  \n",
       "KM         1\n",
       "NU         1\n",
       "MS         1\n",
       "TF         1\n",
       "GW         1\n",
       "Name: country_code, Length: 234, dtype: int64"
      ]
     },
     "execution_count": 34,
     "metadata": {},
     "output_type": "execute_result"
    }
   ],
   "source": [
    "lenders['country_code'].dropna().value_counts()"
   ]
  },
  {
   "cell_type": "code",
   "execution_count": 35,
   "metadata": {},
   "outputs": [
    {
     "data": {
      "text/plain": [
       "count     890539\n",
       "unique       234\n",
       "top           US\n",
       "freq      591612\n",
       "Name: country_code, dtype: object"
      ]
     },
     "execution_count": 35,
     "metadata": {},
     "output_type": "execute_result"
    }
   ],
   "source": [
    "lenders['country_code'].dropna().describe()"
   ]
  },
  {
   "cell_type": "code",
   "execution_count": 36,
   "metadata": {},
   "outputs": [],
   "source": [
    "s = lenders.country_code.value_counts(normalize=True)"
   ]
  },
  {
   "cell_type": "code",
   "execution_count": 37,
   "metadata": {},
   "outputs": [],
   "source": [
    "missing = lenders['country_code'].isnull()\n",
    "lenders.loc[missing,'country_code'] = np.random.choice(s.index, size=len(lenders[missing]),p=s.values)"
   ]
  },
  {
   "cell_type": "code",
   "execution_count": 38,
   "metadata": {},
   "outputs": [],
   "source": [
    "overall_amount_per_lender.lenders = overall_amount_per_lender.lenders.str.strip()"
   ]
  },
  {
   "cell_type": "code",
   "execution_count": 39,
   "metadata": {},
   "outputs": [
    {
     "name": "stdout",
     "output_type": "stream",
     "text": [
      "CPU times: user 9.1 s, sys: 402 ms, total: 9.5 s\n",
      "Wall time: 9.61 s\n"
     ]
    }
   ],
   "source": [
    "%%time\n",
    "\n",
    "df4 = pd.concat([overall_amount_per_lender.set_index('lenders'), lenders.set_index('permanent_name')], axis=1, join='inner')"
   ]
  },
  {
   "cell_type": "code",
   "execution_count": 40,
   "metadata": {},
   "outputs": [],
   "source": [
    "lend_by_country = df4.groupby('country_code')['overall_amount_lent'].sum().reset_index(name='overall_amount_lent')"
   ]
  },
  {
   "cell_type": "code",
   "execution_count": 41,
   "metadata": {},
   "outputs": [
    {
     "data": {
      "text/html": [
       "<div>\n",
       "<style scoped>\n",
       "    .dataframe tbody tr th:only-of-type {\n",
       "        vertical-align: middle;\n",
       "    }\n",
       "\n",
       "    .dataframe tbody tr th {\n",
       "        vertical-align: top;\n",
       "    }\n",
       "\n",
       "    .dataframe thead th {\n",
       "        text-align: right;\n",
       "    }\n",
       "</style>\n",
       "<table border=\"1\" class=\"dataframe\">\n",
       "  <thead>\n",
       "    <tr style=\"text-align: right;\">\n",
       "      <th></th>\n",
       "      <th>country_code</th>\n",
       "      <th>overall_amount_lent</th>\n",
       "    </tr>\n",
       "  </thead>\n",
       "  <tbody>\n",
       "    <tr>\n",
       "      <th>0</th>\n",
       "      <td>AD</td>\n",
       "      <td>6143.98773</td>\n",
       "    </tr>\n",
       "    <tr>\n",
       "      <th>1</th>\n",
       "      <td>AE</td>\n",
       "      <td>1820017.66116</td>\n",
       "    </tr>\n",
       "    <tr>\n",
       "      <th>2</th>\n",
       "      <td>AF</td>\n",
       "      <td>150896.02207</td>\n",
       "    </tr>\n",
       "    <tr>\n",
       "      <th>3</th>\n",
       "      <td>AG</td>\n",
       "      <td>1084.30342</td>\n",
       "    </tr>\n",
       "    <tr>\n",
       "      <th>4</th>\n",
       "      <td>AI</td>\n",
       "      <td>1678.48323</td>\n",
       "    </tr>\n",
       "  </tbody>\n",
       "</table>\n",
       "</div>"
      ],
      "text/plain": [
       "  country_code  overall_amount_lent\n",
       "0           AD           6143.98773\n",
       "1           AE        1820017.66116\n",
       "2           AF         150896.02207\n",
       "3           AG           1084.30342\n",
       "4           AI           1678.48323"
      ]
     },
     "execution_count": 41,
     "metadata": {},
     "output_type": "execute_result"
    }
   ],
   "source": [
    "lend_by_country.head()"
   ]
  },
  {
   "cell_type": "code",
   "execution_count": 42,
   "metadata": {},
   "outputs": [
    {
     "data": {
      "text/plain": [
       "96"
      ]
     },
     "execution_count": 42,
     "metadata": {},
     "output_type": "execute_result"
    }
   ],
   "source": [
    "len(loans['country_code'].unique())"
   ]
  },
  {
   "cell_type": "code",
   "execution_count": 43,
   "metadata": {},
   "outputs": [
    {
     "data": {
      "text/plain": [
       "234"
      ]
     },
     "execution_count": 43,
     "metadata": {},
     "output_type": "execute_result"
    }
   ],
   "source": [
    "len(lenders['country_code'].unique())"
   ]
  },
  {
   "cell_type": "code",
   "execution_count": 44,
   "metadata": {},
   "outputs": [],
   "source": [
    "overall_in_out = pd.concat([borrow_by_country.set_index('country_code'), lend_by_country.set_index('country_code')], axis = 1, join='inner')"
   ]
  },
  {
   "cell_type": "code",
   "execution_count": 45,
   "metadata": {},
   "outputs": [],
   "source": [
    "overall_in_out['lent - borrow'] = overall_in_out['overall_amount_lent'] - overall_in_out['overall_amount_borrowed']"
   ]
  },
  {
   "cell_type": "code",
   "execution_count": 46,
   "metadata": {},
   "outputs": [
    {
     "data": {
      "text/html": [
       "<div>\n",
       "<style scoped>\n",
       "    .dataframe tbody tr th:only-of-type {\n",
       "        vertical-align: middle;\n",
       "    }\n",
       "\n",
       "    .dataframe tbody tr th {\n",
       "        vertical-align: top;\n",
       "    }\n",
       "\n",
       "    .dataframe thead th {\n",
       "        text-align: right;\n",
       "    }\n",
       "</style>\n",
       "<table border=\"1\" class=\"dataframe\">\n",
       "  <thead>\n",
       "    <tr style=\"text-align: right;\">\n",
       "      <th></th>\n",
       "      <th>borrow_count</th>\n",
       "      <th>overall_amount_borrowed</th>\n",
       "      <th>overall_amount_borrowed/total</th>\n",
       "      <th>overall_amount_lent</th>\n",
       "      <th>lent - borrow</th>\n",
       "    </tr>\n",
       "    <tr>\n",
       "      <th>country_code</th>\n",
       "      <th></th>\n",
       "      <th></th>\n",
       "      <th></th>\n",
       "      <th></th>\n",
       "      <th></th>\n",
       "    </tr>\n",
       "  </thead>\n",
       "  <tbody>\n",
       "    <tr>\n",
       "      <th>US</th>\n",
       "      <td>9180</td>\n",
       "      <td>46352000.00000</td>\n",
       "      <td>3.92336</td>\n",
       "      <td>639902073.97117</td>\n",
       "      <td>593550073.97117</td>\n",
       "    </tr>\n",
       "    <tr>\n",
       "      <th>CA</th>\n",
       "      <td>1</td>\n",
       "      <td>50000.00000</td>\n",
       "      <td>0.00423</td>\n",
       "      <td>86194321.66328</td>\n",
       "      <td>86144321.66328</td>\n",
       "    </tr>\n",
       "    <tr>\n",
       "      <th>BR</th>\n",
       "      <td>482</td>\n",
       "      <td>1192325.00000</td>\n",
       "      <td>0.10092</td>\n",
       "      <td>2210492.80729</td>\n",
       "      <td>1018167.80729</td>\n",
       "    </tr>\n",
       "    <tr>\n",
       "      <th>CN</th>\n",
       "      <td>134</td>\n",
       "      <td>380525.00000</td>\n",
       "      <td>0.03221</td>\n",
       "      <td>1214252.37336</td>\n",
       "      <td>833727.37336</td>\n",
       "    </tr>\n",
       "    <tr>\n",
       "      <th>TH</th>\n",
       "      <td>247</td>\n",
       "      <td>608925.00000</td>\n",
       "      <td>0.05154</td>\n",
       "      <td>1307955.98905</td>\n",
       "      <td>699030.98905</td>\n",
       "    </tr>\n",
       "    <tr>\n",
       "      <th>VU</th>\n",
       "      <td>4</td>\n",
       "      <td>9250.00000</td>\n",
       "      <td>0.00078</td>\n",
       "      <td>296884.26029</td>\n",
       "      <td>287634.26029</td>\n",
       "    </tr>\n",
       "    <tr>\n",
       "      <th>UY</th>\n",
       "      <td>1</td>\n",
       "      <td>8000.00000</td>\n",
       "      <td>0.00068</td>\n",
       "      <td>102445.12745</td>\n",
       "      <td>94445.12745</td>\n",
       "    </tr>\n",
       "    <tr>\n",
       "      <th>VI</th>\n",
       "      <td>2</td>\n",
       "      <td>10000.00000</td>\n",
       "      <td>0.00085</td>\n",
       "      <td>20862.87531</td>\n",
       "      <td>10862.87531</td>\n",
       "    </tr>\n",
       "    <tr>\n",
       "      <th>GU</th>\n",
       "      <td>4</td>\n",
       "      <td>17300.00000</td>\n",
       "      <td>0.00146</td>\n",
       "      <td>26433.72682</td>\n",
       "      <td>9133.72682</td>\n",
       "    </tr>\n",
       "    <tr>\n",
       "      <th>BW</th>\n",
       "      <td>1</td>\n",
       "      <td>8000.00000</td>\n",
       "      <td>0.00068</td>\n",
       "      <td>9876.96392</td>\n",
       "      <td>1876.96392</td>\n",
       "    </tr>\n",
       "    <tr>\n",
       "      <th>GZ</th>\n",
       "      <td>8</td>\n",
       "      <td>5000.00000</td>\n",
       "      <td>0.00042</td>\n",
       "      <td>1337.33758</td>\n",
       "      <td>-3662.66242</td>\n",
       "    </tr>\n",
       "    <tr>\n",
       "      <th>LK</th>\n",
       "      <td>264</td>\n",
       "      <td>74800.00000</td>\n",
       "      <td>0.00633</td>\n",
       "      <td>62628.58842</td>\n",
       "      <td>-12171.41158</td>\n",
       "    </tr>\n",
       "    <tr>\n",
       "      <th>MR</th>\n",
       "      <td>1</td>\n",
       "      <td>15000.00000</td>\n",
       "      <td>0.00127</td>\n",
       "      <td>252.59076</td>\n",
       "      <td>-14747.40924</td>\n",
       "    </tr>\n",
       "    <tr>\n",
       "      <th>BT</th>\n",
       "      <td>2</td>\n",
       "      <td>20000.00000</td>\n",
       "      <td>0.00169</td>\n",
       "      <td>1084.81889</td>\n",
       "      <td>-18915.18111</td>\n",
       "    </tr>\n",
       "    <tr>\n",
       "      <th>VC</th>\n",
       "      <td>16</td>\n",
       "      <td>49225.00000</td>\n",
       "      <td>0.00417</td>\n",
       "      <td>8293.80671</td>\n",
       "      <td>-40931.19329</td>\n",
       "    </tr>\n",
       "    <tr>\n",
       "      <th>PG</th>\n",
       "      <td>1</td>\n",
       "      <td>50000.00000</td>\n",
       "      <td>0.00423</td>\n",
       "      <td>6095.30361</td>\n",
       "      <td>-43904.69639</td>\n",
       "    </tr>\n",
       "    <tr>\n",
       "      <th>PR</th>\n",
       "      <td>80</td>\n",
       "      <td>441900.00000</td>\n",
       "      <td>0.03740</td>\n",
       "      <td>329201.30814</td>\n",
       "      <td>-112698.69186</td>\n",
       "    </tr>\n",
       "    <tr>\n",
       "      <th>IL</th>\n",
       "      <td>464</td>\n",
       "      <td>1732725.00000</td>\n",
       "      <td>0.14666</td>\n",
       "      <td>1606476.06893</td>\n",
       "      <td>-126248.93107</td>\n",
       "    </tr>\n",
       "    <tr>\n",
       "      <th>BZ</th>\n",
       "      <td>218</td>\n",
       "      <td>150175.00000</td>\n",
       "      <td>0.01271</td>\n",
       "      <td>23883.92907</td>\n",
       "      <td>-126291.07093</td>\n",
       "    </tr>\n",
       "    <tr>\n",
       "      <th>BG</th>\n",
       "      <td>296</td>\n",
       "      <td>375300.00000</td>\n",
       "      <td>0.03177</td>\n",
       "      <td>227573.51111</td>\n",
       "      <td>-147726.48889</td>\n",
       "    </tr>\n",
       "  </tbody>\n",
       "</table>\n",
       "</div>"
      ],
      "text/plain": [
       "              borrow_count  overall_amount_borrowed  \\\n",
       "country_code                                          \n",
       "US                    9180           46352000.00000   \n",
       "CA                       1              50000.00000   \n",
       "BR                     482            1192325.00000   \n",
       "CN                     134             380525.00000   \n",
       "TH                     247             608925.00000   \n",
       "VU                       4               9250.00000   \n",
       "UY                       1               8000.00000   \n",
       "VI                       2              10000.00000   \n",
       "GU                       4              17300.00000   \n",
       "BW                       1               8000.00000   \n",
       "GZ                       8               5000.00000   \n",
       "LK                     264              74800.00000   \n",
       "MR                       1              15000.00000   \n",
       "BT                       2              20000.00000   \n",
       "VC                      16              49225.00000   \n",
       "PG                       1              50000.00000   \n",
       "PR                      80             441900.00000   \n",
       "IL                     464            1732725.00000   \n",
       "BZ                     218             150175.00000   \n",
       "BG                     296             375300.00000   \n",
       "\n",
       "              overall_amount_borrowed/total  overall_amount_lent  \\\n",
       "country_code                                                       \n",
       "US                                  3.92336      639902073.97117   \n",
       "CA                                  0.00423       86194321.66328   \n",
       "BR                                  0.10092        2210492.80729   \n",
       "CN                                  0.03221        1214252.37336   \n",
       "TH                                  0.05154        1307955.98905   \n",
       "VU                                  0.00078         296884.26029   \n",
       "UY                                  0.00068         102445.12745   \n",
       "VI                                  0.00085          20862.87531   \n",
       "GU                                  0.00146          26433.72682   \n",
       "BW                                  0.00068           9876.96392   \n",
       "GZ                                  0.00042           1337.33758   \n",
       "LK                                  0.00633          62628.58842   \n",
       "MR                                  0.00127            252.59076   \n",
       "BT                                  0.00169           1084.81889   \n",
       "VC                                  0.00417           8293.80671   \n",
       "PG                                  0.00423           6095.30361   \n",
       "PR                                  0.03740         329201.30814   \n",
       "IL                                  0.14666        1606476.06893   \n",
       "BZ                                  0.01271          23883.92907   \n",
       "BG                                  0.03177         227573.51111   \n",
       "\n",
       "               lent - borrow  \n",
       "country_code                  \n",
       "US           593550073.97117  \n",
       "CA            86144321.66328  \n",
       "BR             1018167.80729  \n",
       "CN              833727.37336  \n",
       "TH              699030.98905  \n",
       "VU              287634.26029  \n",
       "UY               94445.12745  \n",
       "VI               10862.87531  \n",
       "GU                9133.72682  \n",
       "BW                1876.96392  \n",
       "GZ               -3662.66242  \n",
       "LK              -12171.41158  \n",
       "MR              -14747.40924  \n",
       "BT              -18915.18111  \n",
       "VC              -40931.19329  \n",
       "PG              -43904.69639  \n",
       "PR             -112698.69186  \n",
       "IL             -126248.93107  \n",
       "BZ             -126291.07093  \n",
       "BG             -147726.48889  "
      ]
     },
     "execution_count": 46,
     "metadata": {},
     "output_type": "execute_result"
    }
   ],
   "source": [
    "overall_in_out.sort_values('lent - borrow', ascending=False).head(20)"
   ]
  },
  {
   "cell_type": "markdown",
   "metadata": {},
   "source": [
    "### Point 10: \n",
    "Which country has the highest ratio between the difference computed at the previous point and the population?"
   ]
  },
  {
   "cell_type": "code",
   "execution_count": 47,
   "metadata": {},
   "outputs": [],
   "source": [
    "country_stats = pd.read_csv('data/country_stats.csv')"
   ]
  },
  {
   "cell_type": "code",
   "execution_count": 48,
   "metadata": {},
   "outputs": [
    {
     "name": "stdout",
     "output_type": "stream",
     "text": [
      "['borrow_count', 'overall_amount_borrowed', 'overall_amount_borrowed/total', 'overall_amount_lent', 'lent - borrow', 'population', 'population_below_poverty_line']\n"
     ]
    }
   ],
   "source": [
    "cols = list(overall_in_out.columns) + ['population', 'population_below_poverty_line']\n",
    "print(cols)"
   ]
  },
  {
   "cell_type": "code",
   "execution_count": 49,
   "metadata": {},
   "outputs": [],
   "source": [
    "overall_in_out = pd.concat([overall_in_out, country_stats.set_index('country_code')], axis=1, join='inner')[cols]"
   ]
  },
  {
   "cell_type": "code",
   "execution_count": 50,
   "metadata": {},
   "outputs": [
    {
     "data": {
      "text/html": [
       "<div>\n",
       "<style scoped>\n",
       "    .dataframe tbody tr th:only-of-type {\n",
       "        vertical-align: middle;\n",
       "    }\n",
       "\n",
       "    .dataframe tbody tr th {\n",
       "        vertical-align: top;\n",
       "    }\n",
       "\n",
       "    .dataframe thead th {\n",
       "        text-align: right;\n",
       "    }\n",
       "</style>\n",
       "<table border=\"1\" class=\"dataframe\">\n",
       "  <thead>\n",
       "    <tr style=\"text-align: right;\">\n",
       "      <th></th>\n",
       "      <th>borrow_count</th>\n",
       "      <th>overall_amount_borrowed</th>\n",
       "      <th>overall_amount_borrowed/total</th>\n",
       "      <th>overall_amount_lent</th>\n",
       "      <th>lent - borrow</th>\n",
       "      <th>population</th>\n",
       "      <th>population_below_poverty_line</th>\n",
       "    </tr>\n",
       "    <tr>\n",
       "      <th>country_code</th>\n",
       "      <th></th>\n",
       "      <th></th>\n",
       "      <th></th>\n",
       "      <th></th>\n",
       "      <th></th>\n",
       "      <th></th>\n",
       "      <th></th>\n",
       "    </tr>\n",
       "  </thead>\n",
       "  <tbody>\n",
       "    <tr>\n",
       "      <th>AF</th>\n",
       "      <td>2337</td>\n",
       "      <td>1967950.00000</td>\n",
       "      <td>0.16657</td>\n",
       "      <td>150896.02207</td>\n",
       "      <td>-1817053.97793</td>\n",
       "      <td>35530081</td>\n",
       "      <td>35.80000</td>\n",
       "    </tr>\n",
       "    <tr>\n",
       "      <th>AL</th>\n",
       "      <td>3075</td>\n",
       "      <td>4307350.00000</td>\n",
       "      <td>0.36459</td>\n",
       "      <td>20123.01496</td>\n",
       "      <td>-4287226.98504</td>\n",
       "      <td>2930187</td>\n",
       "      <td>14.30000</td>\n",
       "    </tr>\n",
       "    <tr>\n",
       "      <th>AM</th>\n",
       "      <td>13952</td>\n",
       "      <td>22950475.00000</td>\n",
       "      <td>1.94259</td>\n",
       "      <td>36853.99399</td>\n",
       "      <td>-22913621.00601</td>\n",
       "      <td>2930450</td>\n",
       "      <td>32.00000</td>\n",
       "    </tr>\n",
       "    <tr>\n",
       "      <th>AZ</th>\n",
       "      <td>10172</td>\n",
       "      <td>14784625.00000</td>\n",
       "      <td>1.25141</td>\n",
       "      <td>11704.08335</td>\n",
       "      <td>-14772920.91665</td>\n",
       "      <td>9827589</td>\n",
       "      <td>4.90000</td>\n",
       "    </tr>\n",
       "    <tr>\n",
       "      <th>BA</th>\n",
       "      <td>608</td>\n",
       "      <td>477250.00000</td>\n",
       "      <td>0.04040</td>\n",
       "      <td>70191.96861</td>\n",
       "      <td>-407058.03139</td>\n",
       "      <td>3507017</td>\n",
       "      <td>17.20000</td>\n",
       "    </tr>\n",
       "  </tbody>\n",
       "</table>\n",
       "</div>"
      ],
      "text/plain": [
       "              borrow_count  overall_amount_borrowed  \\\n",
       "country_code                                          \n",
       "AF                    2337            1967950.00000   \n",
       "AL                    3075            4307350.00000   \n",
       "AM                   13952           22950475.00000   \n",
       "AZ                   10172           14784625.00000   \n",
       "BA                     608             477250.00000   \n",
       "\n",
       "              overall_amount_borrowed/total  overall_amount_lent  \\\n",
       "country_code                                                       \n",
       "AF                                  0.16657         150896.02207   \n",
       "AL                                  0.36459          20123.01496   \n",
       "AM                                  1.94259          36853.99399   \n",
       "AZ                                  1.25141          11704.08335   \n",
       "BA                                  0.04040          70191.96861   \n",
       "\n",
       "               lent - borrow  population  population_below_poverty_line  \n",
       "country_code                                                             \n",
       "AF            -1817053.97793    35530081                       35.80000  \n",
       "AL            -4287226.98504     2930187                       14.30000  \n",
       "AM           -22913621.00601     2930450                       32.00000  \n",
       "AZ           -14772920.91665     9827589                        4.90000  \n",
       "BA             -407058.03139     3507017                       17.20000  "
      ]
     },
     "execution_count": 50,
     "metadata": {},
     "output_type": "execute_result"
    }
   ],
   "source": [
    "overall_in_out.head()"
   ]
  },
  {
   "cell_type": "code",
   "execution_count": 51,
   "metadata": {},
   "outputs": [],
   "source": [
    "overall_in_out['lent - borrow / pop'] = overall_in_out['lent - borrow'] / overall_in_out['population']"
   ]
  },
  {
   "cell_type": "code",
   "execution_count": 52,
   "metadata": {},
   "outputs": [
    {
     "data": {
      "text/plain": [
       "borrow_count                           1.00000\n",
       "overall_amount_borrowed            50000.00000\n",
       "overall_amount_borrowed/total          0.00423\n",
       "overall_amount_lent             86194321.66328\n",
       "lent - borrow                   86144321.66328\n",
       "population                      36624199.00000\n",
       "population_below_poverty_line          9.40000\n",
       "lent - borrow / pop                    2.35211\n",
       "Name: CA, dtype: float64"
      ]
     },
     "execution_count": 52,
     "metadata": {},
     "output_type": "execute_result"
    }
   ],
   "source": [
    "overall_in_out.sort_values('lent - borrow / pop', ascending = False).iloc[0]"
   ]
  },
  {
   "cell_type": "markdown",
   "metadata": {},
   "source": [
    "### Point 11: \n",
    "Which country has the highest ratio between the difference computed at point 9 and the population that is not below the poverty line?"
   ]
  },
  {
   "cell_type": "code",
   "execution_count": 53,
   "metadata": {},
   "outputs": [],
   "source": [
    "overall_in_out['lent - borrow / pop_over_poverty_line'] = overall_in_out['lent - borrow'] / (overall_in_out['population'] * (100 - overall_in_out['population_below_poverty_line']))"
   ]
  },
  {
   "cell_type": "code",
   "execution_count": 54,
   "metadata": {},
   "outputs": [
    {
     "data": {
      "text/plain": [
       "borrow_count                                   1.00000\n",
       "overall_amount_borrowed                    50000.00000\n",
       "overall_amount_borrowed/total                  0.00423\n",
       "overall_amount_lent                     86194321.66328\n",
       "lent - borrow                           86144321.66328\n",
       "population                              36624199.00000\n",
       "population_below_poverty_line                  9.40000\n",
       "lent - borrow / pop                            2.35211\n",
       "lent - borrow / pop_over_poverty_line          0.02596\n",
       "Name: CA, dtype: float64"
      ]
     },
     "execution_count": 54,
     "metadata": {},
     "output_type": "execute_result"
    }
   ],
   "source": [
    "overall_in_out.sort_values('lent - borrow / pop_over_poverty_line', ascending = False).iloc[0]"
   ]
  },
  {
   "cell_type": "markdown",
   "metadata": {},
   "source": [
    "### Point 12\n",
    "For each year, compute the total amount of loans. Each loan that has planned expiration time and disburse time in different years must have its amount distributed proportionally to the number of days in each year. For example, a loan with disburse time December 1st, 2016, planned expiration time January 30th 2018, and amount 5000USD has an amount of 5000USD * 31 / (31+365+30) = 363.85 for 2016, 5000USD * 365 / (31+365+30) = 4284.04 for 2017, and 5000USD * 30 / (31+365+30) = 352.11 for 2018"
   ]
  },
  {
   "cell_type": "code",
   "execution_count": 55,
   "metadata": {},
   "outputs": [
    {
     "data": {
      "text/html": [
       "<div>\n",
       "<style scoped>\n",
       "    .dataframe tbody tr th:only-of-type {\n",
       "        vertical-align: middle;\n",
       "    }\n",
       "\n",
       "    .dataframe tbody tr th {\n",
       "        vertical-align: top;\n",
       "    }\n",
       "\n",
       "    .dataframe thead th {\n",
       "        text-align: right;\n",
       "    }\n",
       "</style>\n",
       "<table border=\"1\" class=\"dataframe\">\n",
       "  <thead>\n",
       "    <tr style=\"text-align: right;\">\n",
       "      <th></th>\n",
       "      <th>loan_id</th>\n",
       "      <th>country_code</th>\n",
       "      <th>loan_amount</th>\n",
       "      <th>num_lenders_total</th>\n",
       "      <th>disburse_time</th>\n",
       "      <th>planned_expiration_time</th>\n",
       "      <th>duration</th>\n",
       "      <th>base_contribution</th>\n",
       "    </tr>\n",
       "  </thead>\n",
       "  <tbody>\n",
       "    <tr>\n",
       "      <th>0</th>\n",
       "      <td>657307</td>\n",
       "      <td>PH</td>\n",
       "      <td>125.00000</td>\n",
       "      <td>3</td>\n",
       "      <td>2013-12-22 08:00:00</td>\n",
       "      <td>2014-02-14 03:30:06</td>\n",
       "      <td>53 days 19:30:06</td>\n",
       "      <td>41.66667</td>\n",
       "    </tr>\n",
       "    <tr>\n",
       "      <th>1</th>\n",
       "      <td>657259</td>\n",
       "      <td>HN</td>\n",
       "      <td>400.00000</td>\n",
       "      <td>11</td>\n",
       "      <td>2013-12-20 08:00:00</td>\n",
       "      <td>2014-03-26 22:25:07</td>\n",
       "      <td>96 days 14:25:07</td>\n",
       "      <td>36.36364</td>\n",
       "    </tr>\n",
       "    <tr>\n",
       "      <th>2</th>\n",
       "      <td>658010</td>\n",
       "      <td>PK</td>\n",
       "      <td>400.00000</td>\n",
       "      <td>16</td>\n",
       "      <td>2014-01-09 08:00:00</td>\n",
       "      <td>2014-02-15 21:10:05</td>\n",
       "      <td>37 days 13:10:05</td>\n",
       "      <td>25.00000</td>\n",
       "    </tr>\n",
       "    <tr>\n",
       "      <th>3</th>\n",
       "      <td>659347</td>\n",
       "      <td>KG</td>\n",
       "      <td>625.00000</td>\n",
       "      <td>21</td>\n",
       "      <td>2014-01-17 08:00:00</td>\n",
       "      <td>2014-02-21 03:10:02</td>\n",
       "      <td>34 days 19:10:02</td>\n",
       "      <td>29.76190</td>\n",
       "    </tr>\n",
       "    <tr>\n",
       "      <th>4</th>\n",
       "      <td>656933</td>\n",
       "      <td>PH</td>\n",
       "      <td>425.00000</td>\n",
       "      <td>15</td>\n",
       "      <td>2013-12-17 08:00:00</td>\n",
       "      <td>2014-02-13 06:10:02</td>\n",
       "      <td>57 days 22:10:02</td>\n",
       "      <td>28.33333</td>\n",
       "    </tr>\n",
       "  </tbody>\n",
       "</table>\n",
       "</div>"
      ],
      "text/plain": [
       "   loan_id country_code  loan_amount  num_lenders_total       disburse_time  \\\n",
       "0   657307           PH    125.00000                  3 2013-12-22 08:00:00   \n",
       "1   657259           HN    400.00000                 11 2013-12-20 08:00:00   \n",
       "2   658010           PK    400.00000                 16 2014-01-09 08:00:00   \n",
       "3   659347           KG    625.00000                 21 2014-01-17 08:00:00   \n",
       "4   656933           PH    425.00000                 15 2013-12-17 08:00:00   \n",
       "\n",
       "  planned_expiration_time         duration  base_contribution  \n",
       "0     2014-02-14 03:30:06 53 days 19:30:06           41.66667  \n",
       "1     2014-03-26 22:25:07 96 days 14:25:07           36.36364  \n",
       "2     2014-02-15 21:10:05 37 days 13:10:05           25.00000  \n",
       "3     2014-02-21 03:10:02 34 days 19:10:02           29.76190  \n",
       "4     2014-02-13 06:10:02 57 days 22:10:02           28.33333  "
      ]
     },
     "execution_count": 55,
     "metadata": {},
     "output_type": "execute_result"
    }
   ],
   "source": [
    "loans.head()"
   ]
  },
  {
   "cell_type": "code",
   "execution_count": 56,
   "metadata": {},
   "outputs": [],
   "source": [
    "loans = loans.dropna(subset=['planned_expiration_time'], how='all')\n",
    "loans = loans.dropna(subset=['disburse_time'], how='all')"
   ]
  },
  {
   "cell_type": "code",
   "execution_count": 57,
   "metadata": {},
   "outputs": [],
   "source": [
    "grouped = loans.groupby(loans['disburse_time'].dt.year)[['disburse_time', 'planned_expiration_time', 'loan_amount']]"
   ]
  },
  {
   "cell_type": "code",
   "execution_count": 58,
   "metadata": {},
   "outputs": [],
   "source": [
    "new_df = pd.DataFrame(columns=['loan_id', 'year', 'amount'])"
   ]
  },
  {
   "cell_type": "code",
   "execution_count": 122,
   "metadata": {},
   "outputs": [
    {
     "name": "stdout",
     "output_type": "stream",
     "text": [
      "CPU times: user 2min 33s, sys: 1.03 s, total: 2min 34s\n",
      "Wall time: 2min 39s\n"
     ]
    }
   ],
   "source": [
    "%%time\n",
    "\n",
    "def compute_amounts(start_year, row):\n",
    "    amounts = []\n",
    "    duration = row.duration.days\n",
    "    disburse = row.disburse_time\n",
    "    planned = row.planned_expiration_time\n",
    "    last_day_of_start_year = datetime.date(year=start_year, month=12, day=31)\n",
    "    first_day_of_planned_exp_year = datetime.date(year=planned.year, month=1, day=1)\n",
    "    first_year_duration = (last_day_of_start_year - disburse.date()).days\n",
    "    last_year_duration = (planned.date() - first_day_of_planned_exp_year).days\n",
    "    \n",
    "    first_year_amount = row.loan_amount * first_year_duration / duration\n",
    "    last_year_amount = row.loan_amount * last_year_duration / duration\n",
    "    \n",
    "    amounts.extend([(start_year, first_year_amount), (planned.year, last_year_amount)])\n",
    "    \n",
    "    remaining_days = duration - first_year_duration - last_year_duration\n",
    "    i = 1\n",
    "    year = start_year\n",
    "    while (remaining_days > 365):\n",
    "        year = start_year + i\n",
    "        amount = row.loan_amount * 365 / duration\n",
    "        amounts.append((year, amount))\n",
    "        i = i + 1\n",
    "        remaining_days = remaining_days - 365\n",
    "    \n",
    "    last_amount = row.loan_amount * remaining_days / duration\n",
    "    amounts.append((year + 1, last_amount))\n",
    "    return amounts\n",
    "\n",
    "new_df = pd.DataFrame(columns=['loan_id', 'year', 'amount'])\n",
    "ids = []\n",
    "years = []\n",
    "amounts = []\n",
    "for index, row in loans.iterrows():\n",
    "    start_year = row.disburse_time.year\n",
    "    years_tot = row.planned_expiration_time.year - start_year\n",
    "    if (years_tot > 1):\n",
    "        amts = compute_amounts(start_year, row)\n",
    "        for year, amount in amts:\n",
    "            ids.append(row.loan_id)\n",
    "            years.append(year)\n",
    "            amounts.append(amount)\n",
    "    else:\n",
    "        ids.append(row.loan_id)\n",
    "        years.append(start_year)\n",
    "        amounts.append(row.loan_amount)\n",
    "        \n",
    "new_df['loan_id'] = ids\n",
    "new_df['year'] = years\n",
    "new_df['amount'] = amounts"
   ]
  },
  {
   "cell_type": "code",
   "execution_count": 86,
   "metadata": {},
   "outputs": [
    {
     "data": {
      "text/plain": [
       "datetime.timedelta(days=356)"
      ]
     },
     "execution_count": 86,
     "metadata": {},
     "output_type": "execute_result"
    }
   ],
   "source": [
    "datetime.date(year=2014, month=12, day=31) - datetime.date(2014,1,9)"
   ]
  },
  {
   "cell_type": "code",
   "execution_count": 67,
   "metadata": {},
   "outputs": [],
   "source": [
    "df = np.where(loans.planned_expiration_time.dt.year - loans.disburse_time.dt.year > 1, 'si', 'no')"
   ]
  },
  {
   "cell_type": "code",
   "execution_count": 103,
   "metadata": {},
   "outputs": [
    {
     "data": {
      "text/html": [
       "<div>\n",
       "<style scoped>\n",
       "    .dataframe tbody tr th:only-of-type {\n",
       "        vertical-align: middle;\n",
       "    }\n",
       "\n",
       "    .dataframe tbody tr th {\n",
       "        vertical-align: top;\n",
       "    }\n",
       "\n",
       "    .dataframe thead th {\n",
       "        text-align: right;\n",
       "    }\n",
       "</style>\n",
       "<table border=\"1\" class=\"dataframe\">\n",
       "  <thead>\n",
       "    <tr style=\"text-align: right;\">\n",
       "      <th></th>\n",
       "      <th>loan_id</th>\n",
       "      <th>year</th>\n",
       "      <th>amount</th>\n",
       "    </tr>\n",
       "  </thead>\n",
       "  <tbody>\n",
       "    <tr>\n",
       "      <th>0</th>\n",
       "      <td>657307</td>\n",
       "      <td>2013</td>\n",
       "      <td>125.00000</td>\n",
       "    </tr>\n",
       "    <tr>\n",
       "      <th>1</th>\n",
       "      <td>657259</td>\n",
       "      <td>2013</td>\n",
       "      <td>400.00000</td>\n",
       "    </tr>\n",
       "    <tr>\n",
       "      <th>2</th>\n",
       "      <td>658010</td>\n",
       "      <td>2014</td>\n",
       "      <td>400.00000</td>\n",
       "    </tr>\n",
       "    <tr>\n",
       "      <th>3</th>\n",
       "      <td>659347</td>\n",
       "      <td>2014</td>\n",
       "      <td>625.00000</td>\n",
       "    </tr>\n",
       "    <tr>\n",
       "      <th>4</th>\n",
       "      <td>656933</td>\n",
       "      <td>2013</td>\n",
       "      <td>425.00000</td>\n",
       "    </tr>\n",
       "    <tr>\n",
       "      <th>...</th>\n",
       "      <td>...</td>\n",
       "      <td>...</td>\n",
       "      <td>...</td>\n",
       "    </tr>\n",
       "    <tr>\n",
       "      <th>95</th>\n",
       "      <td>961916</td>\n",
       "      <td>2015</td>\n",
       "      <td>175.00000</td>\n",
       "    </tr>\n",
       "    <tr>\n",
       "      <th>96</th>\n",
       "      <td>962191</td>\n",
       "      <td>2015</td>\n",
       "      <td>275.00000</td>\n",
       "    </tr>\n",
       "    <tr>\n",
       "      <th>97</th>\n",
       "      <td>962630</td>\n",
       "      <td>2015</td>\n",
       "      <td>175.00000</td>\n",
       "    </tr>\n",
       "    <tr>\n",
       "      <th>98</th>\n",
       "      <td>962668</td>\n",
       "      <td>2015</td>\n",
       "      <td>575.00000</td>\n",
       "    </tr>\n",
       "    <tr>\n",
       "      <th>99</th>\n",
       "      <td>963282</td>\n",
       "      <td>2015</td>\n",
       "      <td>450.00000</td>\n",
       "    </tr>\n",
       "  </tbody>\n",
       "</table>\n",
       "<p>100 rows × 3 columns</p>\n",
       "</div>"
      ],
      "text/plain": [
       "    loan_id  year    amount\n",
       "0    657307  2013 125.00000\n",
       "1    657259  2013 400.00000\n",
       "2    658010  2014 400.00000\n",
       "3    659347  2014 625.00000\n",
       "4    656933  2013 425.00000\n",
       "..      ...   ...       ...\n",
       "95   961916  2015 175.00000\n",
       "96   962191  2015 275.00000\n",
       "97   962630  2015 175.00000\n",
       "98   962668  2015 575.00000\n",
       "99   963282  2015 450.00000\n",
       "\n",
       "[100 rows x 3 columns]"
      ]
     },
     "execution_count": 103,
     "metadata": {},
     "output_type": "execute_result"
    }
   ],
   "source": []
  },
  {
   "cell_type": "code",
   "execution_count": 125,
   "metadata": {},
   "outputs": [
    {
     "data": {
      "text/plain": [
       "1077955    7\n",
       "1077941    7\n",
       "1077943    7\n",
       "1077936    7\n",
       "1077940    7\n",
       "          ..\n",
       "890648     1\n",
       "913175     1\n",
       "911126     1\n",
       "917269     1\n",
       "379065     1\n",
       "Name: loan_id, Length: 1044962, dtype: int64"
      ]
     },
     "execution_count": 125,
     "metadata": {},
     "output_type": "execute_result"
    }
   ],
   "source": [
    "new_df['loan_id'].value_counts()"
   ]
  },
  {
   "cell_type": "code",
   "execution_count": 133,
   "metadata": {},
   "outputs": [
    {
     "data": {
      "text/plain": [
       "1444085"
      ]
     },
     "execution_count": 133,
     "metadata": {},
     "output_type": "execute_result"
    }
   ],
   "source": [
    "max(new_df['loan_id'])"
   ]
  },
  {
   "cell_type": "code",
   "execution_count": 136,
   "metadata": {},
   "outputs": [
    {
     "data": {
      "text/html": [
       "<div>\n",
       "<style scoped>\n",
       "    .dataframe tbody tr th:only-of-type {\n",
       "        vertical-align: middle;\n",
       "    }\n",
       "\n",
       "    .dataframe tbody tr th {\n",
       "        vertical-align: top;\n",
       "    }\n",
       "\n",
       "    .dataframe thead th {\n",
       "        text-align: right;\n",
       "    }\n",
       "</style>\n",
       "<table border=\"1\" class=\"dataframe\">\n",
       "  <thead>\n",
       "    <tr style=\"text-align: right;\">\n",
       "      <th></th>\n",
       "      <th>loan_id</th>\n",
       "      <th>year</th>\n",
       "      <th>amount</th>\n",
       "    </tr>\n",
       "  </thead>\n",
       "  <tbody>\n",
       "    <tr>\n",
       "      <th>421742</th>\n",
       "      <td>1077955</td>\n",
       "      <td>2011</td>\n",
       "      <td>24.25713</td>\n",
       "    </tr>\n",
       "    <tr>\n",
       "      <th>421743</th>\n",
       "      <td>1077955</td>\n",
       "      <td>2016</td>\n",
       "      <td>545.78532</td>\n",
       "    </tr>\n",
       "    <tr>\n",
       "      <th>421744</th>\n",
       "      <td>1077955</td>\n",
       "      <td>2012</td>\n",
       "      <td>1106.73135</td>\n",
       "    </tr>\n",
       "    <tr>\n",
       "      <th>421745</th>\n",
       "      <td>1077955</td>\n",
       "      <td>2013</td>\n",
       "      <td>1106.73135</td>\n",
       "    </tr>\n",
       "    <tr>\n",
       "      <th>421746</th>\n",
       "      <td>1077955</td>\n",
       "      <td>2014</td>\n",
       "      <td>1106.73135</td>\n",
       "    </tr>\n",
       "    <tr>\n",
       "      <th>421747</th>\n",
       "      <td>1077955</td>\n",
       "      <td>2015</td>\n",
       "      <td>1106.73135</td>\n",
       "    </tr>\n",
       "    <tr>\n",
       "      <th>421748</th>\n",
       "      <td>1077955</td>\n",
       "      <td>2016</td>\n",
       "      <td>3.03214</td>\n",
       "    </tr>\n",
       "  </tbody>\n",
       "</table>\n",
       "</div>"
      ],
      "text/plain": [
       "        loan_id  year     amount\n",
       "421742  1077955  2011   24.25713\n",
       "421743  1077955  2016  545.78532\n",
       "421744  1077955  2012 1106.73135\n",
       "421745  1077955  2013 1106.73135\n",
       "421746  1077955  2014 1106.73135\n",
       "421747  1077955  2015 1106.73135\n",
       "421748  1077955  2016    3.03214"
      ]
     },
     "execution_count": 136,
     "metadata": {},
     "output_type": "execute_result"
    }
   ],
   "source": [
    "new_df[new_df.loan_id == 1077955]"
   ]
  },
  {
   "cell_type": "code",
   "execution_count": null,
   "metadata": {},
   "outputs": [],
   "source": []
  }
 ],
 "metadata": {
  "kernelspec": {
   "display_name": "Python 3",
   "language": "python",
   "name": "python3"
  },
  "language_info": {
   "codemirror_mode": {
    "name": "ipython",
    "version": 3
   },
   "file_extension": ".py",
   "mimetype": "text/x-python",
   "name": "python",
   "nbconvert_exporter": "python",
   "pygments_lexer": "ipython3",
   "version": "3.7.4"
  }
 },
 "nbformat": 4,
 "nbformat_minor": 2
}
