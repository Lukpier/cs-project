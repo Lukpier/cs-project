{
 "cells": [
  {
   "cell_type": "code",
   "execution_count": 1,
   "metadata": {},
   "outputs": [],
   "source": [
    "import pandas as pd\n",
    "import numpy as np\n",
    "import datetime\n",
    "import matplotlib as plt\n",
    "import numpy as np\n",
    "\n",
    "pd.set_option('display.float_format', lambda x: '%.5f' % x)"
   ]
  },
  {
   "cell_type": "markdown",
   "metadata": {},
   "source": [
    "### Point 1: \n",
    "Normalize the loan_lenders table. In the normalized table, each row must have one loan_id and one lender."
   ]
  },
  {
   "cell_type": "markdown",
   "metadata": {},
   "source": [
    "First of all, let's load in memory the loans_lenders file and have a short look at it.\n",
    "As you can see below, the file appears as a table with 2 columns: loan_id and lenders."
   ]
  },
  {
   "cell_type": "code",
   "execution_count": 2,
   "metadata": {},
   "outputs": [],
   "source": [
    "loan_lenders = pd.read_csv('data/loans_lenders.csv')"
   ]
  },
  {
   "cell_type": "code",
   "execution_count": 3,
   "metadata": {},
   "outputs": [
    {
     "data": {
      "text/html": [
       "<div>\n",
       "<style scoped>\n",
       "    .dataframe tbody tr th:only-of-type {\n",
       "        vertical-align: middle;\n",
       "    }\n",
       "\n",
       "    .dataframe tbody tr th {\n",
       "        vertical-align: top;\n",
       "    }\n",
       "\n",
       "    .dataframe thead th {\n",
       "        text-align: right;\n",
       "    }\n",
       "</style>\n",
       "<table border=\"1\" class=\"dataframe\">\n",
       "  <thead>\n",
       "    <tr style=\"text-align: right;\">\n",
       "      <th></th>\n",
       "      <th>loan_id</th>\n",
       "      <th>lenders</th>\n",
       "    </tr>\n",
       "  </thead>\n",
       "  <tbody>\n",
       "    <tr>\n",
       "      <th>0</th>\n",
       "      <td>483693</td>\n",
       "      <td>muc888, sam4326, camaran3922, lachheb1865, reb...</td>\n",
       "    </tr>\n",
       "    <tr>\n",
       "      <th>1</th>\n",
       "      <td>483738</td>\n",
       "      <td>muc888, nora3555, williammanashi, barbara5610,...</td>\n",
       "    </tr>\n",
       "    <tr>\n",
       "      <th>2</th>\n",
       "      <td>485000</td>\n",
       "      <td>muc888, terrystl, richardandsusan8352, sherri4...</td>\n",
       "    </tr>\n",
       "    <tr>\n",
       "      <th>3</th>\n",
       "      <td>486087</td>\n",
       "      <td>muc888, james5068, rudi5955, daniel9859, don92...</td>\n",
       "    </tr>\n",
       "    <tr>\n",
       "      <th>4</th>\n",
       "      <td>534428</td>\n",
       "      <td>muc888, niki3008, teresa9174, mike4896, david7...</td>\n",
       "    </tr>\n",
       "  </tbody>\n",
       "</table>\n",
       "</div>"
      ],
      "text/plain": [
       "   loan_id                                            lenders\n",
       "0   483693  muc888, sam4326, camaran3922, lachheb1865, reb...\n",
       "1   483738  muc888, nora3555, williammanashi, barbara5610,...\n",
       "2   485000  muc888, terrystl, richardandsusan8352, sherri4...\n",
       "3   486087  muc888, james5068, rudi5955, daniel9859, don92...\n",
       "4   534428  muc888, niki3008, teresa9174, mike4896, david7..."
      ]
     },
     "execution_count": 3,
     "metadata": {},
     "output_type": "execute_result"
    }
   ],
   "source": [
    "loan_lenders.head()"
   ]
  },
  {
   "cell_type": "markdown",
   "metadata": {},
   "source": [
    "In this kind of configuration, the loan_id column does not contain any duplicate"
   ]
  },
  {
   "cell_type": "code",
   "execution_count": 4,
   "metadata": {},
   "outputs": [
    {
     "data": {
      "text/plain": [
       "True"
      ]
     },
     "execution_count": 4,
     "metadata": {},
     "output_type": "execute_result"
    }
   ],
   "source": [
    "len(set(loan_lenders['loan_id'])) == loan_lenders['loan_id'].size"
   ]
  },
  {
   "cell_type": "markdown",
   "metadata": {},
   "source": [
    "However, the lenders column contains, for each row, all the lenders having partecipate to the loan split by comma.\n",
    "For the needs of this reseach, we need to convert the data structure of the loan_lenders table to be in the \"First Normal Form\": \n",
    "\n",
    "A relation is in first normal form if and only if the domain of each attribute contains only atomic (indivisible) values, and the value of each attribute contains only a single value from that domain. https://en.wikipedia.org/wiki/First_normal_form\n",
    "\n",
    "Below the normalization function, which accept a generic dataframe, column, the separator inside the values of the underlying column and a boolean value which whether to retain the presplit value as it's own row"
   ]
  },
  {
   "cell_type": "code",
   "execution_count": 5,
   "metadata": {},
   "outputs": [],
   "source": [
    "def normalize(df, column, sep='|', keep=False):\n",
    "    \"\"\"\n",
    "    Split the values of a column and expand so the new DataFrame has one split\n",
    "    value per row. Filters rows where the column is missing.\n",
    "    \n",
    "    Params\n",
    "    ------\n",
    "    df : pandas.DataFrame\n",
    "        dataframe with the column to split and expand\n",
    "    column : str\n",
    "        the column to split and expand\n",
    "    sep : str\n",
    "        the string used to split the column's values\n",
    "    keep : bool\n",
    "        whether to retain the presplit value as it's own row\n",
    "\n",
    "    Returns\n",
    "    -------\n",
    "    pandas.DataFrame\n",
    "        Returns a dataframe with the same columns as `df`.\n",
    "    \"\"\"\n",
    "    indexes = list()\n",
    "    new_values = list()\n",
    "    df = df.dropna(subset=[column])\n",
    "    for i, presplit in enumerate(df[column].astype(str)):\n",
    "        values = presplit.split(sep)\n",
    "        if keep and len(values) > 1:\n",
    "            indexes.append(i)\n",
    "            new_values.append(presplit)\n",
    "        for value in values:\n",
    "            indexes.append(i)\n",
    "            new_values.append(value)\n",
    "    new_df = df.iloc[indexes, :].copy()\n",
    "    new_df[column] = new_values\n",
    "    return new_df"
   ]
  },
  {
   "cell_type": "code",
   "execution_count": 6,
   "metadata": {},
   "outputs": [
    {
     "name": "stdout",
     "output_type": "stream",
     "text": [
      "CPU times: user 14.6 s, sys: 689 ms, total: 15.3 s\n",
      "Wall time: 15.2 s\n"
     ]
    }
   ],
   "source": [
    "%%time\n",
    "\n",
    "norm_loan_lenders = normalize(loan_lenders, 'lenders', ',')"
   ]
  },
  {
   "cell_type": "code",
   "execution_count": 7,
   "metadata": {},
   "outputs": [
    {
     "data": {
      "text/html": [
       "<div>\n",
       "<style scoped>\n",
       "    .dataframe tbody tr th:only-of-type {\n",
       "        vertical-align: middle;\n",
       "    }\n",
       "\n",
       "    .dataframe tbody tr th {\n",
       "        vertical-align: top;\n",
       "    }\n",
       "\n",
       "    .dataframe thead th {\n",
       "        text-align: right;\n",
       "    }\n",
       "</style>\n",
       "<table border=\"1\" class=\"dataframe\">\n",
       "  <thead>\n",
       "    <tr style=\"text-align: right;\">\n",
       "      <th></th>\n",
       "      <th>loan_id</th>\n",
       "      <th>lenders</th>\n",
       "    </tr>\n",
       "  </thead>\n",
       "  <tbody>\n",
       "    <tr>\n",
       "      <th>0</th>\n",
       "      <td>483693</td>\n",
       "      <td>muc888</td>\n",
       "    </tr>\n",
       "    <tr>\n",
       "      <th>0</th>\n",
       "      <td>483693</td>\n",
       "      <td>sam4326</td>\n",
       "    </tr>\n",
       "    <tr>\n",
       "      <th>0</th>\n",
       "      <td>483693</td>\n",
       "      <td>camaran3922</td>\n",
       "    </tr>\n",
       "    <tr>\n",
       "      <th>0</th>\n",
       "      <td>483693</td>\n",
       "      <td>lachheb1865</td>\n",
       "    </tr>\n",
       "    <tr>\n",
       "      <th>0</th>\n",
       "      <td>483693</td>\n",
       "      <td>rebecca3499</td>\n",
       "    </tr>\n",
       "  </tbody>\n",
       "</table>\n",
       "</div>"
      ],
      "text/plain": [
       "   loan_id       lenders\n",
       "0   483693        muc888\n",
       "0   483693       sam4326\n",
       "0   483693   camaran3922\n",
       "0   483693   lachheb1865\n",
       "0   483693   rebecca3499"
      ]
     },
     "execution_count": 7,
     "metadata": {},
     "output_type": "execute_result"
    }
   ],
   "source": [
    "norm_loan_lenders.head()"
   ]
  },
  {
   "cell_type": "code",
   "execution_count": 8,
   "metadata": {},
   "outputs": [
    {
     "data": {
      "text/html": [
       "<div>\n",
       "<style scoped>\n",
       "    .dataframe tbody tr th:only-of-type {\n",
       "        vertical-align: middle;\n",
       "    }\n",
       "\n",
       "    .dataframe tbody tr th {\n",
       "        vertical-align: top;\n",
       "    }\n",
       "\n",
       "    .dataframe thead th {\n",
       "        text-align: right;\n",
       "    }\n",
       "</style>\n",
       "<table border=\"1\" class=\"dataframe\">\n",
       "  <thead>\n",
       "    <tr style=\"text-align: right;\">\n",
       "      <th></th>\n",
       "      <th>loan_id</th>\n",
       "      <th>lenders</th>\n",
       "    </tr>\n",
       "  </thead>\n",
       "  <tbody>\n",
       "    <tr>\n",
       "      <th>1387430</th>\n",
       "      <td>1206425</td>\n",
       "      <td>trogdorfamily7622</td>\n",
       "    </tr>\n",
       "    <tr>\n",
       "      <th>1387430</th>\n",
       "      <td>1206425</td>\n",
       "      <td>danny6470</td>\n",
       "    </tr>\n",
       "    <tr>\n",
       "      <th>1387430</th>\n",
       "      <td>1206425</td>\n",
       "      <td>don6118</td>\n",
       "    </tr>\n",
       "    <tr>\n",
       "      <th>1387431</th>\n",
       "      <td>1206486</td>\n",
       "      <td>alan5175</td>\n",
       "    </tr>\n",
       "    <tr>\n",
       "      <th>1387431</th>\n",
       "      <td>1206486</td>\n",
       "      <td>amy38101311</td>\n",
       "    </tr>\n",
       "  </tbody>\n",
       "</table>\n",
       "</div>"
      ],
      "text/plain": [
       "         loan_id             lenders\n",
       "1387430  1206425   trogdorfamily7622\n",
       "1387430  1206425           danny6470\n",
       "1387430  1206425             don6118\n",
       "1387431  1206486            alan5175\n",
       "1387431  1206486         amy38101311"
      ]
     },
     "execution_count": 8,
     "metadata": {},
     "output_type": "execute_result"
    }
   ],
   "source": [
    "norm_loan_lenders.tail()"
   ]
  },
  {
   "cell_type": "markdown",
   "metadata": {},
   "source": [
    "As you can see above, now there is a single lender for each row, but the uniqueness of loan_id values is broken: this is fine for our purpose, since we need the lender to be single value for each row.\n",
    "Let's also rename the column from lenders to lender."
   ]
  },
  {
   "cell_type": "code",
   "execution_count": 9,
   "metadata": {},
   "outputs": [],
   "source": [
    "norm_loan_lenders.rename(columns={'lenders': 'lender'}, inplace=True)"
   ]
  },
  {
   "cell_type": "code",
   "execution_count": 10,
   "metadata": {},
   "outputs": [
    {
     "data": {
      "text/html": [
       "<div>\n",
       "<style scoped>\n",
       "    .dataframe tbody tr th:only-of-type {\n",
       "        vertical-align: middle;\n",
       "    }\n",
       "\n",
       "    .dataframe tbody tr th {\n",
       "        vertical-align: top;\n",
       "    }\n",
       "\n",
       "    .dataframe thead th {\n",
       "        text-align: right;\n",
       "    }\n",
       "</style>\n",
       "<table border=\"1\" class=\"dataframe\">\n",
       "  <thead>\n",
       "    <tr style=\"text-align: right;\">\n",
       "      <th></th>\n",
       "      <th>loan_id</th>\n",
       "      <th>lender</th>\n",
       "    </tr>\n",
       "  </thead>\n",
       "  <tbody>\n",
       "    <tr>\n",
       "      <th>0</th>\n",
       "      <td>483693</td>\n",
       "      <td>muc888</td>\n",
       "    </tr>\n",
       "    <tr>\n",
       "      <th>0</th>\n",
       "      <td>483693</td>\n",
       "      <td>sam4326</td>\n",
       "    </tr>\n",
       "    <tr>\n",
       "      <th>0</th>\n",
       "      <td>483693</td>\n",
       "      <td>camaran3922</td>\n",
       "    </tr>\n",
       "    <tr>\n",
       "      <th>0</th>\n",
       "      <td>483693</td>\n",
       "      <td>lachheb1865</td>\n",
       "    </tr>\n",
       "    <tr>\n",
       "      <th>0</th>\n",
       "      <td>483693</td>\n",
       "      <td>rebecca3499</td>\n",
       "    </tr>\n",
       "  </tbody>\n",
       "</table>\n",
       "</div>"
      ],
      "text/plain": [
       "   loan_id        lender\n",
       "0   483693        muc888\n",
       "0   483693       sam4326\n",
       "0   483693   camaran3922\n",
       "0   483693   lachheb1865\n",
       "0   483693   rebecca3499"
      ]
     },
     "execution_count": 10,
     "metadata": {},
     "output_type": "execute_result"
    }
   ],
   "source": [
    "norm_loan_lenders.head()"
   ]
  },
  {
   "cell_type": "markdown",
   "metadata": {},
   "source": [
    "### Point 2: \n",
    "For each loan, add a column duration corresponding to the number of days between the disburse time and the planned expiration time. If any of those two dates is missing, also the duration must be missing."
   ]
  },
  {
   "cell_type": "markdown",
   "metadata": {},
   "source": [
    "For the accomplishment of this point, we need the loan file to be imported. since it's relatively a big file (2.29GB) let's import only the needed column to save memory."
   ]
  },
  {
   "cell_type": "code",
   "execution_count": 11,
   "metadata": {},
   "outputs": [
    {
     "name": "stdout",
     "output_type": "stream",
     "text": [
      "CPU times: user 20.9 s, sys: 1.75 s, total: 22.7 s\n",
      "Wall time: 24.8 s\n"
     ]
    }
   ],
   "source": [
    "%%time\n",
    "\n",
    "loans = pd.read_csv('data/loans.csv')[['loan_id', 'country_code', 'loan_amount', 'num_lenders_total', 'disburse_time', 'planned_expiration_time']]"
   ]
  },
  {
   "cell_type": "markdown",
   "metadata": {},
   "source": [
    "Time to focus on disburse_time and planned_expiration_time columns.\n",
    "They both are in string column, except for nan values which are threated as float by pandas.\n",
    "Talking of nan's, there are to many values, especially disburse_time column."
   ]
  },
  {
   "cell_type": "code",
   "execution_count": 12,
   "metadata": {},
   "outputs": [
    {
     "data": {
      "text/html": [
       "<div>\n",
       "<style scoped>\n",
       "    .dataframe tbody tr th:only-of-type {\n",
       "        vertical-align: middle;\n",
       "    }\n",
       "\n",
       "    .dataframe tbody tr th {\n",
       "        vertical-align: top;\n",
       "    }\n",
       "\n",
       "    .dataframe thead th {\n",
       "        text-align: right;\n",
       "    }\n",
       "</style>\n",
       "<table border=\"1\" class=\"dataframe\">\n",
       "  <thead>\n",
       "    <tr style=\"text-align: right;\">\n",
       "      <th></th>\n",
       "      <th>disburse_time</th>\n",
       "      <th>planned_expiration_time</th>\n",
       "    </tr>\n",
       "  </thead>\n",
       "  <tbody>\n",
       "    <tr>\n",
       "      <th>0</th>\n",
       "      <td>2013-12-22 08:00:00.000 +0000</td>\n",
       "      <td>2014-02-14 03:30:06.000 +0000</td>\n",
       "    </tr>\n",
       "    <tr>\n",
       "      <th>1</th>\n",
       "      <td>2013-12-20 08:00:00.000 +0000</td>\n",
       "      <td>2014-03-26 22:25:07.000 +0000</td>\n",
       "    </tr>\n",
       "    <tr>\n",
       "      <th>2</th>\n",
       "      <td>2014-01-09 08:00:00.000 +0000</td>\n",
       "      <td>2014-02-15 21:10:05.000 +0000</td>\n",
       "    </tr>\n",
       "    <tr>\n",
       "      <th>3</th>\n",
       "      <td>2014-01-17 08:00:00.000 +0000</td>\n",
       "      <td>2014-02-21 03:10:02.000 +0000</td>\n",
       "    </tr>\n",
       "    <tr>\n",
       "      <th>4</th>\n",
       "      <td>2013-12-17 08:00:00.000 +0000</td>\n",
       "      <td>2014-02-13 06:10:02.000 +0000</td>\n",
       "    </tr>\n",
       "  </tbody>\n",
       "</table>\n",
       "</div>"
      ],
      "text/plain": [
       "                   disburse_time        planned_expiration_time\n",
       "0  2013-12-22 08:00:00.000 +0000  2014-02-14 03:30:06.000 +0000\n",
       "1  2013-12-20 08:00:00.000 +0000  2014-03-26 22:25:07.000 +0000\n",
       "2  2014-01-09 08:00:00.000 +0000  2014-02-15 21:10:05.000 +0000\n",
       "3  2014-01-17 08:00:00.000 +0000  2014-02-21 03:10:02.000 +0000\n",
       "4  2013-12-17 08:00:00.000 +0000  2014-02-13 06:10:02.000 +0000"
      ]
     },
     "execution_count": 12,
     "metadata": {},
     "output_type": "execute_result"
    }
   ],
   "source": [
    "loans[['disburse_time', 'planned_expiration_time']].head()"
   ]
  },
  {
   "cell_type": "code",
   "execution_count": 13,
   "metadata": {},
   "outputs": [
    {
     "name": "stdout",
     "output_type": "stream",
     "text": [
      "<class 'str'>\n",
      "<class 'str'>\n"
     ]
    }
   ],
   "source": [
    "print(type(loans.disburse_time[0]))\n",
    "print(type(loans.planned_expiration_time[0]))"
   ]
  },
  {
   "cell_type": "code",
   "execution_count": 14,
   "metadata": {},
   "outputs": [
    {
     "name": "stdout",
     "output_type": "stream",
     "text": [
      "371834 2813\n"
     ]
    }
   ],
   "source": [
    "print(len(loans.planned_expiration_time[loans.planned_expiration_time.isnull()]),\n",
    "len(loans.disburse_time[loans.disburse_time.isnull()]))"
   ]
  },
  {
   "cell_type": "markdown",
   "metadata": {},
   "source": [
    "Let's convert to datetime all not nan values of disburse_time and planned_expiration_time."
   ]
  },
  {
   "cell_type": "code",
   "execution_count": 15,
   "metadata": {},
   "outputs": [],
   "source": [
    "formatter = '%Y-%m-%d %H:%M:%S.%f +0000' # str date formate of the two columns"
   ]
  },
  {
   "cell_type": "code",
   "execution_count": 16,
   "metadata": {},
   "outputs": [
    {
     "name": "stdout",
     "output_type": "stream",
     "text": [
      "CPU times: user 5.48 s, sys: 3.49 ms, total: 5.48 s\n",
      "Wall time: 5.48 s\n"
     ]
    }
   ],
   "source": [
    "%%time \n",
    "\n",
    "loans['disburse_time'] =  pd.to_datetime(loans['disburse_time'], format=formatter)\n",
    "loans['planned_expiration_time'] =  pd.to_datetime(loans['planned_expiration_time'], format=formatter)"
   ]
  },
  {
   "cell_type": "markdown",
   "metadata": {},
   "source": [
    "Calculate time delta's with datetime columns it's very simple"
   ]
  },
  {
   "cell_type": "code",
   "execution_count": 17,
   "metadata": {},
   "outputs": [
    {
     "name": "stdout",
     "output_type": "stream",
     "text": [
      "CPU times: user 31.5 ms, sys: 3.12 ms, total: 34.6 ms\n",
      "Wall time: 38.9 ms\n"
     ]
    }
   ],
   "source": [
    "%%time\n",
    "\n",
    "loans['duration'] = loans.planned_expiration_time - loans.disburse_time"
   ]
  },
  {
   "cell_type": "code",
   "execution_count": 18,
   "metadata": {},
   "outputs": [
    {
     "data": {
      "text/plain": [
       "0   53 days 19:30:06\n",
       "1   96 days 14:25:07\n",
       "2   37 days 13:10:05\n",
       "3   34 days 19:10:02\n",
       "4   57 days 22:10:02\n",
       "Name: duration, dtype: timedelta64[ns]"
      ]
     },
     "execution_count": 18,
     "metadata": {},
     "output_type": "execute_result"
    }
   ],
   "source": [
    "loans.duration.head()"
   ]
  },
  {
   "cell_type": "markdown",
   "metadata": {},
   "source": [
    "There are 14935 loans which duration is negative: it means that the deadline was not satisfied"
   ]
  },
  {
   "cell_type": "code",
   "execution_count": 19,
   "metadata": {},
   "outputs": [
    {
     "data": {
      "text/plain": [
       "63        -31 days +21:40:03\n",
       "96        -25 days +06:30:11\n",
       "177       -25 days +21:00:03\n",
       "207       -33 days +06:30:08\n",
       "217       -31 days +17:40:03\n",
       "                 ...        \n",
       "1419303   -35 days +21:30:03\n",
       "1419304   -32 days +17:50:04\n",
       "1419374   -34 days +21:40:03\n",
       "1419443   -30 days +06:00:03\n",
       "1419581   -30 days +16:50:04\n",
       "Name: duration, Length: 14935, dtype: timedelta64[ns]"
      ]
     },
     "execution_count": 19,
     "metadata": {},
     "output_type": "execute_result"
    }
   ],
   "source": [
    "loans.duration[loans.duration < pd.Timedelta(0)]"
   ]
  },
  {
   "cell_type": "markdown",
   "metadata": {},
   "source": [
    "### Point 3: \n",
    "Find the lenders that have funded at least twice"
   ]
  },
  {
   "cell_type": "markdown",
   "metadata": {},
   "source": [
    "Let's go back work on loan lenders table, normalized. At this point, we're asked to find the lenders wich have contributed to a loan at least two times.\n",
    "This operation is performed by grouping by lender column and count how many loans they contributed.\n",
    "Note: let's first have a look on possible duplicates (loan_id - lender)."
   ]
  },
  {
   "cell_type": "code",
   "execution_count": 20,
   "metadata": {},
   "outputs": [],
   "source": [
    "duplicated_rows = norm_loan_lenders[norm_loan_lenders.duplicated()]"
   ]
  },
  {
   "cell_type": "code",
   "execution_count": 21,
   "metadata": {},
   "outputs": [
    {
     "data": {
      "text/plain": [
       "1592252"
      ]
     },
     "execution_count": 21,
     "metadata": {},
     "output_type": "execute_result"
    }
   ],
   "source": [
    "duplicated_rows.size"
   ]
  },
  {
   "cell_type": "markdown",
   "metadata": {},
   "source": [
    "For the sake of this activity, i decided to maintain duplicates since the guideline says: lenders that have fundend at least twice. A lender might have funded twice on the same loan, so this fits my needs.\n",
    "\n",
    "There are 2010222 lenders which have funded at least twice."
   ]
  },
  {
   "cell_type": "code",
   "execution_count": 22,
   "metadata": {},
   "outputs": [
    {
     "name": "stdout",
     "output_type": "stream",
     "text": [
      "CPU times: user 9.91 s, sys: 17.4 ms, total: 9.93 s\n",
      "Wall time: 9.92 s\n"
     ]
    }
   ],
   "source": [
    "%%time\n",
    "\n",
    "loans_by_lenders = norm_loan_lenders.groupby('lender')['loan_id'].count().reset_index(name='fund_count')"
   ]
  },
  {
   "cell_type": "code",
   "execution_count": 23,
   "metadata": {},
   "outputs": [],
   "source": [
    "loans_by_lenders = loans_by_lenders[loans_by_lenders.fund_count > 1]"
   ]
  },
  {
   "cell_type": "code",
   "execution_count": 24,
   "metadata": {},
   "outputs": [
    {
     "data": {
      "text/html": [
       "<div>\n",
       "<style scoped>\n",
       "    .dataframe tbody tr th:only-of-type {\n",
       "        vertical-align: middle;\n",
       "    }\n",
       "\n",
       "    .dataframe tbody tr th {\n",
       "        vertical-align: top;\n",
       "    }\n",
       "\n",
       "    .dataframe thead th {\n",
       "        text-align: right;\n",
       "    }\n",
       "</style>\n",
       "<table border=\"1\" class=\"dataframe\">\n",
       "  <thead>\n",
       "    <tr style=\"text-align: right;\">\n",
       "      <th></th>\n",
       "      <th>lender</th>\n",
       "      <th>fund_count</th>\n",
       "    </tr>\n",
       "  </thead>\n",
       "  <tbody>\n",
       "    <tr>\n",
       "      <th>0</th>\n",
       "      <td>000</td>\n",
       "      <td>39</td>\n",
       "    </tr>\n",
       "    <tr>\n",
       "      <th>1</th>\n",
       "      <td>00000</td>\n",
       "      <td>39</td>\n",
       "    </tr>\n",
       "    <tr>\n",
       "      <th>2</th>\n",
       "      <td>0002</td>\n",
       "      <td>70</td>\n",
       "    </tr>\n",
       "    <tr>\n",
       "      <th>4</th>\n",
       "      <td>0101craign0101</td>\n",
       "      <td>71</td>\n",
       "    </tr>\n",
       "    <tr>\n",
       "      <th>5</th>\n",
       "      <td>0132575</td>\n",
       "      <td>4</td>\n",
       "    </tr>\n",
       "    <tr>\n",
       "      <th>6</th>\n",
       "      <td>0154884</td>\n",
       "      <td>4</td>\n",
       "    </tr>\n",
       "    <tr>\n",
       "      <th>7</th>\n",
       "      <td>0161130</td>\n",
       "      <td>2</td>\n",
       "    </tr>\n",
       "    <tr>\n",
       "      <th>8</th>\n",
       "      <td>0169713</td>\n",
       "      <td>3</td>\n",
       "    </tr>\n",
       "    <tr>\n",
       "      <th>9</th>\n",
       "      <td>0185429</td>\n",
       "      <td>2</td>\n",
       "    </tr>\n",
       "    <tr>\n",
       "      <th>11</th>\n",
       "      <td>0206338</td>\n",
       "      <td>2</td>\n",
       "    </tr>\n",
       "    <tr>\n",
       "      <th>12</th>\n",
       "      <td>0219854</td>\n",
       "      <td>3</td>\n",
       "    </tr>\n",
       "    <tr>\n",
       "      <th>13</th>\n",
       "      <td>0221581</td>\n",
       "      <td>2</td>\n",
       "    </tr>\n",
       "    <tr>\n",
       "      <th>14</th>\n",
       "      <td>0239059</td>\n",
       "      <td>2</td>\n",
       "    </tr>\n",
       "    <tr>\n",
       "      <th>16</th>\n",
       "      <td>0256321</td>\n",
       "      <td>2</td>\n",
       "    </tr>\n",
       "    <tr>\n",
       "      <th>17</th>\n",
       "      <td>0265562</td>\n",
       "      <td>2</td>\n",
       "    </tr>\n",
       "  </tbody>\n",
       "</table>\n",
       "</div>"
      ],
      "text/plain": [
       "             lender  fund_count\n",
       "0               000          39\n",
       "1             00000          39\n",
       "2              0002          70\n",
       "4    0101craign0101          71\n",
       "5           0132575           4\n",
       "6           0154884           4\n",
       "7           0161130           2\n",
       "8           0169713           3\n",
       "9           0185429           2\n",
       "11          0206338           2\n",
       "12          0219854           3\n",
       "13          0221581           2\n",
       "14          0239059           2\n",
       "16          0256321           2\n",
       "17          0265562           2"
      ]
     },
     "execution_count": 24,
     "metadata": {},
     "output_type": "execute_result"
    }
   ],
   "source": [
    "loans_by_lenders.head(15)"
   ]
  },
  {
   "cell_type": "code",
   "execution_count": 25,
   "metadata": {},
   "outputs": [
    {
     "data": {
      "text/plain": [
       "2010222"
      ]
     },
     "execution_count": 25,
     "metadata": {},
     "output_type": "execute_result"
    }
   ],
   "source": [
    "loans_by_lenders.size"
   ]
  },
  {
   "cell_type": "markdown",
   "metadata": {},
   "source": [
    "### Point 4: \n",
    "For each country, compute how many loans have involved that country as borrowers"
   ]
  },
  {
   "cell_type": "markdown",
   "metadata": {},
   "source": [
    "### Point 5: \n",
    "For each country, compute the overall amount of money borrowed"
   ]
  },
  {
   "cell_type": "markdown",
   "metadata": {},
   "source": [
    "### Point 6: \n",
    "Like the previous point, but expressed as a percentage of the overall amount lent"
   ]
  },
  {
   "cell_type": "markdown",
   "metadata": {},
   "source": [
    "I decided to group together points 4,5,6 since they work on the same dataset (loans) using the same group by structure.\n",
    "We now focus on country group level. we're asked to compute the number of loans have involved a country as borrower, the overall amount borrowed and the % of amount borrowed wrt overall amount lent.\n",
    "\n",
    "The idea is to group by country code first, then apply all the aggregate operators needed (count, sum..)."
   ]
  },
  {
   "cell_type": "code",
   "execution_count": 26,
   "metadata": {},
   "outputs": [],
   "source": [
    "def borrow_summary(dimensions: list) -> pd.DataFrame:\n",
    "    grouped = loans.groupby(dimensions)\n",
    "    borrow_summary = grouped['loan_id'].count().reset_index(name='borrow_count')\n",
    "    borrow_summary['overall_amount_borrowed'] = grouped['loan_amount'].sum().reset_index()['loan_amount']\n",
    "    overall_amount_lent = loans['loan_amount'].sum()\n",
    "    borrow_summary['overall_amount_borrowed/total'] = (borrow_summary['overall_amount_borrowed'] / overall_amount_lent) * 100\n",
    "    return borrow_summary"
   ]
  },
  {
   "cell_type": "code",
   "execution_count": 27,
   "metadata": {},
   "outputs": [],
   "source": [
    "borrow_by_country = borrow_summary('country_code')"
   ]
  },
  {
   "cell_type": "code",
   "execution_count": 28,
   "metadata": {},
   "outputs": [
    {
     "data": {
      "text/html": [
       "<div>\n",
       "<style scoped>\n",
       "    .dataframe tbody tr th:only-of-type {\n",
       "        vertical-align: middle;\n",
       "    }\n",
       "\n",
       "    .dataframe tbody tr th {\n",
       "        vertical-align: top;\n",
       "    }\n",
       "\n",
       "    .dataframe thead th {\n",
       "        text-align: right;\n",
       "    }\n",
       "</style>\n",
       "<table border=\"1\" class=\"dataframe\">\n",
       "  <thead>\n",
       "    <tr style=\"text-align: right;\">\n",
       "      <th></th>\n",
       "      <th>country_code</th>\n",
       "      <th>borrow_count</th>\n",
       "      <th>overall_amount_borrowed</th>\n",
       "      <th>overall_amount_borrowed/total</th>\n",
       "    </tr>\n",
       "  </thead>\n",
       "  <tbody>\n",
       "    <tr>\n",
       "      <th>0</th>\n",
       "      <td>AF</td>\n",
       "      <td>2337</td>\n",
       "      <td>1967950.00000</td>\n",
       "      <td>0.16657</td>\n",
       "    </tr>\n",
       "    <tr>\n",
       "      <th>1</th>\n",
       "      <td>AL</td>\n",
       "      <td>3075</td>\n",
       "      <td>4307350.00000</td>\n",
       "      <td>0.36459</td>\n",
       "    </tr>\n",
       "    <tr>\n",
       "      <th>2</th>\n",
       "      <td>AM</td>\n",
       "      <td>13952</td>\n",
       "      <td>22950475.00000</td>\n",
       "      <td>1.94259</td>\n",
       "    </tr>\n",
       "    <tr>\n",
       "      <th>3</th>\n",
       "      <td>AZ</td>\n",
       "      <td>10172</td>\n",
       "      <td>14784625.00000</td>\n",
       "      <td>1.25141</td>\n",
       "    </tr>\n",
       "    <tr>\n",
       "      <th>4</th>\n",
       "      <td>BA</td>\n",
       "      <td>608</td>\n",
       "      <td>477250.00000</td>\n",
       "      <td>0.04040</td>\n",
       "    </tr>\n",
       "    <tr>\n",
       "      <th>5</th>\n",
       "      <td>BF</td>\n",
       "      <td>3489</td>\n",
       "      <td>4085200.00000</td>\n",
       "      <td>0.34578</td>\n",
       "    </tr>\n",
       "    <tr>\n",
       "      <th>6</th>\n",
       "      <td>BG</td>\n",
       "      <td>296</td>\n",
       "      <td>375300.00000</td>\n",
       "      <td>0.03177</td>\n",
       "    </tr>\n",
       "    <tr>\n",
       "      <th>7</th>\n",
       "      <td>BI</td>\n",
       "      <td>1727</td>\n",
       "      <td>5233450.00000</td>\n",
       "      <td>0.44297</td>\n",
       "    </tr>\n",
       "    <tr>\n",
       "      <th>8</th>\n",
       "      <td>BJ</td>\n",
       "      <td>5946</td>\n",
       "      <td>3865825.00000</td>\n",
       "      <td>0.32721</td>\n",
       "    </tr>\n",
       "    <tr>\n",
       "      <th>9</th>\n",
       "      <td>BO</td>\n",
       "      <td>25250</td>\n",
       "      <td>44226725.00000</td>\n",
       "      <td>3.74347</td>\n",
       "    </tr>\n",
       "    <tr>\n",
       "      <th>10</th>\n",
       "      <td>BR</td>\n",
       "      <td>482</td>\n",
       "      <td>1192325.00000</td>\n",
       "      <td>0.10092</td>\n",
       "    </tr>\n",
       "    <tr>\n",
       "      <th>11</th>\n",
       "      <td>BT</td>\n",
       "      <td>2</td>\n",
       "      <td>20000.00000</td>\n",
       "      <td>0.00169</td>\n",
       "    </tr>\n",
       "    <tr>\n",
       "      <th>12</th>\n",
       "      <td>BW</td>\n",
       "      <td>1</td>\n",
       "      <td>8000.00000</td>\n",
       "      <td>0.00068</td>\n",
       "    </tr>\n",
       "    <tr>\n",
       "      <th>13</th>\n",
       "      <td>BZ</td>\n",
       "      <td>218</td>\n",
       "      <td>150175.00000</td>\n",
       "      <td>0.01271</td>\n",
       "    </tr>\n",
       "    <tr>\n",
       "      <th>14</th>\n",
       "      <td>CA</td>\n",
       "      <td>1</td>\n",
       "      <td>50000.00000</td>\n",
       "      <td>0.00423</td>\n",
       "    </tr>\n",
       "  </tbody>\n",
       "</table>\n",
       "</div>"
      ],
      "text/plain": [
       "   country_code  borrow_count  overall_amount_borrowed  \\\n",
       "0            AF          2337            1967950.00000   \n",
       "1            AL          3075            4307350.00000   \n",
       "2            AM         13952           22950475.00000   \n",
       "3            AZ         10172           14784625.00000   \n",
       "4            BA           608             477250.00000   \n",
       "5            BF          3489            4085200.00000   \n",
       "6            BG           296             375300.00000   \n",
       "7            BI          1727            5233450.00000   \n",
       "8            BJ          5946            3865825.00000   \n",
       "9            BO         25250           44226725.00000   \n",
       "10           BR           482            1192325.00000   \n",
       "11           BT             2              20000.00000   \n",
       "12           BW             1               8000.00000   \n",
       "13           BZ           218             150175.00000   \n",
       "14           CA             1              50000.00000   \n",
       "\n",
       "    overall_amount_borrowed/total  \n",
       "0                         0.16657  \n",
       "1                         0.36459  \n",
       "2                         1.94259  \n",
       "3                         1.25141  \n",
       "4                         0.04040  \n",
       "5                         0.34578  \n",
       "6                         0.03177  \n",
       "7                         0.44297  \n",
       "8                         0.32721  \n",
       "9                         3.74347  \n",
       "10                        0.10092  \n",
       "11                        0.00169  \n",
       "12                        0.00068  \n",
       "13                        0.01271  \n",
       "14                        0.00423  "
      ]
     },
     "execution_count": 28,
     "metadata": {},
     "output_type": "execute_result"
    }
   ],
   "source": [
    "borrow_by_country.head(15)"
   ]
  },
  {
   "cell_type": "code",
   "execution_count": 29,
   "metadata": {},
   "outputs": [
    {
     "data": {
      "text/html": [
       "<div>\n",
       "<style scoped>\n",
       "    .dataframe tbody tr th:only-of-type {\n",
       "        vertical-align: middle;\n",
       "    }\n",
       "\n",
       "    .dataframe tbody tr th {\n",
       "        vertical-align: top;\n",
       "    }\n",
       "\n",
       "    .dataframe thead th {\n",
       "        text-align: right;\n",
       "    }\n",
       "</style>\n",
       "<table border=\"1\" class=\"dataframe\">\n",
       "  <thead>\n",
       "    <tr style=\"text-align: right;\">\n",
       "      <th></th>\n",
       "      <th>borrow_count</th>\n",
       "      <th>overall_amount_borrowed</th>\n",
       "      <th>overall_amount_borrowed/total</th>\n",
       "    </tr>\n",
       "  </thead>\n",
       "  <tbody>\n",
       "    <tr>\n",
       "      <th>count</th>\n",
       "      <td>95.00000</td>\n",
       "      <td>95.00000</td>\n",
       "      <td>95.00000</td>\n",
       "    </tr>\n",
       "    <tr>\n",
       "      <th>mean</th>\n",
       "      <td>14943.13684</td>\n",
       "      <td>12435766.05263</td>\n",
       "      <td>1.05260</td>\n",
       "    </tr>\n",
       "    <tr>\n",
       "      <th>std</th>\n",
       "      <td>35149.88448</td>\n",
       "      <td>18263180.36163</td>\n",
       "      <td>1.54584</td>\n",
       "    </tr>\n",
       "    <tr>\n",
       "      <th>min</th>\n",
       "      <td>1.00000</td>\n",
       "      <td>5000.00000</td>\n",
       "      <td>0.00042</td>\n",
       "    </tr>\n",
       "    <tr>\n",
       "      <th>25%</th>\n",
       "      <td>545.00000</td>\n",
       "      <td>752525.00000</td>\n",
       "      <td>0.06370</td>\n",
       "    </tr>\n",
       "    <tr>\n",
       "      <th>50%</th>\n",
       "      <td>4681.00000</td>\n",
       "      <td>4181100.00000</td>\n",
       "      <td>0.35390</td>\n",
       "    </tr>\n",
       "    <tr>\n",
       "      <th>75%</th>\n",
       "      <td>15117.00000</td>\n",
       "      <td>16728425.00000</td>\n",
       "      <td>1.41594</td>\n",
       "    </tr>\n",
       "    <tr>\n",
       "      <th>max</th>\n",
       "      <td>285336.00000</td>\n",
       "      <td>97984600.00000</td>\n",
       "      <td>8.29368</td>\n",
       "    </tr>\n",
       "  </tbody>\n",
       "</table>\n",
       "</div>"
      ],
      "text/plain": [
       "       borrow_count  overall_amount_borrowed  overall_amount_borrowed/total\n",
       "count      95.00000                 95.00000                       95.00000\n",
       "mean    14943.13684           12435766.05263                        1.05260\n",
       "std     35149.88448           18263180.36163                        1.54584\n",
       "min         1.00000               5000.00000                        0.00042\n",
       "25%       545.00000             752525.00000                        0.06370\n",
       "50%      4681.00000            4181100.00000                        0.35390\n",
       "75%     15117.00000           16728425.00000                        1.41594\n",
       "max    285336.00000           97984600.00000                        8.29368"
      ]
     },
     "execution_count": 29,
     "metadata": {},
     "output_type": "execute_result"
    }
   ],
   "source": [
    "borrow_by_country.describe()"
   ]
  },
  {
   "cell_type": "code",
   "execution_count": 30,
   "metadata": {},
   "outputs": [
    {
     "data": {
      "text/html": [
       "<div>\n",
       "<style scoped>\n",
       "    .dataframe tbody tr th:only-of-type {\n",
       "        vertical-align: middle;\n",
       "    }\n",
       "\n",
       "    .dataframe tbody tr th {\n",
       "        vertical-align: top;\n",
       "    }\n",
       "\n",
       "    .dataframe thead th {\n",
       "        text-align: right;\n",
       "    }\n",
       "</style>\n",
       "<table border=\"1\" class=\"dataframe\">\n",
       "  <thead>\n",
       "    <tr style=\"text-align: right;\">\n",
       "      <th></th>\n",
       "      <th>country_code</th>\n",
       "      <th>borrow_count</th>\n",
       "      <th>overall_amount_borrowed</th>\n",
       "      <th>overall_amount_borrowed/total</th>\n",
       "    </tr>\n",
       "  </thead>\n",
       "  <tbody>\n",
       "    <tr>\n",
       "      <th>61</th>\n",
       "      <td>PH</td>\n",
       "      <td>285336</td>\n",
       "      <td>97984600.00000</td>\n",
       "      <td>8.29368</td>\n",
       "    </tr>\n",
       "    <tr>\n",
       "      <th>59</th>\n",
       "      <td>PE</td>\n",
       "      <td>86000</td>\n",
       "      <td>79437775.00000</td>\n",
       "      <td>6.72382</td>\n",
       "    </tr>\n",
       "    <tr>\n",
       "      <th>38</th>\n",
       "      <td>KE</td>\n",
       "      <td>143699</td>\n",
       "      <td>66735975.00000</td>\n",
       "      <td>5.64871</td>\n",
       "    </tr>\n",
       "    <tr>\n",
       "      <th>65</th>\n",
       "      <td>PY</td>\n",
       "      <td>24787</td>\n",
       "      <td>53964700.00000</td>\n",
       "      <td>4.56772</td>\n",
       "    </tr>\n",
       "    <tr>\n",
       "      <th>40</th>\n",
       "      <td>KH</td>\n",
       "      <td>79701</td>\n",
       "      <td>51613525.00000</td>\n",
       "      <td>4.36871</td>\n",
       "    </tr>\n",
       "    <tr>\n",
       "      <th>...</th>\n",
       "      <td>...</td>\n",
       "      <td>...</td>\n",
       "      <td>...</td>\n",
       "      <td>...</td>\n",
       "    </tr>\n",
       "    <tr>\n",
       "      <th>86</th>\n",
       "      <td>VI</td>\n",
       "      <td>2</td>\n",
       "      <td>10000.00000</td>\n",
       "      <td>0.00085</td>\n",
       "    </tr>\n",
       "    <tr>\n",
       "      <th>88</th>\n",
       "      <td>VU</td>\n",
       "      <td>4</td>\n",
       "      <td>9250.00000</td>\n",
       "      <td>0.00078</td>\n",
       "    </tr>\n",
       "    <tr>\n",
       "      <th>84</th>\n",
       "      <td>UY</td>\n",
       "      <td>1</td>\n",
       "      <td>8000.00000</td>\n",
       "      <td>0.00068</td>\n",
       "    </tr>\n",
       "    <tr>\n",
       "      <th>12</th>\n",
       "      <td>BW</td>\n",
       "      <td>1</td>\n",
       "      <td>8000.00000</td>\n",
       "      <td>0.00068</td>\n",
       "    </tr>\n",
       "    <tr>\n",
       "      <th>30</th>\n",
       "      <td>GZ</td>\n",
       "      <td>8</td>\n",
       "      <td>5000.00000</td>\n",
       "      <td>0.00042</td>\n",
       "    </tr>\n",
       "  </tbody>\n",
       "</table>\n",
       "<p>95 rows × 4 columns</p>\n",
       "</div>"
      ],
      "text/plain": [
       "   country_code  borrow_count  overall_amount_borrowed  \\\n",
       "61           PH        285336           97984600.00000   \n",
       "59           PE         86000           79437775.00000   \n",
       "38           KE        143699           66735975.00000   \n",
       "65           PY         24787           53964700.00000   \n",
       "40           KH         79701           51613525.00000   \n",
       "..          ...           ...                      ...   \n",
       "86           VI             2              10000.00000   \n",
       "88           VU             4               9250.00000   \n",
       "84           UY             1               8000.00000   \n",
       "12           BW             1               8000.00000   \n",
       "30           GZ             8               5000.00000   \n",
       "\n",
       "    overall_amount_borrowed/total  \n",
       "61                        8.29368  \n",
       "59                        6.72382  \n",
       "38                        5.64871  \n",
       "65                        4.56772  \n",
       "40                        4.36871  \n",
       "..                            ...  \n",
       "86                        0.00085  \n",
       "88                        0.00078  \n",
       "84                        0.00068  \n",
       "12                        0.00068  \n",
       "30                        0.00042  \n",
       "\n",
       "[95 rows x 4 columns]"
      ]
     },
     "execution_count": 30,
     "metadata": {},
     "output_type": "execute_result"
    }
   ],
   "source": [
    "borrow_by_country.sort_values('overall_amount_borrowed', ascending=False)"
   ]
  },
  {
   "cell_type": "markdown",
   "metadata": {},
   "source": [
    "We can notice that Philippines, Peru and Kenia are the country which borrowed more money with 8.29, 6.72 and 5.64 % of total money lent."
   ]
  },
  {
   "cell_type": "markdown",
   "metadata": {},
   "source": [
    "### Point 7: \n",
    "Like the three previous points, but split for each year (with respect to disburse_time)"
   ]
  },
  {
   "cell_type": "markdown",
   "metadata": {},
   "source": [
    "We can here exploit the same function defined before, but grouping by (country_code, year)"
   ]
  },
  {
   "cell_type": "code",
   "execution_count": 31,
   "metadata": {},
   "outputs": [],
   "source": [
    "borrow_by_year = borrow_summary(['country_code', loans['disburse_time'].dt.year])"
   ]
  },
  {
   "cell_type": "code",
   "execution_count": 32,
   "metadata": {},
   "outputs": [
    {
     "data": {
      "text/html": [
       "<div>\n",
       "<style scoped>\n",
       "    .dataframe tbody tr th:only-of-type {\n",
       "        vertical-align: middle;\n",
       "    }\n",
       "\n",
       "    .dataframe tbody tr th {\n",
       "        vertical-align: top;\n",
       "    }\n",
       "\n",
       "    .dataframe thead th {\n",
       "        text-align: right;\n",
       "    }\n",
       "</style>\n",
       "<table border=\"1\" class=\"dataframe\">\n",
       "  <thead>\n",
       "    <tr style=\"text-align: right;\">\n",
       "      <th></th>\n",
       "      <th>country_code</th>\n",
       "      <th>disburse_time</th>\n",
       "      <th>borrow_count</th>\n",
       "      <th>overall_amount_borrowed</th>\n",
       "      <th>overall_amount_borrowed/total</th>\n",
       "    </tr>\n",
       "  </thead>\n",
       "  <tbody>\n",
       "    <tr>\n",
       "      <th>0</th>\n",
       "      <td>AF</td>\n",
       "      <td>2007.00000</td>\n",
       "      <td>408</td>\n",
       "      <td>194975.00000</td>\n",
       "      <td>0.01650</td>\n",
       "    </tr>\n",
       "    <tr>\n",
       "      <th>1</th>\n",
       "      <td>AF</td>\n",
       "      <td>2008.00000</td>\n",
       "      <td>370</td>\n",
       "      <td>365375.00000</td>\n",
       "      <td>0.03093</td>\n",
       "    </tr>\n",
       "    <tr>\n",
       "      <th>2</th>\n",
       "      <td>AF</td>\n",
       "      <td>2009.00000</td>\n",
       "      <td>678</td>\n",
       "      <td>585125.00000</td>\n",
       "      <td>0.04953</td>\n",
       "    </tr>\n",
       "    <tr>\n",
       "      <th>3</th>\n",
       "      <td>AF</td>\n",
       "      <td>2010.00000</td>\n",
       "      <td>632</td>\n",
       "      <td>563350.00000</td>\n",
       "      <td>0.04768</td>\n",
       "    </tr>\n",
       "    <tr>\n",
       "      <th>4</th>\n",
       "      <td>AF</td>\n",
       "      <td>2011.00000</td>\n",
       "      <td>247</td>\n",
       "      <td>245125.00000</td>\n",
       "      <td>0.02075</td>\n",
       "    </tr>\n",
       "    <tr>\n",
       "      <th>5</th>\n",
       "      <td>AF</td>\n",
       "      <td>2015.00000</td>\n",
       "      <td>1</td>\n",
       "      <td>6000.00000</td>\n",
       "      <td>0.00051</td>\n",
       "    </tr>\n",
       "    <tr>\n",
       "      <th>6</th>\n",
       "      <td>AF</td>\n",
       "      <td>2016.00000</td>\n",
       "      <td>1</td>\n",
       "      <td>8000.00000</td>\n",
       "      <td>0.00068</td>\n",
       "    </tr>\n",
       "    <tr>\n",
       "      <th>7</th>\n",
       "      <td>AL</td>\n",
       "      <td>2012.00000</td>\n",
       "      <td>332</td>\n",
       "      <td>413000.00000</td>\n",
       "      <td>0.03496</td>\n",
       "    </tr>\n",
       "    <tr>\n",
       "      <th>8</th>\n",
       "      <td>AL</td>\n",
       "      <td>2013.00000</td>\n",
       "      <td>507</td>\n",
       "      <td>786950.00000</td>\n",
       "      <td>0.06661</td>\n",
       "    </tr>\n",
       "    <tr>\n",
       "      <th>9</th>\n",
       "      <td>AL</td>\n",
       "      <td>2014.00000</td>\n",
       "      <td>603</td>\n",
       "      <td>902550.00000</td>\n",
       "      <td>0.07639</td>\n",
       "    </tr>\n",
       "    <tr>\n",
       "      <th>10</th>\n",
       "      <td>AL</td>\n",
       "      <td>2015.00000</td>\n",
       "      <td>638</td>\n",
       "      <td>844375.00000</td>\n",
       "      <td>0.07147</td>\n",
       "    </tr>\n",
       "    <tr>\n",
       "      <th>11</th>\n",
       "      <td>AL</td>\n",
       "      <td>2016.00000</td>\n",
       "      <td>475</td>\n",
       "      <td>639025.00000</td>\n",
       "      <td>0.05409</td>\n",
       "    </tr>\n",
       "    <tr>\n",
       "      <th>12</th>\n",
       "      <td>AL</td>\n",
       "      <td>2017.00000</td>\n",
       "      <td>520</td>\n",
       "      <td>721450.00000</td>\n",
       "      <td>0.06107</td>\n",
       "    </tr>\n",
       "    <tr>\n",
       "      <th>13</th>\n",
       "      <td>AM</td>\n",
       "      <td>2009.00000</td>\n",
       "      <td>51</td>\n",
       "      <td>91000.00000</td>\n",
       "      <td>0.00770</td>\n",
       "    </tr>\n",
       "    <tr>\n",
       "      <th>14</th>\n",
       "      <td>AM</td>\n",
       "      <td>2010.00000</td>\n",
       "      <td>347</td>\n",
       "      <td>731875.00000</td>\n",
       "      <td>0.06195</td>\n",
       "    </tr>\n",
       "  </tbody>\n",
       "</table>\n",
       "</div>"
      ],
      "text/plain": [
       "   country_code  disburse_time  borrow_count  overall_amount_borrowed  \\\n",
       "0            AF     2007.00000           408             194975.00000   \n",
       "1            AF     2008.00000           370             365375.00000   \n",
       "2            AF     2009.00000           678             585125.00000   \n",
       "3            AF     2010.00000           632             563350.00000   \n",
       "4            AF     2011.00000           247             245125.00000   \n",
       "5            AF     2015.00000             1               6000.00000   \n",
       "6            AF     2016.00000             1               8000.00000   \n",
       "7            AL     2012.00000           332             413000.00000   \n",
       "8            AL     2013.00000           507             786950.00000   \n",
       "9            AL     2014.00000           603             902550.00000   \n",
       "10           AL     2015.00000           638             844375.00000   \n",
       "11           AL     2016.00000           475             639025.00000   \n",
       "12           AL     2017.00000           520             721450.00000   \n",
       "13           AM     2009.00000            51              91000.00000   \n",
       "14           AM     2010.00000           347             731875.00000   \n",
       "\n",
       "    overall_amount_borrowed/total  \n",
       "0                         0.01650  \n",
       "1                         0.03093  \n",
       "2                         0.04953  \n",
       "3                         0.04768  \n",
       "4                         0.02075  \n",
       "5                         0.00051  \n",
       "6                         0.00068  \n",
       "7                         0.03496  \n",
       "8                         0.06661  \n",
       "9                         0.07639  \n",
       "10                        0.07147  \n",
       "11                        0.05409  \n",
       "12                        0.06107  \n",
       "13                        0.00770  \n",
       "14                        0.06195  "
      ]
     },
     "execution_count": 32,
     "metadata": {},
     "output_type": "execute_result"
    }
   ],
   "source": [
    "borrow_by_year.head(15)"
   ]
  },
  {
   "cell_type": "code",
   "execution_count": 33,
   "metadata": {},
   "outputs": [
    {
     "data": {
      "text/html": [
       "<div>\n",
       "<style scoped>\n",
       "    .dataframe tbody tr th:only-of-type {\n",
       "        vertical-align: middle;\n",
       "    }\n",
       "\n",
       "    .dataframe tbody tr th {\n",
       "        vertical-align: top;\n",
       "    }\n",
       "\n",
       "    .dataframe thead th {\n",
       "        text-align: right;\n",
       "    }\n",
       "</style>\n",
       "<table border=\"1\" class=\"dataframe\">\n",
       "  <thead>\n",
       "    <tr style=\"text-align: right;\">\n",
       "      <th></th>\n",
       "      <th>country_code</th>\n",
       "      <th>disburse_time</th>\n",
       "      <th>borrow_count</th>\n",
       "      <th>overall_amount_borrowed</th>\n",
       "      <th>overall_amount_borrowed/total</th>\n",
       "    </tr>\n",
       "  </thead>\n",
       "  <tbody>\n",
       "    <tr>\n",
       "      <th>483</th>\n",
       "      <td>PH</td>\n",
       "      <td>2017.00000</td>\n",
       "      <td>53195</td>\n",
       "      <td>17096900.00000</td>\n",
       "      <td>1.44713</td>\n",
       "    </tr>\n",
       "    <tr>\n",
       "      <th>482</th>\n",
       "      <td>PH</td>\n",
       "      <td>2016.00000</td>\n",
       "      <td>48262</td>\n",
       "      <td>16218925.00000</td>\n",
       "      <td>1.37281</td>\n",
       "    </tr>\n",
       "    <tr>\n",
       "      <th>481</th>\n",
       "      <td>PH</td>\n",
       "      <td>2015.00000</td>\n",
       "      <td>46021</td>\n",
       "      <td>16083375.00000</td>\n",
       "      <td>1.36134</td>\n",
       "    </tr>\n",
       "    <tr>\n",
       "      <th>480</th>\n",
       "      <td>PH</td>\n",
       "      <td>2014.00000</td>\n",
       "      <td>37778</td>\n",
       "      <td>13961450.00000</td>\n",
       "      <td>1.18173</td>\n",
       "    </tr>\n",
       "    <tr>\n",
       "      <th>294</th>\n",
       "      <td>KE</td>\n",
       "      <td>2015.00000</td>\n",
       "      <td>23560</td>\n",
       "      <td>10257950.00000</td>\n",
       "      <td>0.86826</td>\n",
       "    </tr>\n",
       "    <tr>\n",
       "      <th>296</th>\n",
       "      <td>KE</td>\n",
       "      <td>2017.00000</td>\n",
       "      <td>23812</td>\n",
       "      <td>10182050.00000</td>\n",
       "      <td>0.86184</td>\n",
       "    </tr>\n",
       "    <tr>\n",
       "      <th>466</th>\n",
       "      <td>PE</td>\n",
       "      <td>2012.00000</td>\n",
       "      <td>11191</td>\n",
       "      <td>9830525.00000</td>\n",
       "      <td>0.83208</td>\n",
       "    </tr>\n",
       "    <tr>\n",
       "      <th>519</th>\n",
       "      <td>PY</td>\n",
       "      <td>2016.00000</td>\n",
       "      <td>3840</td>\n",
       "      <td>9819725.00000</td>\n",
       "      <td>0.83117</td>\n",
       "    </tr>\n",
       "    <tr>\n",
       "      <th>295</th>\n",
       "      <td>KE</td>\n",
       "      <td>2016.00000</td>\n",
       "      <td>20512</td>\n",
       "      <td>9629650.00000</td>\n",
       "      <td>0.81508</td>\n",
       "    </tr>\n",
       "    <tr>\n",
       "      <th>479</th>\n",
       "      <td>PH</td>\n",
       "      <td>2013.00000</td>\n",
       "      <td>24496</td>\n",
       "      <td>9432425.00000</td>\n",
       "      <td>0.79839</td>\n",
       "    </tr>\n",
       "    <tr>\n",
       "      <th>470</th>\n",
       "      <td>PE</td>\n",
       "      <td>2016.00000</td>\n",
       "      <td>6125</td>\n",
       "      <td>9409475.00000</td>\n",
       "      <td>0.79644</td>\n",
       "    </tr>\n",
       "    <tr>\n",
       "      <th>520</th>\n",
       "      <td>PY</td>\n",
       "      <td>2017.00000</td>\n",
       "      <td>3827</td>\n",
       "      <td>9374775.00000</td>\n",
       "      <td>0.79351</td>\n",
       "    </tr>\n",
       "    <tr>\n",
       "      <th>293</th>\n",
       "      <td>KE</td>\n",
       "      <td>2014.00000</td>\n",
       "      <td>18293</td>\n",
       "      <td>9321750.00000</td>\n",
       "      <td>0.78902</td>\n",
       "    </tr>\n",
       "    <tr>\n",
       "      <th>471</th>\n",
       "      <td>PE</td>\n",
       "      <td>2017.00000</td>\n",
       "      <td>5310</td>\n",
       "      <td>9282275.00000</td>\n",
       "      <td>0.78568</td>\n",
       "    </tr>\n",
       "    <tr>\n",
       "      <th>478</th>\n",
       "      <td>PH</td>\n",
       "      <td>2012.00000</td>\n",
       "      <td>24069</td>\n",
       "      <td>8881125.00000</td>\n",
       "      <td>0.75172</td>\n",
       "    </tr>\n",
       "    <tr>\n",
       "      <th>468</th>\n",
       "      <td>PE</td>\n",
       "      <td>2014.00000</td>\n",
       "      <td>7548</td>\n",
       "      <td>8754575.00000</td>\n",
       "      <td>0.74101</td>\n",
       "    </tr>\n",
       "    <tr>\n",
       "      <th>465</th>\n",
       "      <td>PE</td>\n",
       "      <td>2011.00000</td>\n",
       "      <td>12560</td>\n",
       "      <td>8426900.00000</td>\n",
       "      <td>0.71328</td>\n",
       "    </tr>\n",
       "    <tr>\n",
       "      <th>587</th>\n",
       "      <td>SV</td>\n",
       "      <td>2014.00000</td>\n",
       "      <td>13044</td>\n",
       "      <td>8423825.00000</td>\n",
       "      <td>0.71301</td>\n",
       "    </tr>\n",
       "    <tr>\n",
       "      <th>292</th>\n",
       "      <td>KE</td>\n",
       "      <td>2013.00000</td>\n",
       "      <td>16126</td>\n",
       "      <td>8233725.00000</td>\n",
       "      <td>0.69692</td>\n",
       "    </tr>\n",
       "    <tr>\n",
       "      <th>588</th>\n",
       "      <td>SV</td>\n",
       "      <td>2015.00000</td>\n",
       "      <td>11952</td>\n",
       "      <td>8231200.00000</td>\n",
       "      <td>0.69671</td>\n",
       "    </tr>\n",
       "  </tbody>\n",
       "</table>\n",
       "</div>"
      ],
      "text/plain": [
       "    country_code  disburse_time  borrow_count  overall_amount_borrowed  \\\n",
       "483           PH     2017.00000         53195           17096900.00000   \n",
       "482           PH     2016.00000         48262           16218925.00000   \n",
       "481           PH     2015.00000         46021           16083375.00000   \n",
       "480           PH     2014.00000         37778           13961450.00000   \n",
       "294           KE     2015.00000         23560           10257950.00000   \n",
       "296           KE     2017.00000         23812           10182050.00000   \n",
       "466           PE     2012.00000         11191            9830525.00000   \n",
       "519           PY     2016.00000          3840            9819725.00000   \n",
       "295           KE     2016.00000         20512            9629650.00000   \n",
       "479           PH     2013.00000         24496            9432425.00000   \n",
       "470           PE     2016.00000          6125            9409475.00000   \n",
       "520           PY     2017.00000          3827            9374775.00000   \n",
       "293           KE     2014.00000         18293            9321750.00000   \n",
       "471           PE     2017.00000          5310            9282275.00000   \n",
       "478           PH     2012.00000         24069            8881125.00000   \n",
       "468           PE     2014.00000          7548            8754575.00000   \n",
       "465           PE     2011.00000         12560            8426900.00000   \n",
       "587           SV     2014.00000         13044            8423825.00000   \n",
       "292           KE     2013.00000         16126            8233725.00000   \n",
       "588           SV     2015.00000         11952            8231200.00000   \n",
       "\n",
       "     overall_amount_borrowed/total  \n",
       "483                        1.44713  \n",
       "482                        1.37281  \n",
       "481                        1.36134  \n",
       "480                        1.18173  \n",
       "294                        0.86826  \n",
       "296                        0.86184  \n",
       "466                        0.83208  \n",
       "519                        0.83117  \n",
       "295                        0.81508  \n",
       "479                        0.79839  \n",
       "470                        0.79644  \n",
       "520                        0.79351  \n",
       "293                        0.78902  \n",
       "471                        0.78568  \n",
       "478                        0.75172  \n",
       "468                        0.74101  \n",
       "465                        0.71328  \n",
       "587                        0.71301  \n",
       "292                        0.69692  \n",
       "588                        0.69671  "
      ]
     },
     "execution_count": 33,
     "metadata": {},
     "output_type": "execute_result"
    }
   ],
   "source": [
    "borrow_by_year.sort_values(['overall_amount_borrowed'], ascending=False).head(20)"
   ]
  },
  {
   "cell_type": "markdown",
   "metadata": {},
   "source": [
    "### Point 8: \n",
    "For each lender, compute the overall amount of money lent. For each loan that has more than one lender, you must assume that all lenders contributed the same amount.\n"
   ]
  },
  {
   "cell_type": "markdown",
   "metadata": {},
   "source": [
    "This is the first assignment which involves multiple datasets at the same time. In this case, we're interested in compute the overall amount of money lent for each lender. \n",
    "Since more than one lender can partecipate to the same loan (as we saw in assignment 1), we need to calculate the base contribution for a specific loan (assumption of the assignment).\n",
    "\n",
    "Let's calculate it as the the loan amount divided by number of lenders"
   ]
  },
  {
   "cell_type": "code",
   "execution_count": 34,
   "metadata": {},
   "outputs": [],
   "source": [
    "loans['base_contribution'] = loans.loan_amount / loans.num_lenders_total"
   ]
  },
  {
   "cell_type": "markdown",
   "metadata": {},
   "source": [
    "We need to operate some clean up activity before perform the join operation between loan lenders and loans datasets.\n",
    "Let's calculate the sets of loan ids available in loans dataset but not in loan_lenders one and viceversa."
   ]
  },
  {
   "cell_type": "code",
   "execution_count": 35,
   "metadata": {},
   "outputs": [],
   "source": [
    "ids = set(loans.loan_id) - set(loan_lenders.loan_id)\n",
    "ids2 = set(loan_lenders.loan_id) - set(loans.loan_id)\n"
   ]
  },
  {
   "cell_type": "markdown",
   "metadata": {},
   "source": [
    "Make survive at the filter only loans whit a number of lenders greater than zero and which ids appear in loan_lenders table."
   ]
  },
  {
   "cell_type": "code",
   "execution_count": 36,
   "metadata": {},
   "outputs": [],
   "source": [
    "loans_cleaned = loans[(loans.num_lenders_total > 0) & (~loans.loan_id.isin(ids))]"
   ]
  },
  {
   "cell_type": "markdown",
   "metadata": {},
   "source": [
    "Make survive at the filter only lenders which loan id appears in loans table"
   ]
  },
  {
   "cell_type": "code",
   "execution_count": 37,
   "metadata": {},
   "outputs": [],
   "source": [
    "norm_cleaned = norm_loan_lenders[~norm_loan_lenders.loan_id.isin(ids2)]"
   ]
  },
  {
   "cell_type": "markdown",
   "metadata": {},
   "source": [
    "Time to join. For the sake of this operation, I'll use pandas concat function.\n",
    "After setting up the loan_id column as index for both the datasets, we perform \n",
    "an inner join operation to enrich the normalized loan lenders dataset with additional information on the related loans"
   ]
  },
  {
   "cell_type": "code",
   "execution_count": 38,
   "metadata": {},
   "outputs": [
    {
     "name": "stdout",
     "output_type": "stream",
     "text": [
      "CPU times: user 4.31 s, sys: 2.3 s, total: 6.61 s\n",
      "Wall time: 10.6 s\n"
     ]
    }
   ],
   "source": [
    "%%time\n",
    "\n",
    "joined = pd.concat([norm_cleaned.set_index('loan_id'), loans_cleaned.set_index('loan_id')], axis=1, join='inner')"
   ]
  },
  {
   "cell_type": "code",
   "execution_count": 39,
   "metadata": {},
   "outputs": [
    {
     "data": {
      "text/html": [
       "<div>\n",
       "<style scoped>\n",
       "    .dataframe tbody tr th:only-of-type {\n",
       "        vertical-align: middle;\n",
       "    }\n",
       "\n",
       "    .dataframe tbody tr th {\n",
       "        vertical-align: top;\n",
       "    }\n",
       "\n",
       "    .dataframe thead th {\n",
       "        text-align: right;\n",
       "    }\n",
       "</style>\n",
       "<table border=\"1\" class=\"dataframe\">\n",
       "  <thead>\n",
       "    <tr style=\"text-align: right;\">\n",
       "      <th></th>\n",
       "      <th>lender</th>\n",
       "      <th>country_code</th>\n",
       "      <th>loan_amount</th>\n",
       "      <th>num_lenders_total</th>\n",
       "      <th>disburse_time</th>\n",
       "      <th>planned_expiration_time</th>\n",
       "      <th>duration</th>\n",
       "      <th>base_contribution</th>\n",
       "    </tr>\n",
       "    <tr>\n",
       "      <th>loan_id</th>\n",
       "      <th></th>\n",
       "      <th></th>\n",
       "      <th></th>\n",
       "      <th></th>\n",
       "      <th></th>\n",
       "      <th></th>\n",
       "      <th></th>\n",
       "      <th></th>\n",
       "    </tr>\n",
       "  </thead>\n",
       "  <tbody>\n",
       "    <tr>\n",
       "      <th>483693</th>\n",
       "      <td>muc888</td>\n",
       "      <td>PH</td>\n",
       "      <td>1225.00000</td>\n",
       "      <td>44</td>\n",
       "      <td>2012-09-20 07:00:00</td>\n",
       "      <td>2012-11-17 04:50:01</td>\n",
       "      <td>57 days 21:50:01</td>\n",
       "      <td>27.84091</td>\n",
       "    </tr>\n",
       "    <tr>\n",
       "      <th>483693</th>\n",
       "      <td>sam4326</td>\n",
       "      <td>PH</td>\n",
       "      <td>1225.00000</td>\n",
       "      <td>44</td>\n",
       "      <td>2012-09-20 07:00:00</td>\n",
       "      <td>2012-11-17 04:50:01</td>\n",
       "      <td>57 days 21:50:01</td>\n",
       "      <td>27.84091</td>\n",
       "    </tr>\n",
       "    <tr>\n",
       "      <th>483693</th>\n",
       "      <td>camaran3922</td>\n",
       "      <td>PH</td>\n",
       "      <td>1225.00000</td>\n",
       "      <td>44</td>\n",
       "      <td>2012-09-20 07:00:00</td>\n",
       "      <td>2012-11-17 04:50:01</td>\n",
       "      <td>57 days 21:50:01</td>\n",
       "      <td>27.84091</td>\n",
       "    </tr>\n",
       "    <tr>\n",
       "      <th>483693</th>\n",
       "      <td>lachheb1865</td>\n",
       "      <td>PH</td>\n",
       "      <td>1225.00000</td>\n",
       "      <td>44</td>\n",
       "      <td>2012-09-20 07:00:00</td>\n",
       "      <td>2012-11-17 04:50:01</td>\n",
       "      <td>57 days 21:50:01</td>\n",
       "      <td>27.84091</td>\n",
       "    </tr>\n",
       "    <tr>\n",
       "      <th>483693</th>\n",
       "      <td>rebecca3499</td>\n",
       "      <td>PH</td>\n",
       "      <td>1225.00000</td>\n",
       "      <td>44</td>\n",
       "      <td>2012-09-20 07:00:00</td>\n",
       "      <td>2012-11-17 04:50:01</td>\n",
       "      <td>57 days 21:50:01</td>\n",
       "      <td>27.84091</td>\n",
       "    </tr>\n",
       "  </tbody>\n",
       "</table>\n",
       "</div>"
      ],
      "text/plain": [
       "               lender country_code  loan_amount  num_lenders_total  \\\n",
       "loan_id                                                              \n",
       "483693         muc888           PH   1225.00000                 44   \n",
       "483693        sam4326           PH   1225.00000                 44   \n",
       "483693    camaran3922           PH   1225.00000                 44   \n",
       "483693    lachheb1865           PH   1225.00000                 44   \n",
       "483693    rebecca3499           PH   1225.00000                 44   \n",
       "\n",
       "              disburse_time planned_expiration_time         duration  \\\n",
       "loan_id                                                                \n",
       "483693  2012-09-20 07:00:00     2012-11-17 04:50:01 57 days 21:50:01   \n",
       "483693  2012-09-20 07:00:00     2012-11-17 04:50:01 57 days 21:50:01   \n",
       "483693  2012-09-20 07:00:00     2012-11-17 04:50:01 57 days 21:50:01   \n",
       "483693  2012-09-20 07:00:00     2012-11-17 04:50:01 57 days 21:50:01   \n",
       "483693  2012-09-20 07:00:00     2012-11-17 04:50:01 57 days 21:50:01   \n",
       "\n",
       "         base_contribution  \n",
       "loan_id                     \n",
       "483693            27.84091  \n",
       "483693            27.84091  \n",
       "483693            27.84091  \n",
       "483693            27.84091  \n",
       "483693            27.84091  "
      ]
     },
     "execution_count": 39,
     "metadata": {},
     "output_type": "execute_result"
    }
   ],
   "source": [
    "joined.head()"
   ]
  },
  {
   "cell_type": "markdown",
   "metadata": {},
   "source": [
    "Having retrieved all the need information, let's perform the task assigned. \n",
    "First group by lender column, then sum the base_contribution one."
   ]
  },
  {
   "cell_type": "code",
   "execution_count": 40,
   "metadata": {},
   "outputs": [],
   "source": [
    "overall_amount_per_lender = joined.groupby('lender')['base_contribution'].sum().reset_index(name='overall_amount_lent')"
   ]
  },
  {
   "cell_type": "code",
   "execution_count": 41,
   "metadata": {},
   "outputs": [
    {
     "data": {
      "text/html": [
       "<div>\n",
       "<style scoped>\n",
       "    .dataframe tbody tr th:only-of-type {\n",
       "        vertical-align: middle;\n",
       "    }\n",
       "\n",
       "    .dataframe tbody tr th {\n",
       "        vertical-align: top;\n",
       "    }\n",
       "\n",
       "    .dataframe thead th {\n",
       "        text-align: right;\n",
       "    }\n",
       "</style>\n",
       "<table border=\"1\" class=\"dataframe\">\n",
       "  <thead>\n",
       "    <tr style=\"text-align: right;\">\n",
       "      <th></th>\n",
       "      <th>lender</th>\n",
       "      <th>overall_amount_lent</th>\n",
       "    </tr>\n",
       "  </thead>\n",
       "  <tbody>\n",
       "    <tr>\n",
       "      <th>451868</th>\n",
       "      <td>gooddogg1</td>\n",
       "      <td>6296800.48566</td>\n",
       "    </tr>\n",
       "    <tr>\n",
       "      <th>1293514</th>\n",
       "      <td>trolltech4460</td>\n",
       "      <td>5327795.31327</td>\n",
       "    </tr>\n",
       "    <tr>\n",
       "      <th>451289</th>\n",
       "      <td>gmct</td>\n",
       "      <td>5224017.78783</td>\n",
       "    </tr>\n",
       "    <tr>\n",
       "      <th>636708</th>\n",
       "      <td>jouko1940</td>\n",
       "      <td>4925805.69278</td>\n",
       "    </tr>\n",
       "    <tr>\n",
       "      <th>984907</th>\n",
       "      <td>nms</td>\n",
       "      <td>4049180.94569</td>\n",
       "    </tr>\n",
       "    <tr>\n",
       "      <th>...</th>\n",
       "      <td>...</td>\n",
       "      <td>...</td>\n",
       "    </tr>\n",
       "    <tr>\n",
       "      <th>1473277</th>\n",
       "      <td>jenny4658</td>\n",
       "      <td>6.57895</td>\n",
       "    </tr>\n",
       "    <tr>\n",
       "      <th>1431946</th>\n",
       "      <td>ellen9682</td>\n",
       "      <td>6.25000</td>\n",
       "    </tr>\n",
       "    <tr>\n",
       "      <th>1581767</th>\n",
       "      <td>richard9878</td>\n",
       "      <td>6.25000</td>\n",
       "    </tr>\n",
       "    <tr>\n",
       "      <th>1600428</th>\n",
       "      <td>sharif6818</td>\n",
       "      <td>5.68182</td>\n",
       "    </tr>\n",
       "    <tr>\n",
       "      <th>1363162</th>\n",
       "      <td>amy1316</td>\n",
       "      <td>5.43478</td>\n",
       "    </tr>\n",
       "  </tbody>\n",
       "</table>\n",
       "<p>1639026 rows × 2 columns</p>\n",
       "</div>"
      ],
      "text/plain": [
       "                 lender  overall_amount_lent\n",
       "451868        gooddogg1        6296800.48566\n",
       "1293514   trolltech4460        5327795.31327\n",
       "451289             gmct        5224017.78783\n",
       "636708        jouko1940        4925805.69278\n",
       "984907              nms        4049180.94569\n",
       "...                 ...                  ...\n",
       "1473277       jenny4658              6.57895\n",
       "1431946       ellen9682              6.25000\n",
       "1581767     richard9878              6.25000\n",
       "1600428      sharif6818              5.68182\n",
       "1363162         amy1316              5.43478\n",
       "\n",
       "[1639026 rows x 2 columns]"
      ]
     },
     "execution_count": 41,
     "metadata": {},
     "output_type": "execute_result"
    }
   ],
   "source": [
    "overall_amount_per_lender.sort_values('overall_amount_lent', ascending=False)"
   ]
  },
  {
   "cell_type": "code",
   "execution_count": 42,
   "metadata": {},
   "outputs": [
    {
     "data": {
      "text/html": [
       "<div>\n",
       "<style scoped>\n",
       "    .dataframe tbody tr th:only-of-type {\n",
       "        vertical-align: middle;\n",
       "    }\n",
       "\n",
       "    .dataframe tbody tr th {\n",
       "        vertical-align: top;\n",
       "    }\n",
       "\n",
       "    .dataframe thead th {\n",
       "        text-align: right;\n",
       "    }\n",
       "</style>\n",
       "<table border=\"1\" class=\"dataframe\">\n",
       "  <thead>\n",
       "    <tr style=\"text-align: right;\">\n",
       "      <th></th>\n",
       "      <th>overall_amount_lent</th>\n",
       "    </tr>\n",
       "  </thead>\n",
       "  <tbody>\n",
       "    <tr>\n",
       "      <th>count</th>\n",
       "      <td>1639026.00000</td>\n",
       "    </tr>\n",
       "    <tr>\n",
       "      <th>mean</th>\n",
       "      <td>637.10046</td>\n",
       "    </tr>\n",
       "    <tr>\n",
       "      <th>std</th>\n",
       "      <td>12587.00054</td>\n",
       "    </tr>\n",
       "    <tr>\n",
       "      <th>min</th>\n",
       "      <td>5.43478</td>\n",
       "    </tr>\n",
       "    <tr>\n",
       "      <th>25%</th>\n",
       "      <td>33.48962</td>\n",
       "    </tr>\n",
       "    <tr>\n",
       "      <th>50%</th>\n",
       "      <td>88.17220</td>\n",
       "    </tr>\n",
       "    <tr>\n",
       "      <th>75%</th>\n",
       "      <td>289.14772</td>\n",
       "    </tr>\n",
       "    <tr>\n",
       "      <th>max</th>\n",
       "      <td>6296800.48566</td>\n",
       "    </tr>\n",
       "  </tbody>\n",
       "</table>\n",
       "</div>"
      ],
      "text/plain": [
       "       overall_amount_lent\n",
       "count        1639026.00000\n",
       "mean             637.10046\n",
       "std            12587.00054\n",
       "min                5.43478\n",
       "25%               33.48962\n",
       "50%               88.17220\n",
       "75%              289.14772\n",
       "max          6296800.48566"
      ]
     },
     "execution_count": 42,
     "metadata": {},
     "output_type": "execute_result"
    }
   ],
   "source": [
    "overall_amount_per_lender.describe()"
   ]
  },
  {
   "cell_type": "markdown",
   "metadata": {},
   "source": [
    "### Point 9: \n",
    "For each country, compute the difference between the overall amount of money lent and the overall amount of money borrowed. Since the country of the lender is often unknown, you can assume that the true distribution among the countries is the same as the one computed from the rows where the country is known."
   ]
  },
  {
   "cell_type": "markdown",
   "metadata": {},
   "source": [
    "For the accomplishment of this point, there's need to load the lenders dataset, which give information about lenders."
   ]
  },
  {
   "cell_type": "code",
   "execution_count": 43,
   "metadata": {},
   "outputs": [],
   "source": [
    "lenders = pd.read_csv('data/lenders.csv')"
   ]
  },
  {
   "cell_type": "markdown",
   "metadata": {},
   "source": [
    "As revealed in the assignment, country code column holds lots of nan's"
   ]
  },
  {
   "cell_type": "code",
   "execution_count": 44,
   "metadata": {},
   "outputs": [
    {
     "data": {
      "text/plain": [
       "1458635"
      ]
     },
     "execution_count": 44,
     "metadata": {},
     "output_type": "execute_result"
    }
   ],
   "source": [
    "sum(lenders['country_code'].isna()) ### lot of nan's. we must assume "
   ]
  },
  {
   "cell_type": "markdown",
   "metadata": {},
   "source": [
    "Let's replace the nan's with the distribution of country_code column (of the entries which have a value).\n",
    "First retrieve the relative frequencies of the unique values present in country code column."
   ]
  },
  {
   "cell_type": "code",
   "execution_count": 45,
   "metadata": {},
   "outputs": [],
   "source": [
    "s = lenders.country_code.value_counts(normalize=True)"
   ]
  },
  {
   "cell_type": "code",
   "execution_count": 46,
   "metadata": {},
   "outputs": [
    {
     "data": {
      "text/plain": [
       "US   0.66433\n",
       "CA   0.07632\n",
       "GB   0.04310\n",
       "AU   0.04166\n",
       "DE   0.01797\n",
       "Name: country_code, dtype: float64"
      ]
     },
     "execution_count": 46,
     "metadata": {},
     "output_type": "execute_result"
    }
   ],
   "source": [
    "s.head()"
   ]
  },
  {
   "cell_type": "markdown",
   "metadata": {},
   "source": [
    "Take the subset of records which holds the nan's"
   ]
  },
  {
   "cell_type": "code",
   "execution_count": 47,
   "metadata": {},
   "outputs": [],
   "source": [
    "missing = lenders['country_code'].isnull()"
   ]
  },
  {
   "cell_type": "markdown",
   "metadata": {},
   "source": [
    "Replace the nan's of the selected rows whit a random value chosen from the distribution s calculated before"
   ]
  },
  {
   "cell_type": "code",
   "execution_count": 48,
   "metadata": {},
   "outputs": [],
   "source": [
    "lenders.loc[missing,'country_code'] = np.random.choice(s.index, size=len(lenders[missing]),p=s.values)"
   ]
  },
  {
   "cell_type": "code",
   "execution_count": 49,
   "metadata": {},
   "outputs": [
    {
     "data": {
      "text/plain": [
       "0"
      ]
     },
     "execution_count": 49,
     "metadata": {},
     "output_type": "execute_result"
    }
   ],
   "source": [
    "len(lenders[lenders.country_code.isnull()])"
   ]
  },
  {
   "cell_type": "markdown",
   "metadata": {},
   "source": [
    "Now that nan's values have been replaced, we can perform the join operation between the overall_amount_per_lender dataset computed before and the new lenders one just imported.\n",
    "Since we're going to perform a join on names, we should first have a look on data quality of the related columns of both the dataset. \n",
    "\n",
    "For this didactic assignment, we'll assume that lender names present in the loan_lenders file are a subset of the lenders one. We'll just strip strings removing empty spaces which could have been created by the split operation at point 1"
   ]
  },
  {
   "cell_type": "code",
   "execution_count": 50,
   "metadata": {},
   "outputs": [],
   "source": [
    "overall_amount_per_lender.lender = overall_amount_per_lender.lender.str.strip()"
   ]
  },
  {
   "cell_type": "code",
   "execution_count": 51,
   "metadata": {},
   "outputs": [
    {
     "name": "stdout",
     "output_type": "stream",
     "text": [
      "CPU times: user 7.41 s, sys: 14.4 ms, total: 7.42 s\n",
      "Wall time: 7.42 s\n"
     ]
    }
   ],
   "source": [
    "%%time\n",
    "\n",
    "joined = pd.concat([overall_amount_per_lender.set_index('lender'), lenders.set_index('permanent_name')], axis=1, join='inner')"
   ]
  },
  {
   "cell_type": "code",
   "execution_count": 52,
   "metadata": {},
   "outputs": [
    {
     "data": {
      "text/html": [
       "<div>\n",
       "<style scoped>\n",
       "    .dataframe tbody tr th:only-of-type {\n",
       "        vertical-align: middle;\n",
       "    }\n",
       "\n",
       "    .dataframe tbody tr th {\n",
       "        vertical-align: top;\n",
       "    }\n",
       "\n",
       "    .dataframe thead th {\n",
       "        text-align: right;\n",
       "    }\n",
       "</style>\n",
       "<table border=\"1\" class=\"dataframe\">\n",
       "  <thead>\n",
       "    <tr style=\"text-align: right;\">\n",
       "      <th></th>\n",
       "      <th>overall_amount_lent</th>\n",
       "      <th>display_name</th>\n",
       "      <th>city</th>\n",
       "      <th>state</th>\n",
       "      <th>country_code</th>\n",
       "      <th>member_since</th>\n",
       "      <th>occupation</th>\n",
       "      <th>loan_because</th>\n",
       "      <th>loan_purchase_num</th>\n",
       "      <th>invited_by</th>\n",
       "      <th>num_invited</th>\n",
       "    </tr>\n",
       "  </thead>\n",
       "  <tbody>\n",
       "    <tr>\n",
       "      <th>000</th>\n",
       "      <td>1485.30966</td>\n",
       "      <td>Chad Graves</td>\n",
       "      <td>Nashville</td>\n",
       "      <td>TN</td>\n",
       "      <td>US</td>\n",
       "      <td>1202872371</td>\n",
       "      <td>NaN</td>\n",
       "      <td>NaN</td>\n",
       "      <td>40.00000</td>\n",
       "      <td>Vincent</td>\n",
       "      <td>0</td>\n",
       "    </tr>\n",
       "    <tr>\n",
       "      <th>00000</th>\n",
       "      <td>1249.94736</td>\n",
       "      <td>Nanda</td>\n",
       "      <td>NaN</td>\n",
       "      <td>NaN</td>\n",
       "      <td>DE</td>\n",
       "      <td>1261131466</td>\n",
       "      <td>NaN</td>\n",
       "      <td>Well, because I can ;o)\\r\\nThis world belongs ...</td>\n",
       "      <td>39.00000</td>\n",
       "      <td>NaN</td>\n",
       "      <td>1</td>\n",
       "    </tr>\n",
       "    <tr>\n",
       "      <th>0002</th>\n",
       "      <td>2201.18046</td>\n",
       "      <td>Lynn &amp; Evan</td>\n",
       "      <td>Apple Valley</td>\n",
       "      <td>CA</td>\n",
       "      <td>US</td>\n",
       "      <td>1192667581</td>\n",
       "      <td>Retired, Postmaster</td>\n",
       "      <td>To help those that want to help themselves.</td>\n",
       "      <td>68.00000</td>\n",
       "      <td>NaN</td>\n",
       "      <td>0</td>\n",
       "    </tr>\n",
       "    <tr>\n",
       "      <th>00mike00</th>\n",
       "      <td>38.46154</td>\n",
       "      <td>MICHAEL</td>\n",
       "      <td>NaN</td>\n",
       "      <td>NaN</td>\n",
       "      <td>US</td>\n",
       "      <td>1354590821</td>\n",
       "      <td>NaN</td>\n",
       "      <td>NaN</td>\n",
       "      <td>1.00000</td>\n",
       "      <td>NaN</td>\n",
       "      <td>0</td>\n",
       "    </tr>\n",
       "    <tr>\n",
       "      <th>0101craign0101</th>\n",
       "      <td>2424.08893</td>\n",
       "      <td>0101craign0101</td>\n",
       "      <td>Redmond</td>\n",
       "      <td>WA</td>\n",
       "      <td>US</td>\n",
       "      <td>1175822709</td>\n",
       "      <td>NaN</td>\n",
       "      <td>I hope to help others improve their lives. Kiv...</td>\n",
       "      <td>71.00000</td>\n",
       "      <td>NaN</td>\n",
       "      <td>0</td>\n",
       "    </tr>\n",
       "  </tbody>\n",
       "</table>\n",
       "</div>"
      ],
      "text/plain": [
       "                overall_amount_lent    display_name          city state  \\\n",
       "000                      1485.30966     Chad Graves     Nashville    TN   \n",
       "00000                    1249.94736           Nanda           NaN   NaN   \n",
       "0002                     2201.18046     Lynn & Evan  Apple Valley    CA   \n",
       "00mike00                   38.46154         MICHAEL           NaN   NaN   \n",
       "0101craign0101           2424.08893  0101craign0101       Redmond    WA   \n",
       "\n",
       "               country_code  member_since           occupation  \\\n",
       "000                      US    1202872371                  NaN   \n",
       "00000                    DE    1261131466                  NaN   \n",
       "0002                     US    1192667581  Retired, Postmaster   \n",
       "00mike00                 US    1354590821                  NaN   \n",
       "0101craign0101           US    1175822709                  NaN   \n",
       "\n",
       "                                                     loan_because  \\\n",
       "000                                                           NaN   \n",
       "00000           Well, because I can ;o)\\r\\nThis world belongs ...   \n",
       "0002                  To help those that want to help themselves.   \n",
       "00mike00                                                      NaN   \n",
       "0101craign0101  I hope to help others improve their lives. Kiv...   \n",
       "\n",
       "                loan_purchase_num invited_by  num_invited  \n",
       "000                      40.00000    Vincent            0  \n",
       "00000                    39.00000        NaN            1  \n",
       "0002                     68.00000        NaN            0  \n",
       "00mike00                  1.00000        NaN            0  \n",
       "0101craign0101           71.00000        NaN            0  "
      ]
     },
     "execution_count": 52,
     "metadata": {},
     "output_type": "execute_result"
    }
   ],
   "source": [
    "joined.head()"
   ]
  },
  {
   "cell_type": "markdown",
   "metadata": {},
   "source": [
    "Now we can group by country code and sum the related overall_amount_lent values"
   ]
  },
  {
   "cell_type": "code",
   "execution_count": 53,
   "metadata": {},
   "outputs": [],
   "source": [
    "lend_by_country = joined.groupby('country_code')['overall_amount_lent'].sum().reset_index(name='overall_amount_lent')"
   ]
  },
  {
   "cell_type": "code",
   "execution_count": 54,
   "metadata": {},
   "outputs": [
    {
     "data": {
      "text/html": [
       "<div>\n",
       "<style scoped>\n",
       "    .dataframe tbody tr th:only-of-type {\n",
       "        vertical-align: middle;\n",
       "    }\n",
       "\n",
       "    .dataframe tbody tr th {\n",
       "        vertical-align: top;\n",
       "    }\n",
       "\n",
       "    .dataframe thead th {\n",
       "        text-align: right;\n",
       "    }\n",
       "</style>\n",
       "<table border=\"1\" class=\"dataframe\">\n",
       "  <thead>\n",
       "    <tr style=\"text-align: right;\">\n",
       "      <th></th>\n",
       "      <th>country_code</th>\n",
       "      <th>overall_amount_lent</th>\n",
       "    </tr>\n",
       "  </thead>\n",
       "  <tbody>\n",
       "    <tr>\n",
       "      <th>0</th>\n",
       "      <td>AD</td>\n",
       "      <td>9824.62555</td>\n",
       "    </tr>\n",
       "    <tr>\n",
       "      <th>1</th>\n",
       "      <td>AE</td>\n",
       "      <td>1772123.01851</td>\n",
       "    </tr>\n",
       "    <tr>\n",
       "      <th>2</th>\n",
       "      <td>AF</td>\n",
       "      <td>157661.35104</td>\n",
       "    </tr>\n",
       "    <tr>\n",
       "      <th>3</th>\n",
       "      <td>AG</td>\n",
       "      <td>4726.33364</td>\n",
       "    </tr>\n",
       "    <tr>\n",
       "      <th>4</th>\n",
       "      <td>AI</td>\n",
       "      <td>919.54552</td>\n",
       "    </tr>\n",
       "  </tbody>\n",
       "</table>\n",
       "</div>"
      ],
      "text/plain": [
       "  country_code  overall_amount_lent\n",
       "0           AD           9824.62555\n",
       "1           AE        1772123.01851\n",
       "2           AF         157661.35104\n",
       "3           AG           4726.33364\n",
       "4           AI            919.54552"
      ]
     },
     "execution_count": 54,
     "metadata": {},
     "output_type": "execute_result"
    }
   ],
   "source": [
    "lend_by_country.head()"
   ]
  },
  {
   "cell_type": "markdown",
   "metadata": {},
   "source": [
    "Ok, lend_by_country has been computed. The only thing that remain to do is to take back the borrow_by_country dataframe computed at point 4,5,6 and joint it with the fresh one."
   ]
  },
  {
   "cell_type": "code",
   "execution_count": 55,
   "metadata": {},
   "outputs": [],
   "source": [
    "overall_in_out = pd.concat([borrow_by_country.set_index('country_code'), lend_by_country.set_index('country_code')], axis = 1, join='inner')"
   ]
  },
  {
   "cell_type": "markdown",
   "metadata": {},
   "source": [
    "Now make a simple subtraction betwee overall_amount_lent and overall_amount_borrowed columns"
   ]
  },
  {
   "cell_type": "code",
   "execution_count": 56,
   "metadata": {},
   "outputs": [],
   "source": [
    "overall_in_out['lent - borrowed'] = overall_in_out['overall_amount_lent'] - overall_in_out['overall_amount_borrowed']"
   ]
  },
  {
   "cell_type": "code",
   "execution_count": 57,
   "metadata": {},
   "outputs": [
    {
     "data": {
      "text/html": [
       "<div>\n",
       "<style scoped>\n",
       "    .dataframe tbody tr th:only-of-type {\n",
       "        vertical-align: middle;\n",
       "    }\n",
       "\n",
       "    .dataframe tbody tr th {\n",
       "        vertical-align: top;\n",
       "    }\n",
       "\n",
       "    .dataframe thead th {\n",
       "        text-align: right;\n",
       "    }\n",
       "</style>\n",
       "<table border=\"1\" class=\"dataframe\">\n",
       "  <thead>\n",
       "    <tr style=\"text-align: right;\">\n",
       "      <th></th>\n",
       "      <th>borrow_count</th>\n",
       "      <th>overall_amount_borrowed</th>\n",
       "      <th>overall_amount_borrowed/total</th>\n",
       "      <th>overall_amount_lent</th>\n",
       "      <th>lent - borrowed</th>\n",
       "    </tr>\n",
       "    <tr>\n",
       "      <th>country_code</th>\n",
       "      <th></th>\n",
       "      <th></th>\n",
       "      <th></th>\n",
       "      <th></th>\n",
       "      <th></th>\n",
       "    </tr>\n",
       "  </thead>\n",
       "  <tbody>\n",
       "    <tr>\n",
       "      <th>US</th>\n",
       "      <td>9180</td>\n",
       "      <td>46352000.00000</td>\n",
       "      <td>3.92336</td>\n",
       "      <td>632648270.95044</td>\n",
       "      <td>586296270.95044</td>\n",
       "    </tr>\n",
       "    <tr>\n",
       "      <th>CA</th>\n",
       "      <td>1</td>\n",
       "      <td>50000.00000</td>\n",
       "      <td>0.00423</td>\n",
       "      <td>84783640.42828</td>\n",
       "      <td>84733640.42828</td>\n",
       "    </tr>\n",
       "    <tr>\n",
       "      <th>CN</th>\n",
       "      <td>134</td>\n",
       "      <td>380525.00000</td>\n",
       "      <td>0.03221</td>\n",
       "      <td>2423067.49042</td>\n",
       "      <td>2042542.49042</td>\n",
       "    </tr>\n",
       "    <tr>\n",
       "      <th>BR</th>\n",
       "      <td>482</td>\n",
       "      <td>1192325.00000</td>\n",
       "      <td>0.10092</td>\n",
       "      <td>2079209.14753</td>\n",
       "      <td>886884.14753</td>\n",
       "    </tr>\n",
       "    <tr>\n",
       "      <th>TH</th>\n",
       "      <td>247</td>\n",
       "      <td>608925.00000</td>\n",
       "      <td>0.05154</td>\n",
       "      <td>1271663.29514</td>\n",
       "      <td>662738.29514</td>\n",
       "    </tr>\n",
       "    <tr>\n",
       "      <th>VU</th>\n",
       "      <td>4</td>\n",
       "      <td>9250.00000</td>\n",
       "      <td>0.00078</td>\n",
       "      <td>296091.07369</td>\n",
       "      <td>286841.07369</td>\n",
       "    </tr>\n",
       "    <tr>\n",
       "      <th>UY</th>\n",
       "      <td>1</td>\n",
       "      <td>8000.00000</td>\n",
       "      <td>0.00068</td>\n",
       "      <td>104631.39063</td>\n",
       "      <td>96631.39063</td>\n",
       "    </tr>\n",
       "    <tr>\n",
       "      <th>VI</th>\n",
       "      <td>2</td>\n",
       "      <td>10000.00000</td>\n",
       "      <td>0.00085</td>\n",
       "      <td>20156.05897</td>\n",
       "      <td>10156.05897</td>\n",
       "    </tr>\n",
       "    <tr>\n",
       "      <th>GU</th>\n",
       "      <td>4</td>\n",
       "      <td>17300.00000</td>\n",
       "      <td>0.00146</td>\n",
       "      <td>26688.23040</td>\n",
       "      <td>9388.23040</td>\n",
       "    </tr>\n",
       "    <tr>\n",
       "      <th>BW</th>\n",
       "      <td>1</td>\n",
       "      <td>8000.00000</td>\n",
       "      <td>0.00068</td>\n",
       "      <td>9639.48655</td>\n",
       "      <td>1639.48655</td>\n",
       "    </tr>\n",
       "    <tr>\n",
       "      <th>GZ</th>\n",
       "      <td>8</td>\n",
       "      <td>5000.00000</td>\n",
       "      <td>0.00042</td>\n",
       "      <td>4024.19570</td>\n",
       "      <td>-975.80430</td>\n",
       "    </tr>\n",
       "    <tr>\n",
       "      <th>BT</th>\n",
       "      <td>2</td>\n",
       "      <td>20000.00000</td>\n",
       "      <td>0.00169</td>\n",
       "      <td>14966.12073</td>\n",
       "      <td>-5033.87927</td>\n",
       "    </tr>\n",
       "    <tr>\n",
       "      <th>MR</th>\n",
       "      <td>1</td>\n",
       "      <td>15000.00000</td>\n",
       "      <td>0.00127</td>\n",
       "      <td>129.99687</td>\n",
       "      <td>-14870.00313</td>\n",
       "    </tr>\n",
       "    <tr>\n",
       "      <th>LK</th>\n",
       "      <td>264</td>\n",
       "      <td>74800.00000</td>\n",
       "      <td>0.00633</td>\n",
       "      <td>58816.10543</td>\n",
       "      <td>-15983.89457</td>\n",
       "    </tr>\n",
       "    <tr>\n",
       "      <th>PG</th>\n",
       "      <td>1</td>\n",
       "      <td>50000.00000</td>\n",
       "      <td>0.00423</td>\n",
       "      <td>11561.84426</td>\n",
       "      <td>-38438.15574</td>\n",
       "    </tr>\n",
       "    <tr>\n",
       "      <th>VC</th>\n",
       "      <td>16</td>\n",
       "      <td>49225.00000</td>\n",
       "      <td>0.00417</td>\n",
       "      <td>7430.47136</td>\n",
       "      <td>-41794.52864</td>\n",
       "    </tr>\n",
       "    <tr>\n",
       "      <th>BZ</th>\n",
       "      <td>218</td>\n",
       "      <td>150175.00000</td>\n",
       "      <td>0.01271</td>\n",
       "      <td>23585.40280</td>\n",
       "      <td>-126589.59720</td>\n",
       "    </tr>\n",
       "    <tr>\n",
       "      <th>PR</th>\n",
       "      <td>80</td>\n",
       "      <td>441900.00000</td>\n",
       "      <td>0.03740</td>\n",
       "      <td>311097.06188</td>\n",
       "      <td>-130802.93812</td>\n",
       "    </tr>\n",
       "    <tr>\n",
       "      <th>BG</th>\n",
       "      <td>296</td>\n",
       "      <td>375300.00000</td>\n",
       "      <td>0.03177</td>\n",
       "      <td>209630.76159</td>\n",
       "      <td>-165669.23841</td>\n",
       "    </tr>\n",
       "    <tr>\n",
       "      <th>PA</th>\n",
       "      <td>196</td>\n",
       "      <td>321275.00000</td>\n",
       "      <td>0.02719</td>\n",
       "      <td>142115.01010</td>\n",
       "      <td>-179159.98990</td>\n",
       "    </tr>\n",
       "  </tbody>\n",
       "</table>\n",
       "</div>"
      ],
      "text/plain": [
       "              borrow_count  overall_amount_borrowed  \\\n",
       "country_code                                          \n",
       "US                    9180           46352000.00000   \n",
       "CA                       1              50000.00000   \n",
       "CN                     134             380525.00000   \n",
       "BR                     482            1192325.00000   \n",
       "TH                     247             608925.00000   \n",
       "VU                       4               9250.00000   \n",
       "UY                       1               8000.00000   \n",
       "VI                       2              10000.00000   \n",
       "GU                       4              17300.00000   \n",
       "BW                       1               8000.00000   \n",
       "GZ                       8               5000.00000   \n",
       "BT                       2              20000.00000   \n",
       "MR                       1              15000.00000   \n",
       "LK                     264              74800.00000   \n",
       "PG                       1              50000.00000   \n",
       "VC                      16              49225.00000   \n",
       "BZ                     218             150175.00000   \n",
       "PR                      80             441900.00000   \n",
       "BG                     296             375300.00000   \n",
       "PA                     196             321275.00000   \n",
       "\n",
       "              overall_amount_borrowed/total  overall_amount_lent  \\\n",
       "country_code                                                       \n",
       "US                                  3.92336      632648270.95044   \n",
       "CA                                  0.00423       84783640.42828   \n",
       "CN                                  0.03221        2423067.49042   \n",
       "BR                                  0.10092        2079209.14753   \n",
       "TH                                  0.05154        1271663.29514   \n",
       "VU                                  0.00078         296091.07369   \n",
       "UY                                  0.00068         104631.39063   \n",
       "VI                                  0.00085          20156.05897   \n",
       "GU                                  0.00146          26688.23040   \n",
       "BW                                  0.00068           9639.48655   \n",
       "GZ                                  0.00042           4024.19570   \n",
       "BT                                  0.00169          14966.12073   \n",
       "MR                                  0.00127            129.99687   \n",
       "LK                                  0.00633          58816.10543   \n",
       "PG                                  0.00423          11561.84426   \n",
       "VC                                  0.00417           7430.47136   \n",
       "BZ                                  0.01271          23585.40280   \n",
       "PR                                  0.03740         311097.06188   \n",
       "BG                                  0.03177         209630.76159   \n",
       "PA                                  0.02719         142115.01010   \n",
       "\n",
       "              lent - borrowed  \n",
       "country_code                   \n",
       "US            586296270.95044  \n",
       "CA             84733640.42828  \n",
       "CN              2042542.49042  \n",
       "BR               886884.14753  \n",
       "TH               662738.29514  \n",
       "VU               286841.07369  \n",
       "UY                96631.39063  \n",
       "VI                10156.05897  \n",
       "GU                 9388.23040  \n",
       "BW                 1639.48655  \n",
       "GZ                 -975.80430  \n",
       "BT                -5033.87927  \n",
       "MR               -14870.00313  \n",
       "LK               -15983.89457  \n",
       "PG               -38438.15574  \n",
       "VC               -41794.52864  \n",
       "BZ              -126589.59720  \n",
       "PR              -130802.93812  \n",
       "BG              -165669.23841  \n",
       "PA              -179159.98990  "
      ]
     },
     "execution_count": 57,
     "metadata": {},
     "output_type": "execute_result"
    }
   ],
   "source": [
    "overall_in_out.sort_values('lent - borrowed', ascending=False).head(20)"
   ]
  },
  {
   "cell_type": "markdown",
   "metadata": {},
   "source": [
    "As we can see in the table above, USA is the country which the greater difference between money lent and money borrowed."
   ]
  },
  {
   "cell_type": "markdown",
   "metadata": {},
   "source": [
    "### Point 10: \n",
    "Which country has the highest ratio between the difference computed at the previous point and the population?\n",
    "### Point 11: \n",
    "Which country has the highest ratio between the difference computed at point 9 and the population that is not below the poverty line?"
   ]
  },
  {
   "cell_type": "markdown",
   "metadata": {},
   "source": [
    "For the accomplishment of those assignments, the overall in out dataset computed before needs to be enriched with country_stats. Let's import it by selecting only the needed columns (country_code, population and population_below_poverty_line)"
   ]
  },
  {
   "cell_type": "code",
   "execution_count": 58,
   "metadata": {},
   "outputs": [],
   "source": [
    "country_stats = pd.read_csv('data/country_stats.csv')[['country_code', 'population', 'population_below_poverty_line']]"
   ]
  },
  {
   "cell_type": "markdown",
   "metadata": {},
   "source": [
    "Perform an inner join on country_code column"
   ]
  },
  {
   "cell_type": "code",
   "execution_count": 59,
   "metadata": {},
   "outputs": [],
   "source": [
    "overall_in_out = pd.concat([overall_in_out, country_stats.set_index('country_code')], axis=1, join='inner')"
   ]
  },
  {
   "cell_type": "code",
   "execution_count": 60,
   "metadata": {},
   "outputs": [
    {
     "data": {
      "text/html": [
       "<div>\n",
       "<style scoped>\n",
       "    .dataframe tbody tr th:only-of-type {\n",
       "        vertical-align: middle;\n",
       "    }\n",
       "\n",
       "    .dataframe tbody tr th {\n",
       "        vertical-align: top;\n",
       "    }\n",
       "\n",
       "    .dataframe thead th {\n",
       "        text-align: right;\n",
       "    }\n",
       "</style>\n",
       "<table border=\"1\" class=\"dataframe\">\n",
       "  <thead>\n",
       "    <tr style=\"text-align: right;\">\n",
       "      <th></th>\n",
       "      <th>borrow_count</th>\n",
       "      <th>overall_amount_borrowed</th>\n",
       "      <th>overall_amount_borrowed/total</th>\n",
       "      <th>overall_amount_lent</th>\n",
       "      <th>lent - borrowed</th>\n",
       "      <th>population</th>\n",
       "      <th>population_below_poverty_line</th>\n",
       "    </tr>\n",
       "    <tr>\n",
       "      <th>country_code</th>\n",
       "      <th></th>\n",
       "      <th></th>\n",
       "      <th></th>\n",
       "      <th></th>\n",
       "      <th></th>\n",
       "      <th></th>\n",
       "      <th></th>\n",
       "    </tr>\n",
       "  </thead>\n",
       "  <tbody>\n",
       "    <tr>\n",
       "      <th>AF</th>\n",
       "      <td>2337</td>\n",
       "      <td>1967950.00000</td>\n",
       "      <td>0.16657</td>\n",
       "      <td>157661.35104</td>\n",
       "      <td>-1810288.64896</td>\n",
       "      <td>35530081</td>\n",
       "      <td>35.80000</td>\n",
       "    </tr>\n",
       "    <tr>\n",
       "      <th>AL</th>\n",
       "      <td>3075</td>\n",
       "      <td>4307350.00000</td>\n",
       "      <td>0.36459</td>\n",
       "      <td>18904.93728</td>\n",
       "      <td>-4288445.06272</td>\n",
       "      <td>2930187</td>\n",
       "      <td>14.30000</td>\n",
       "    </tr>\n",
       "    <tr>\n",
       "      <th>AM</th>\n",
       "      <td>13952</td>\n",
       "      <td>22950475.00000</td>\n",
       "      <td>1.94259</td>\n",
       "      <td>30912.52234</td>\n",
       "      <td>-22919562.47766</td>\n",
       "      <td>2930450</td>\n",
       "      <td>32.00000</td>\n",
       "    </tr>\n",
       "    <tr>\n",
       "      <th>AZ</th>\n",
       "      <td>10172</td>\n",
       "      <td>14784625.00000</td>\n",
       "      <td>1.25141</td>\n",
       "      <td>14241.90652</td>\n",
       "      <td>-14770383.09348</td>\n",
       "      <td>9827589</td>\n",
       "      <td>4.90000</td>\n",
       "    </tr>\n",
       "    <tr>\n",
       "      <th>BA</th>\n",
       "      <td>608</td>\n",
       "      <td>477250.00000</td>\n",
       "      <td>0.04040</td>\n",
       "      <td>65854.69595</td>\n",
       "      <td>-411395.30405</td>\n",
       "      <td>3507017</td>\n",
       "      <td>17.20000</td>\n",
       "    </tr>\n",
       "  </tbody>\n",
       "</table>\n",
       "</div>"
      ],
      "text/plain": [
       "              borrow_count  overall_amount_borrowed  \\\n",
       "country_code                                          \n",
       "AF                    2337            1967950.00000   \n",
       "AL                    3075            4307350.00000   \n",
       "AM                   13952           22950475.00000   \n",
       "AZ                   10172           14784625.00000   \n",
       "BA                     608             477250.00000   \n",
       "\n",
       "              overall_amount_borrowed/total  overall_amount_lent  \\\n",
       "country_code                                                       \n",
       "AF                                  0.16657         157661.35104   \n",
       "AL                                  0.36459          18904.93728   \n",
       "AM                                  1.94259          30912.52234   \n",
       "AZ                                  1.25141          14241.90652   \n",
       "BA                                  0.04040          65854.69595   \n",
       "\n",
       "              lent - borrowed  population  population_below_poverty_line  \n",
       "country_code                                                              \n",
       "AF             -1810288.64896    35530081                       35.80000  \n",
       "AL             -4288445.06272     2930187                       14.30000  \n",
       "AM            -22919562.47766     2930450                       32.00000  \n",
       "AZ            -14770383.09348     9827589                        4.90000  \n",
       "BA              -411395.30405     3507017                       17.20000  "
      ]
     },
     "execution_count": 60,
     "metadata": {},
     "output_type": "execute_result"
    }
   ],
   "source": [
    "overall_in_out.head()"
   ]
  },
  {
   "cell_type": "markdown",
   "metadata": {},
   "source": [
    "Calculate the ration between the lent/borrow difference and the population"
   ]
  },
  {
   "cell_type": "code",
   "execution_count": 61,
   "metadata": {},
   "outputs": [],
   "source": [
    "overall_in_out['lent - borrow / pop'] = overall_in_out['lent - borrowed'] / overall_in_out['population']"
   ]
  },
  {
   "cell_type": "markdown",
   "metadata": {},
   "source": [
    "Canada has the highest ratio"
   ]
  },
  {
   "cell_type": "code",
   "execution_count": 62,
   "metadata": {},
   "outputs": [
    {
     "data": {
      "text/plain": [
       "borrow_count                           1.00000\n",
       "overall_amount_borrowed            50000.00000\n",
       "overall_amount_borrowed/total          0.00423\n",
       "overall_amount_lent             84783640.42828\n",
       "lent - borrowed                 84733640.42828\n",
       "population                      36624199.00000\n",
       "population_below_poverty_line          9.40000\n",
       "lent - borrow / pop                    2.31360\n",
       "Name: CA, dtype: float64"
      ]
     },
     "execution_count": 62,
     "metadata": {},
     "output_type": "execute_result"
    }
   ],
   "source": [
    "overall_in_out.sort_values('lent - borrow / pop', ascending = False).iloc[0]"
   ]
  },
  {
   "cell_type": "markdown",
   "metadata": {},
   "source": [
    "Calculate the ration between the lent/borrow difference and the population below poverty line"
   ]
  },
  {
   "cell_type": "code",
   "execution_count": 63,
   "metadata": {},
   "outputs": [],
   "source": [
    "overall_in_out['lent - borrowed / pop_over_poverty_line'] = overall_in_out['lent - borrowed'] / (overall_in_out['population'] * (100 - overall_in_out['population_below_poverty_line']))"
   ]
  },
  {
   "cell_type": "code",
   "execution_count": 64,
   "metadata": {},
   "outputs": [
    {
     "data": {
      "text/plain": [
       "borrow_count                                     1.00000\n",
       "overall_amount_borrowed                      50000.00000\n",
       "overall_amount_borrowed/total                    0.00423\n",
       "overall_amount_lent                       84783640.42828\n",
       "lent - borrowed                           84733640.42828\n",
       "population                                36624199.00000\n",
       "population_below_poverty_line                    9.40000\n",
       "lent - borrow / pop                              2.31360\n",
       "lent - borrowed / pop_over_poverty_line          0.02554\n",
       "Name: CA, dtype: float64"
      ]
     },
     "execution_count": 64,
     "metadata": {},
     "output_type": "execute_result"
    }
   ],
   "source": [
    "overall_in_out.sort_values('lent - borrowed / pop_over_poverty_line', ascending = False).iloc[0]"
   ]
  },
  {
   "cell_type": "markdown",
   "metadata": {},
   "source": [
    "### Point 12\n",
    "For each year, compute the total amount of loans. Each loan that has planned expiration time and disburse time in different years must have its amount distributed proportionally to the number of days in each year. For example, a loan with disburse time December 1st, 2016, planned expiration time January 30th 2018, and amount 5000USD has an amount of 5000USD * 31 / (31+365+30) = 363.85 for 2016, 5000USD * 365 / (31+365+30) = 4284.04 for 2017, and 5000USD * 30 / (31+365+30) = 352.11 for 2018"
   ]
  },
  {
   "cell_type": "code",
   "execution_count": 65,
   "metadata": {},
   "outputs": [
    {
     "data": {
      "text/html": [
       "<div>\n",
       "<style scoped>\n",
       "    .dataframe tbody tr th:only-of-type {\n",
       "        vertical-align: middle;\n",
       "    }\n",
       "\n",
       "    .dataframe tbody tr th {\n",
       "        vertical-align: top;\n",
       "    }\n",
       "\n",
       "    .dataframe thead th {\n",
       "        text-align: right;\n",
       "    }\n",
       "</style>\n",
       "<table border=\"1\" class=\"dataframe\">\n",
       "  <thead>\n",
       "    <tr style=\"text-align: right;\">\n",
       "      <th></th>\n",
       "      <th>loan_id</th>\n",
       "      <th>country_code</th>\n",
       "      <th>loan_amount</th>\n",
       "      <th>num_lenders_total</th>\n",
       "      <th>disburse_time</th>\n",
       "      <th>planned_expiration_time</th>\n",
       "      <th>duration</th>\n",
       "      <th>base_contribution</th>\n",
       "    </tr>\n",
       "  </thead>\n",
       "  <tbody>\n",
       "    <tr>\n",
       "      <th>0</th>\n",
       "      <td>657307</td>\n",
       "      <td>PH</td>\n",
       "      <td>125.00000</td>\n",
       "      <td>3</td>\n",
       "      <td>2013-12-22 08:00:00</td>\n",
       "      <td>2014-02-14 03:30:06</td>\n",
       "      <td>53 days 19:30:06</td>\n",
       "      <td>41.66667</td>\n",
       "    </tr>\n",
       "    <tr>\n",
       "      <th>1</th>\n",
       "      <td>657259</td>\n",
       "      <td>HN</td>\n",
       "      <td>400.00000</td>\n",
       "      <td>11</td>\n",
       "      <td>2013-12-20 08:00:00</td>\n",
       "      <td>2014-03-26 22:25:07</td>\n",
       "      <td>96 days 14:25:07</td>\n",
       "      <td>36.36364</td>\n",
       "    </tr>\n",
       "    <tr>\n",
       "      <th>2</th>\n",
       "      <td>658010</td>\n",
       "      <td>PK</td>\n",
       "      <td>400.00000</td>\n",
       "      <td>16</td>\n",
       "      <td>2014-01-09 08:00:00</td>\n",
       "      <td>2014-02-15 21:10:05</td>\n",
       "      <td>37 days 13:10:05</td>\n",
       "      <td>25.00000</td>\n",
       "    </tr>\n",
       "    <tr>\n",
       "      <th>3</th>\n",
       "      <td>659347</td>\n",
       "      <td>KG</td>\n",
       "      <td>625.00000</td>\n",
       "      <td>21</td>\n",
       "      <td>2014-01-17 08:00:00</td>\n",
       "      <td>2014-02-21 03:10:02</td>\n",
       "      <td>34 days 19:10:02</td>\n",
       "      <td>29.76190</td>\n",
       "    </tr>\n",
       "    <tr>\n",
       "      <th>4</th>\n",
       "      <td>656933</td>\n",
       "      <td>PH</td>\n",
       "      <td>425.00000</td>\n",
       "      <td>15</td>\n",
       "      <td>2013-12-17 08:00:00</td>\n",
       "      <td>2014-02-13 06:10:02</td>\n",
       "      <td>57 days 22:10:02</td>\n",
       "      <td>28.33333</td>\n",
       "    </tr>\n",
       "  </tbody>\n",
       "</table>\n",
       "</div>"
      ],
      "text/plain": [
       "   loan_id country_code  loan_amount  num_lenders_total       disburse_time  \\\n",
       "0   657307           PH    125.00000                  3 2013-12-22 08:00:00   \n",
       "1   657259           HN    400.00000                 11 2013-12-20 08:00:00   \n",
       "2   658010           PK    400.00000                 16 2014-01-09 08:00:00   \n",
       "3   659347           KG    625.00000                 21 2014-01-17 08:00:00   \n",
       "4   656933           PH    425.00000                 15 2013-12-17 08:00:00   \n",
       "\n",
       "  planned_expiration_time         duration  base_contribution  \n",
       "0     2014-02-14 03:30:06 53 days 19:30:06           41.66667  \n",
       "1     2014-03-26 22:25:07 96 days 14:25:07           36.36364  \n",
       "2     2014-02-15 21:10:05 37 days 13:10:05           25.00000  \n",
       "3     2014-02-21 03:10:02 34 days 19:10:02           29.76190  \n",
       "4     2014-02-13 06:10:02 57 days 22:10:02           28.33333  "
      ]
     },
     "execution_count": 65,
     "metadata": {},
     "output_type": "execute_result"
    }
   ],
   "source": [
    "loans.head()"
   ]
  },
  {
   "cell_type": "markdown",
   "metadata": {},
   "source": [
    "For the accomplishment of this point, we need to remove all the loans with nan planned expiration time or disburse time."
   ]
  },
  {
   "cell_type": "code",
   "execution_count": 66,
   "metadata": {},
   "outputs": [],
   "source": [
    "loans = loans.dropna(subset=['planned_expiration_time'], how='all')\n",
    "loans = loans.dropna(subset=['disburse_time'], how='all')"
   ]
  },
  {
   "cell_type": "markdown",
   "metadata": {},
   "source": [
    "We're asked to equally distribute the loan amount among the loan years. To perform that, we'll make use of datetime library and we have to take into account for leap years.\n",
    "Below a function which allow to do that:"
   ]
  },
  {
   "cell_type": "code",
   "execution_count": 117,
   "metadata": {},
   "outputs": [],
   "source": [
    " \"\"\"\n",
    "   Equally Distribute the loan amount among loan years.\n",
    "    \n",
    "    Params\n",
    "    ------\n",
    "    row : pandas.Series\n",
    "        row of the loans dataframe\n",
    "\n",
    "    Returns\n",
    "    -------\n",
    "    list\n",
    "        Returns a list of tuples containing the pair (year, amount)\n",
    "    \"\"\"\n",
    "def compute_amounts(row):\n",
    "    amounts = []\n",
    "    duration = row.duration.days\n",
    "    disburse = row.disburse_time.date()\n",
    "    planned = row.planned_expiration_time.date()\n",
    "   \n",
    "    idx = datetime.date(disburse.year, disburse.month, disburse.day) + datetime.timedelta(days=1)\n",
    "    while idx <= planned:\n",
    "        if idx.year == planned.year:\n",
    "            try:\n",
    "                amounts.append((idx.year, row.loan_amount * (planned - idx).days / duration))\n",
    "            except ZeroDivisionError:\n",
    "                # Duration is less than 1 day!\n",
    "                amounts.append((idx.year, row.loan_amount))\n",
    "            break\n",
    "        else:\n",
    "            amount = row.loan_amount * ((datetime.date(idx.year, 12, 31) - idx).days  + 1)/ duration\n",
    "            amounts.append((idx.year, amount))\n",
    "        idx = datetime.date(idx.year + 1, 1, 1)\n",
    "    return amounts"
   ]
  },
  {
   "cell_type": "code",
   "execution_count": null,
   "metadata": {},
   "outputs": [],
   "source": [
    "%%time\n",
    "\n",
    "new_df = pd.DataFrame(columns=['loan_id', 'year', 'amount'])\n",
    "ids = []\n",
    "years = []\n",
    "amounts = []\n",
    "subset = loans[['loan_id', 'loan_amount', 'disburse_time', 'planned_expiration_time', 'duration']]\n",
    "for _, row in subset.iterrows():\n",
    "    amts = compute_amounts(row)\n",
    "    for year, amount in amts:\n",
    "        ids.append(row.loan_id)\n",
    "        years.append(year)\n",
    "        amounts.append(amount)\n",
    "        \n",
    "new_df['loan_id'] = ids\n",
    "new_df['year'] = years\n",
    "new_df['amount'] = amounts"
   ]
  },
  {
   "cell_type": "markdown",
   "metadata": {},
   "source": [
    "To demonstrate that this function works, we can chose a loan as example (in our case, the one with loan id = 1077955) and see if the loan amount is equally distributed among the years."
   ]
  },
  {
   "cell_type": "code",
   "execution_count": 112,
   "metadata": {},
   "outputs": [],
   "source": [
    "example = new_df[new_df.loan_id == 1077955]"
   ]
  },
  {
   "cell_type": "code",
   "execution_count": 113,
   "metadata": {},
   "outputs": [
    {
     "data": {
      "text/html": [
       "<div>\n",
       "<style scoped>\n",
       "    .dataframe tbody tr th:only-of-type {\n",
       "        vertical-align: middle;\n",
       "    }\n",
       "\n",
       "    .dataframe tbody tr th {\n",
       "        vertical-align: top;\n",
       "    }\n",
       "\n",
       "    .dataframe thead th {\n",
       "        text-align: right;\n",
       "    }\n",
       "</style>\n",
       "<table border=\"1\" class=\"dataframe\">\n",
       "  <thead>\n",
       "    <tr style=\"text-align: right;\">\n",
       "      <th></th>\n",
       "      <th>loan_id</th>\n",
       "      <th>year</th>\n",
       "      <th>amount</th>\n",
       "    </tr>\n",
       "  </thead>\n",
       "  <tbody>\n",
       "    <tr>\n",
       "      <th>0</th>\n",
       "      <td>1077955</td>\n",
       "      <td>2011</td>\n",
       "      <td>24.25713</td>\n",
       "    </tr>\n",
       "    <tr>\n",
       "      <th>1</th>\n",
       "      <td>1077955</td>\n",
       "      <td>2012</td>\n",
       "      <td>1109.76349</td>\n",
       "    </tr>\n",
       "    <tr>\n",
       "      <th>2</th>\n",
       "      <td>1077955</td>\n",
       "      <td>2013</td>\n",
       "      <td>1106.73135</td>\n",
       "    </tr>\n",
       "    <tr>\n",
       "      <th>3</th>\n",
       "      <td>1077955</td>\n",
       "      <td>2014</td>\n",
       "      <td>1106.73135</td>\n",
       "    </tr>\n",
       "    <tr>\n",
       "      <th>4</th>\n",
       "      <td>1077955</td>\n",
       "      <td>2015</td>\n",
       "      <td>1106.73135</td>\n",
       "    </tr>\n",
       "    <tr>\n",
       "      <th>5</th>\n",
       "      <td>1077955</td>\n",
       "      <td>2016</td>\n",
       "      <td>545.78532</td>\n",
       "    </tr>\n",
       "  </tbody>\n",
       "</table>\n",
       "</div>"
      ],
      "text/plain": [
       "   loan_id  year     amount\n",
       "0  1077955  2011   24.25713\n",
       "1  1077955  2012 1109.76349\n",
       "2  1077955  2013 1106.73135\n",
       "3  1077955  2014 1106.73135\n",
       "4  1077955  2015 1106.73135\n",
       "5  1077955  2016  545.78532"
      ]
     },
     "execution_count": 113,
     "metadata": {},
     "output_type": "execute_result"
    }
   ],
   "source": [
    "example"
   ]
  },
  {
   "cell_type": "code",
   "execution_count": 114,
   "metadata": {},
   "outputs": [
    {
     "data": {
      "text/html": [
       "<div>\n",
       "<style scoped>\n",
       "    .dataframe tbody tr th:only-of-type {\n",
       "        vertical-align: middle;\n",
       "    }\n",
       "\n",
       "    .dataframe tbody tr th {\n",
       "        vertical-align: top;\n",
       "    }\n",
       "\n",
       "    .dataframe thead th {\n",
       "        text-align: right;\n",
       "    }\n",
       "</style>\n",
       "<table border=\"1\" class=\"dataframe\">\n",
       "  <thead>\n",
       "    <tr style=\"text-align: right;\">\n",
       "      <th></th>\n",
       "      <th>loan_id</th>\n",
       "      <th>loan_amount</th>\n",
       "      <th>disburse_time</th>\n",
       "      <th>planned_expiration_time</th>\n",
       "      <th>duration</th>\n",
       "    </tr>\n",
       "  </thead>\n",
       "  <tbody>\n",
       "    <tr>\n",
       "      <th>567435</th>\n",
       "      <td>1077955</td>\n",
       "      <td>5000.00000</td>\n",
       "      <td>2011-12-23 20:24:04</td>\n",
       "      <td>2016-06-29 01:46:39</td>\n",
       "      <td>1649 days 05:22:35</td>\n",
       "    </tr>\n",
       "  </tbody>\n",
       "</table>\n",
       "</div>"
      ],
      "text/plain": [
       "        loan_id  loan_amount       disburse_time planned_expiration_time  \\\n",
       "567435  1077955   5000.00000 2011-12-23 20:24:04     2016-06-29 01:46:39   \n",
       "\n",
       "                 duration  \n",
       "567435 1649 days 05:22:35  "
      ]
     },
     "execution_count": 114,
     "metadata": {},
     "output_type": "execute_result"
    }
   ],
   "source": [
    "subset[subset.loan_id == 1077955]"
   ]
  },
  {
   "cell_type": "code",
   "execution_count": 115,
   "metadata": {},
   "outputs": [
    {
     "data": {
      "text/plain": [
       "5000.0"
      ]
     },
     "execution_count": 115,
     "metadata": {},
     "output_type": "execute_result"
    }
   ],
   "source": [
    "sum(example.amount)"
   ]
  }
 ],
 "metadata": {
  "kernelspec": {
   "display_name": "Python 3",
   "language": "python",
   "name": "python3"
  },
  "language_info": {
   "codemirror_mode": {
    "name": "ipython",
    "version": 3
   },
   "file_extension": ".py",
   "mimetype": "text/x-python",
   "name": "python",
   "nbconvert_exporter": "python",
   "pygments_lexer": "ipython3",
   "version": "3.8.1"
  }
 },
 "nbformat": 4,
 "nbformat_minor": 2
}
