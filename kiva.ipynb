{
 "cells": [
  {
   "cell_type": "code",
   "execution_count": 1,
   "metadata": {},
   "outputs": [],
   "source": [
    "import pandas as pd\n",
    "import numpy as np\n",
    "import datetime\n",
    "import matplotlib as plt\n",
    "import numpy as np\n",
    "\n",
    "pd.set_option('display.float_format', lambda x: '%.5f' % x)"
   ]
  },
  {
   "cell_type": "markdown",
   "metadata": {},
   "source": [
    "### Point 1: \n",
    "Normalize the loan_lenders table. In the normalized table, each row must have one loan_id and one lender."
   ]
  },
  {
   "cell_type": "code",
   "execution_count": 2,
   "metadata": {},
   "outputs": [],
   "source": [
    "loan_lenders = pd.read_csv('data/loans_lenders.csv')"
   ]
  },
  {
   "cell_type": "code",
   "execution_count": 3,
   "metadata": {},
   "outputs": [
    {
     "data": {
      "text/html": [
       "<div>\n",
       "<style scoped>\n",
       "    .dataframe tbody tr th:only-of-type {\n",
       "        vertical-align: middle;\n",
       "    }\n",
       "\n",
       "    .dataframe tbody tr th {\n",
       "        vertical-align: top;\n",
       "    }\n",
       "\n",
       "    .dataframe thead th {\n",
       "        text-align: right;\n",
       "    }\n",
       "</style>\n",
       "<table border=\"1\" class=\"dataframe\">\n",
       "  <thead>\n",
       "    <tr style=\"text-align: right;\">\n",
       "      <th></th>\n",
       "      <th>loan_id</th>\n",
       "      <th>lenders</th>\n",
       "    </tr>\n",
       "  </thead>\n",
       "  <tbody>\n",
       "    <tr>\n",
       "      <th>0</th>\n",
       "      <td>483693</td>\n",
       "      <td>muc888, sam4326, camaran3922, lachheb1865, reb...</td>\n",
       "    </tr>\n",
       "    <tr>\n",
       "      <th>1</th>\n",
       "      <td>483738</td>\n",
       "      <td>muc888, nora3555, williammanashi, barbara5610,...</td>\n",
       "    </tr>\n",
       "    <tr>\n",
       "      <th>2</th>\n",
       "      <td>485000</td>\n",
       "      <td>muc888, terrystl, richardandsusan8352, sherri4...</td>\n",
       "    </tr>\n",
       "    <tr>\n",
       "      <th>3</th>\n",
       "      <td>486087</td>\n",
       "      <td>muc888, james5068, rudi5955, daniel9859, don92...</td>\n",
       "    </tr>\n",
       "    <tr>\n",
       "      <th>4</th>\n",
       "      <td>534428</td>\n",
       "      <td>muc888, niki3008, teresa9174, mike4896, david7...</td>\n",
       "    </tr>\n",
       "  </tbody>\n",
       "</table>\n",
       "</div>"
      ],
      "text/plain": [
       "   loan_id                                            lenders\n",
       "0   483693  muc888, sam4326, camaran3922, lachheb1865, reb...\n",
       "1   483738  muc888, nora3555, williammanashi, barbara5610,...\n",
       "2   485000  muc888, terrystl, richardandsusan8352, sherri4...\n",
       "3   486087  muc888, james5068, rudi5955, daniel9859, don92...\n",
       "4   534428  muc888, niki3008, teresa9174, mike4896, david7..."
      ]
     },
     "execution_count": 3,
     "metadata": {},
     "output_type": "execute_result"
    }
   ],
   "source": [
    "loan_lenders.head()"
   ]
  },
  {
   "cell_type": "code",
   "execution_count": 4,
   "metadata": {},
   "outputs": [],
   "source": [
    "def normalize(df, column, sep='|', keep=False):\n",
    "    \"\"\"\n",
    "    Split the values of a column and expand so the new DataFrame has one split\n",
    "    value per row. Filters rows where the column is missing.\n",
    "    \n",
    "    Params\n",
    "    ------\n",
    "    df : pandas.DataFrame\n",
    "        dataframe with the column to split and expand\n",
    "    column : str\n",
    "        the column to split and expand\n",
    "    sep : str\n",
    "        the string used to split the column's values\n",
    "    keep : bool\n",
    "        whether to retain the presplit value as it's own row\n",
    "\n",
    "    Returns\n",
    "    -------\n",
    "    pandas.DataFrame\n",
    "        Returns a dataframe with the same columns as `df`.\n",
    "    \"\"\"\n",
    "    indexes = list()\n",
    "    new_values = list()\n",
    "    df = df.dropna(subset=[column])\n",
    "    for i, presplit in enumerate(df[column].astype(str)):\n",
    "        values = presplit.split(sep)\n",
    "        if keep and len(values) > 1:\n",
    "            indexes.append(i)\n",
    "            new_values.append(presplit)\n",
    "        for value in values:\n",
    "            indexes.append(i)\n",
    "            new_values.append(value)\n",
    "    new_df = df.iloc[indexes, :].copy()\n",
    "    new_df[column] = new_values\n",
    "    return new_df"
   ]
  },
  {
   "cell_type": "code",
   "execution_count": 5,
   "metadata": {},
   "outputs": [
    {
     "name": "stdout",
     "output_type": "stream",
     "text": [
      "CPU times: user 39.7 s, sys: 2.71 s, total: 42.4 s\n",
      "Wall time: 42.5 s\n"
     ]
    }
   ],
   "source": [
    "%%time\n",
    "\n",
    "norm_loan_lenders = normalize(loan_lenders, 'lenders', ',')"
   ]
  },
  {
   "cell_type": "code",
   "execution_count": 6,
   "metadata": {},
   "outputs": [
    {
     "data": {
      "text/html": [
       "<div>\n",
       "<style scoped>\n",
       "    .dataframe tbody tr th:only-of-type {\n",
       "        vertical-align: middle;\n",
       "    }\n",
       "\n",
       "    .dataframe tbody tr th {\n",
       "        vertical-align: top;\n",
       "    }\n",
       "\n",
       "    .dataframe thead th {\n",
       "        text-align: right;\n",
       "    }\n",
       "</style>\n",
       "<table border=\"1\" class=\"dataframe\">\n",
       "  <thead>\n",
       "    <tr style=\"text-align: right;\">\n",
       "      <th></th>\n",
       "      <th>loan_id</th>\n",
       "      <th>lenders</th>\n",
       "    </tr>\n",
       "  </thead>\n",
       "  <tbody>\n",
       "    <tr>\n",
       "      <th>0</th>\n",
       "      <td>483693</td>\n",
       "      <td>muc888</td>\n",
       "    </tr>\n",
       "    <tr>\n",
       "      <th>0</th>\n",
       "      <td>483693</td>\n",
       "      <td>sam4326</td>\n",
       "    </tr>\n",
       "    <tr>\n",
       "      <th>0</th>\n",
       "      <td>483693</td>\n",
       "      <td>camaran3922</td>\n",
       "    </tr>\n",
       "    <tr>\n",
       "      <th>0</th>\n",
       "      <td>483693</td>\n",
       "      <td>lachheb1865</td>\n",
       "    </tr>\n",
       "    <tr>\n",
       "      <th>0</th>\n",
       "      <td>483693</td>\n",
       "      <td>rebecca3499</td>\n",
       "    </tr>\n",
       "  </tbody>\n",
       "</table>\n",
       "</div>"
      ],
      "text/plain": [
       "   loan_id       lenders\n",
       "0   483693        muc888\n",
       "0   483693       sam4326\n",
       "0   483693   camaran3922\n",
       "0   483693   lachheb1865\n",
       "0   483693   rebecca3499"
      ]
     },
     "execution_count": 6,
     "metadata": {},
     "output_type": "execute_result"
    }
   ],
   "source": [
    "norm_loan_lenders.head()"
   ]
  },
  {
   "cell_type": "markdown",
   "metadata": {},
   "source": [
    "### Point 2: \n",
    "For each loan, add a column duration corresponding to the number of days between the disburse time and the planned expiration time. If any of those two dates is missing, also the duration must be missing."
   ]
  },
  {
   "cell_type": "code",
   "execution_count": 7,
   "metadata": {},
   "outputs": [
    {
     "name": "stdout",
     "output_type": "stream",
     "text": [
      "CPU times: user 52.5 s, sys: 7.36 s, total: 59.8 s\n",
      "Wall time: 1min 4s\n"
     ]
    }
   ],
   "source": [
    "%%time\n",
    "\n",
    "loans = pd.read_csv('data/loans.csv')[['loan_id', 'country_code', 'loan_amount', 'num_lenders_total', 'disburse_time', 'planned_expiration_time']]"
   ]
  },
  {
   "cell_type": "markdown",
   "metadata": {},
   "source": [
    "a lot of nan's!"
   ]
  },
  {
   "cell_type": "code",
   "execution_count": 8,
   "metadata": {},
   "outputs": [
    {
     "name": "stdout",
     "output_type": "stream",
     "text": [
      "371834 2813\n"
     ]
    }
   ],
   "source": [
    "print(len(loans.planned_expiration_time[loans.planned_expiration_time.isnull()]),\n",
    "len(loans.disburse_time[loans.disburse_time.isnull()]))"
   ]
  },
  {
   "cell_type": "markdown",
   "metadata": {},
   "source": [
    "let's convert to datetime all not nan values of disburse_time and planned_expiration_time;\n",
    "#### note:\n",
    "nan values in a pandas series are represented as float"
   ]
  },
  {
   "cell_type": "code",
   "execution_count": 9,
   "metadata": {},
   "outputs": [],
   "source": [
    "formatter = '%Y-%m-%d %H:%M:%S.%f +0000'"
   ]
  },
  {
   "cell_type": "code",
   "execution_count": 10,
   "metadata": {},
   "outputs": [
    {
     "name": "stdout",
     "output_type": "stream",
     "text": [
      "CPU times: user 1min 12s, sys: 1.33 ms, total: 1min 12s\n",
      "Wall time: 1min 12s\n"
     ]
    }
   ],
   "source": [
    "%%time \n",
    "\n",
    "# TODO: find a more efficient way to do that, if any..\n",
    "\n",
    "loans['disburse_time'] = loans['disburse_time'].apply(lambda str_date: datetime.datetime.strptime(str_date, formatter) if not (isinstance(str_date, float) and np.isnan(str_date)) else str_date)\n",
    "loans['planned_expiration_time'] = loans['planned_expiration_time'].apply(lambda str_date: datetime.datetime.strptime(str_date, formatter) if not (isinstance(str_date, float) and np.isnan(str_date)) else str_date)"
   ]
  },
  {
   "cell_type": "code",
   "execution_count": 11,
   "metadata": {},
   "outputs": [
    {
     "name": "stdout",
     "output_type": "stream",
     "text": [
      "CPU times: user 23.5 ms, sys: 215 µs, total: 23.7 ms\n",
      "Wall time: 23.7 ms\n"
     ]
    }
   ],
   "source": [
    "%%time\n",
    "\n",
    "loans['duration'] = loans.planned_expiration_time - loans.disburse_time"
   ]
  },
  {
   "cell_type": "code",
   "execution_count": 12,
   "metadata": {},
   "outputs": [
    {
     "data": {
      "text/plain": [
       "0         53 days 19:30:06\n",
       "1         96 days 14:25:07\n",
       "2         37 days 13:10:05\n",
       "3         34 days 19:10:02\n",
       "4         57 days 22:10:02\n",
       "                ...       \n",
       "1419602   39 days 17:00:03\n",
       "1419603   39 days 08:40:07\n",
       "1419604   51 days 14:20:04\n",
       "1419605   63 days 00:50:02\n",
       "1419606   61 days 12:50:06\n",
       "Name: duration, Length: 1419607, dtype: timedelta64[ns]"
      ]
     },
     "execution_count": 12,
     "metadata": {},
     "output_type": "execute_result"
    }
   ],
   "source": [
    "loans.duration"
   ]
  },
  {
   "cell_type": "markdown",
   "metadata": {},
   "source": [
    "There are 14935 loans which duration is negative: it means that the deadline was not satisfied"
   ]
  },
  {
   "cell_type": "code",
   "execution_count": 13,
   "metadata": {},
   "outputs": [
    {
     "data": {
      "text/plain": [
       "63        -31 days +21:40:03\n",
       "96        -25 days +06:30:11\n",
       "177       -25 days +21:00:03\n",
       "207       -33 days +06:30:08\n",
       "217       -31 days +17:40:03\n",
       "                 ...        \n",
       "1419303   -35 days +21:30:03\n",
       "1419304   -32 days +17:50:04\n",
       "1419374   -34 days +21:40:03\n",
       "1419443   -30 days +06:00:03\n",
       "1419581   -30 days +16:50:04\n",
       "Name: duration, Length: 14935, dtype: timedelta64[ns]"
      ]
     },
     "execution_count": 13,
     "metadata": {},
     "output_type": "execute_result"
    }
   ],
   "source": [
    "loans.duration[loans.duration < pd.Timedelta(0)]"
   ]
  },
  {
   "cell_type": "markdown",
   "metadata": {},
   "source": [
    "### Point 3: Find the lenders that have funded at least twice"
   ]
  },
  {
   "cell_type": "code",
   "execution_count": 14,
   "metadata": {},
   "outputs": [
    {
     "name": "stdout",
     "output_type": "stream",
     "text": [
      "CPU times: user 17.5 s, sys: 0 ns, total: 17.5 s\n",
      "Wall time: 17.5 s\n"
     ]
    }
   ],
   "source": [
    "%%time\n",
    "\n",
    "loans_by_lenders = norm_loan_lenders.groupby('lenders')['loan_id'].count().reset_index(name='fund_count')"
   ]
  },
  {
   "cell_type": "code",
   "execution_count": 15,
   "metadata": {},
   "outputs": [
    {
     "data": {
      "text/html": [
       "<div>\n",
       "<style scoped>\n",
       "    .dataframe tbody tr th:only-of-type {\n",
       "        vertical-align: middle;\n",
       "    }\n",
       "\n",
       "    .dataframe tbody tr th {\n",
       "        vertical-align: top;\n",
       "    }\n",
       "\n",
       "    .dataframe thead th {\n",
       "        text-align: right;\n",
       "    }\n",
       "</style>\n",
       "<table border=\"1\" class=\"dataframe\">\n",
       "  <thead>\n",
       "    <tr style=\"text-align: right;\">\n",
       "      <th></th>\n",
       "      <th>lenders</th>\n",
       "      <th>fund_count</th>\n",
       "    </tr>\n",
       "  </thead>\n",
       "  <tbody>\n",
       "    <tr>\n",
       "      <th>0</th>\n",
       "      <td>000</td>\n",
       "      <td>39</td>\n",
       "    </tr>\n",
       "    <tr>\n",
       "      <th>1</th>\n",
       "      <td>00000</td>\n",
       "      <td>39</td>\n",
       "    </tr>\n",
       "    <tr>\n",
       "      <th>2</th>\n",
       "      <td>0002</td>\n",
       "      <td>70</td>\n",
       "    </tr>\n",
       "    <tr>\n",
       "      <th>4</th>\n",
       "      <td>0101craign0101</td>\n",
       "      <td>71</td>\n",
       "    </tr>\n",
       "    <tr>\n",
       "      <th>5</th>\n",
       "      <td>0132575</td>\n",
       "      <td>4</td>\n",
       "    </tr>\n",
       "    <tr>\n",
       "      <th>6</th>\n",
       "      <td>0154884</td>\n",
       "      <td>4</td>\n",
       "    </tr>\n",
       "    <tr>\n",
       "      <th>7</th>\n",
       "      <td>0161130</td>\n",
       "      <td>2</td>\n",
       "    </tr>\n",
       "    <tr>\n",
       "      <th>8</th>\n",
       "      <td>0169713</td>\n",
       "      <td>3</td>\n",
       "    </tr>\n",
       "    <tr>\n",
       "      <th>9</th>\n",
       "      <td>0185429</td>\n",
       "      <td>2</td>\n",
       "    </tr>\n",
       "    <tr>\n",
       "      <th>11</th>\n",
       "      <td>0206338</td>\n",
       "      <td>2</td>\n",
       "    </tr>\n",
       "    <tr>\n",
       "      <th>12</th>\n",
       "      <td>0219854</td>\n",
       "      <td>3</td>\n",
       "    </tr>\n",
       "    <tr>\n",
       "      <th>13</th>\n",
       "      <td>0221581</td>\n",
       "      <td>2</td>\n",
       "    </tr>\n",
       "    <tr>\n",
       "      <th>14</th>\n",
       "      <td>0239059</td>\n",
       "      <td>2</td>\n",
       "    </tr>\n",
       "    <tr>\n",
       "      <th>16</th>\n",
       "      <td>0256321</td>\n",
       "      <td>2</td>\n",
       "    </tr>\n",
       "    <tr>\n",
       "      <th>17</th>\n",
       "      <td>0265562</td>\n",
       "      <td>2</td>\n",
       "    </tr>\n",
       "  </tbody>\n",
       "</table>\n",
       "</div>"
      ],
      "text/plain": [
       "            lenders  fund_count\n",
       "0               000          39\n",
       "1             00000          39\n",
       "2              0002          70\n",
       "4    0101craign0101          71\n",
       "5           0132575           4\n",
       "6           0154884           4\n",
       "7           0161130           2\n",
       "8           0169713           3\n",
       "9           0185429           2\n",
       "11          0206338           2\n",
       "12          0219854           3\n",
       "13          0221581           2\n",
       "14          0239059           2\n",
       "16          0256321           2\n",
       "17          0265562           2"
      ]
     },
     "execution_count": 15,
     "metadata": {},
     "output_type": "execute_result"
    }
   ],
   "source": [
    "loans_by_lenders[loans_by_lenders.fund_count > 1].head(15)"
   ]
  },
  {
   "cell_type": "markdown",
   "metadata": {},
   "source": [
    "### Point 4: For each country, compute how many loans have involved that country as borrowers"
   ]
  },
  {
   "cell_type": "markdown",
   "metadata": {},
   "source": [
    "### Point 5: For each country, compute the overall amount of money borrowed"
   ]
  },
  {
   "cell_type": "markdown",
   "metadata": {},
   "source": [
    "### Point 6: Like the previous point, but expressed as a percentage of the overall amount lent"
   ]
  },
  {
   "cell_type": "code",
   "execution_count": 16,
   "metadata": {},
   "outputs": [],
   "source": [
    "def borrow_summary(dimension: str) -> pd.DataFrame:\n",
    "    grouped = loans.groupby(dimension)\n",
    "    borrow_summary = grouped['loan_id'].count().reset_index(name='borrow_count')\n",
    "    borrow_summary['overall_amount_borrowed'] = grouped['loan_amount'].sum().reset_index()['loan_amount']\n",
    "    overall_amount_lent = loans['loan_amount'].sum()\n",
    "    borrow_summary['overall_amount_borrowed/total'] = (borrow_summary['overall_amount_borrowed'] / overall_amount_lent) * 100\n",
    "    return borrow_summary"
   ]
  },
  {
   "cell_type": "code",
   "execution_count": 17,
   "metadata": {},
   "outputs": [],
   "source": [
    "borrow_by_country = borrow_summary('country_code')"
   ]
  },
  {
   "cell_type": "code",
   "execution_count": 18,
   "metadata": {},
   "outputs": [
    {
     "data": {
      "text/html": [
       "<div>\n",
       "<style scoped>\n",
       "    .dataframe tbody tr th:only-of-type {\n",
       "        vertical-align: middle;\n",
       "    }\n",
       "\n",
       "    .dataframe tbody tr th {\n",
       "        vertical-align: top;\n",
       "    }\n",
       "\n",
       "    .dataframe thead th {\n",
       "        text-align: right;\n",
       "    }\n",
       "</style>\n",
       "<table border=\"1\" class=\"dataframe\">\n",
       "  <thead>\n",
       "    <tr style=\"text-align: right;\">\n",
       "      <th></th>\n",
       "      <th>country_code</th>\n",
       "      <th>borrow_count</th>\n",
       "      <th>overall_amount_borrowed</th>\n",
       "      <th>overall_amount_borrowed/total</th>\n",
       "    </tr>\n",
       "  </thead>\n",
       "  <tbody>\n",
       "    <tr>\n",
       "      <th>0</th>\n",
       "      <td>AF</td>\n",
       "      <td>2337</td>\n",
       "      <td>1967950.00000</td>\n",
       "      <td>0.16657</td>\n",
       "    </tr>\n",
       "    <tr>\n",
       "      <th>1</th>\n",
       "      <td>AL</td>\n",
       "      <td>3075</td>\n",
       "      <td>4307350.00000</td>\n",
       "      <td>0.36459</td>\n",
       "    </tr>\n",
       "    <tr>\n",
       "      <th>2</th>\n",
       "      <td>AM</td>\n",
       "      <td>13952</td>\n",
       "      <td>22950475.00000</td>\n",
       "      <td>1.94259</td>\n",
       "    </tr>\n",
       "    <tr>\n",
       "      <th>3</th>\n",
       "      <td>AZ</td>\n",
       "      <td>10172</td>\n",
       "      <td>14784625.00000</td>\n",
       "      <td>1.25141</td>\n",
       "    </tr>\n",
       "    <tr>\n",
       "      <th>4</th>\n",
       "      <td>BA</td>\n",
       "      <td>608</td>\n",
       "      <td>477250.00000</td>\n",
       "      <td>0.04040</td>\n",
       "    </tr>\n",
       "    <tr>\n",
       "      <th>5</th>\n",
       "      <td>BF</td>\n",
       "      <td>3489</td>\n",
       "      <td>4085200.00000</td>\n",
       "      <td>0.34578</td>\n",
       "    </tr>\n",
       "    <tr>\n",
       "      <th>6</th>\n",
       "      <td>BG</td>\n",
       "      <td>296</td>\n",
       "      <td>375300.00000</td>\n",
       "      <td>0.03177</td>\n",
       "    </tr>\n",
       "    <tr>\n",
       "      <th>7</th>\n",
       "      <td>BI</td>\n",
       "      <td>1727</td>\n",
       "      <td>5233450.00000</td>\n",
       "      <td>0.44297</td>\n",
       "    </tr>\n",
       "    <tr>\n",
       "      <th>8</th>\n",
       "      <td>BJ</td>\n",
       "      <td>5946</td>\n",
       "      <td>3865825.00000</td>\n",
       "      <td>0.32721</td>\n",
       "    </tr>\n",
       "    <tr>\n",
       "      <th>9</th>\n",
       "      <td>BO</td>\n",
       "      <td>25250</td>\n",
       "      <td>44226725.00000</td>\n",
       "      <td>3.74347</td>\n",
       "    </tr>\n",
       "    <tr>\n",
       "      <th>10</th>\n",
       "      <td>BR</td>\n",
       "      <td>482</td>\n",
       "      <td>1192325.00000</td>\n",
       "      <td>0.10092</td>\n",
       "    </tr>\n",
       "    <tr>\n",
       "      <th>11</th>\n",
       "      <td>BT</td>\n",
       "      <td>2</td>\n",
       "      <td>20000.00000</td>\n",
       "      <td>0.00169</td>\n",
       "    </tr>\n",
       "    <tr>\n",
       "      <th>12</th>\n",
       "      <td>BW</td>\n",
       "      <td>1</td>\n",
       "      <td>8000.00000</td>\n",
       "      <td>0.00068</td>\n",
       "    </tr>\n",
       "    <tr>\n",
       "      <th>13</th>\n",
       "      <td>BZ</td>\n",
       "      <td>218</td>\n",
       "      <td>150175.00000</td>\n",
       "      <td>0.01271</td>\n",
       "    </tr>\n",
       "    <tr>\n",
       "      <th>14</th>\n",
       "      <td>CA</td>\n",
       "      <td>1</td>\n",
       "      <td>50000.00000</td>\n",
       "      <td>0.00423</td>\n",
       "    </tr>\n",
       "  </tbody>\n",
       "</table>\n",
       "</div>"
      ],
      "text/plain": [
       "   country_code  borrow_count  overall_amount_borrowed  \\\n",
       "0            AF          2337            1967950.00000   \n",
       "1            AL          3075            4307350.00000   \n",
       "2            AM         13952           22950475.00000   \n",
       "3            AZ         10172           14784625.00000   \n",
       "4            BA           608             477250.00000   \n",
       "5            BF          3489            4085200.00000   \n",
       "6            BG           296             375300.00000   \n",
       "7            BI          1727            5233450.00000   \n",
       "8            BJ          5946            3865825.00000   \n",
       "9            BO         25250           44226725.00000   \n",
       "10           BR           482            1192325.00000   \n",
       "11           BT             2              20000.00000   \n",
       "12           BW             1               8000.00000   \n",
       "13           BZ           218             150175.00000   \n",
       "14           CA             1              50000.00000   \n",
       "\n",
       "    overall_amount_borrowed/total  \n",
       "0                         0.16657  \n",
       "1                         0.36459  \n",
       "2                         1.94259  \n",
       "3                         1.25141  \n",
       "4                         0.04040  \n",
       "5                         0.34578  \n",
       "6                         0.03177  \n",
       "7                         0.44297  \n",
       "8                         0.32721  \n",
       "9                         3.74347  \n",
       "10                        0.10092  \n",
       "11                        0.00169  \n",
       "12                        0.00068  \n",
       "13                        0.01271  \n",
       "14                        0.00423  "
      ]
     },
     "execution_count": 18,
     "metadata": {},
     "output_type": "execute_result"
    }
   ],
   "source": [
    "borrow_by_country.head(15)"
   ]
  },
  {
   "cell_type": "code",
   "execution_count": 19,
   "metadata": {},
   "outputs": [
    {
     "data": {
      "text/html": [
       "<div>\n",
       "<style scoped>\n",
       "    .dataframe tbody tr th:only-of-type {\n",
       "        vertical-align: middle;\n",
       "    }\n",
       "\n",
       "    .dataframe tbody tr th {\n",
       "        vertical-align: top;\n",
       "    }\n",
       "\n",
       "    .dataframe thead th {\n",
       "        text-align: right;\n",
       "    }\n",
       "</style>\n",
       "<table border=\"1\" class=\"dataframe\">\n",
       "  <thead>\n",
       "    <tr style=\"text-align: right;\">\n",
       "      <th></th>\n",
       "      <th>borrow_count</th>\n",
       "      <th>overall_amount_borrowed</th>\n",
       "      <th>overall_amount_borrowed/total</th>\n",
       "    </tr>\n",
       "  </thead>\n",
       "  <tbody>\n",
       "    <tr>\n",
       "      <th>count</th>\n",
       "      <td>95.00000</td>\n",
       "      <td>95.00000</td>\n",
       "      <td>95.00000</td>\n",
       "    </tr>\n",
       "    <tr>\n",
       "      <th>mean</th>\n",
       "      <td>14943.13684</td>\n",
       "      <td>12435766.05263</td>\n",
       "      <td>1.05260</td>\n",
       "    </tr>\n",
       "    <tr>\n",
       "      <th>std</th>\n",
       "      <td>35149.88448</td>\n",
       "      <td>18263180.36163</td>\n",
       "      <td>1.54584</td>\n",
       "    </tr>\n",
       "    <tr>\n",
       "      <th>min</th>\n",
       "      <td>1.00000</td>\n",
       "      <td>5000.00000</td>\n",
       "      <td>0.00042</td>\n",
       "    </tr>\n",
       "    <tr>\n",
       "      <th>25%</th>\n",
       "      <td>545.00000</td>\n",
       "      <td>752525.00000</td>\n",
       "      <td>0.06370</td>\n",
       "    </tr>\n",
       "    <tr>\n",
       "      <th>50%</th>\n",
       "      <td>4681.00000</td>\n",
       "      <td>4181100.00000</td>\n",
       "      <td>0.35390</td>\n",
       "    </tr>\n",
       "    <tr>\n",
       "      <th>75%</th>\n",
       "      <td>15117.00000</td>\n",
       "      <td>16728425.00000</td>\n",
       "      <td>1.41594</td>\n",
       "    </tr>\n",
       "    <tr>\n",
       "      <th>max</th>\n",
       "      <td>285336.00000</td>\n",
       "      <td>97984600.00000</td>\n",
       "      <td>8.29368</td>\n",
       "    </tr>\n",
       "  </tbody>\n",
       "</table>\n",
       "</div>"
      ],
      "text/plain": [
       "       borrow_count  overall_amount_borrowed  overall_amount_borrowed/total\n",
       "count      95.00000                 95.00000                       95.00000\n",
       "mean    14943.13684           12435766.05263                        1.05260\n",
       "std     35149.88448           18263180.36163                        1.54584\n",
       "min         1.00000               5000.00000                        0.00042\n",
       "25%       545.00000             752525.00000                        0.06370\n",
       "50%      4681.00000            4181100.00000                        0.35390\n",
       "75%     15117.00000           16728425.00000                        1.41594\n",
       "max    285336.00000           97984600.00000                        8.29368"
      ]
     },
     "execution_count": 19,
     "metadata": {},
     "output_type": "execute_result"
    }
   ],
   "source": [
    "borrow_by_country.describe()"
   ]
  },
  {
   "cell_type": "markdown",
   "metadata": {},
   "source": [
    "### Point 7: Like the three previous points, but split for each year (with respect to disburse_time)"
   ]
  },
  {
   "cell_type": "code",
   "execution_count": 20,
   "metadata": {},
   "outputs": [
    {
     "name": "stdout",
     "output_type": "stream",
     "text": [
      "CPU times: user 11.3 s, sys: 88.1 ms, total: 11.4 s\n",
      "Wall time: 11.4 s\n"
     ]
    }
   ],
   "source": [
    "%%time\n",
    "\n",
    "loans['disburse_year'] = loans['disburse_time'].map(lambda t: t.year)"
   ]
  },
  {
   "cell_type": "code",
   "execution_count": 21,
   "metadata": {},
   "outputs": [],
   "source": [
    "borrow_by_year = borrow_summary('disburse_year')"
   ]
  },
  {
   "cell_type": "code",
   "execution_count": 22,
   "metadata": {},
   "outputs": [
    {
     "data": {
      "text/html": [
       "<div>\n",
       "<style scoped>\n",
       "    .dataframe tbody tr th:only-of-type {\n",
       "        vertical-align: middle;\n",
       "    }\n",
       "\n",
       "    .dataframe tbody tr th {\n",
       "        vertical-align: top;\n",
       "    }\n",
       "\n",
       "    .dataframe thead th {\n",
       "        text-align: right;\n",
       "    }\n",
       "</style>\n",
       "<table border=\"1\" class=\"dataframe\">\n",
       "  <thead>\n",
       "    <tr style=\"text-align: right;\">\n",
       "      <th></th>\n",
       "      <th>disburse_year</th>\n",
       "      <th>borrow_count</th>\n",
       "      <th>overall_amount_borrowed</th>\n",
       "      <th>overall_amount_borrowed/total</th>\n",
       "    </tr>\n",
       "  </thead>\n",
       "  <tbody>\n",
       "    <tr>\n",
       "      <th>0</th>\n",
       "      <td>2005.00000</td>\n",
       "      <td>203</td>\n",
       "      <td>102850.00000</td>\n",
       "      <td>0.00871</td>\n",
       "    </tr>\n",
       "    <tr>\n",
       "      <th>1</th>\n",
       "      <td>2006.00000</td>\n",
       "      <td>2172</td>\n",
       "      <td>1376575.00000</td>\n",
       "      <td>0.11652</td>\n",
       "    </tr>\n",
       "    <tr>\n",
       "      <th>2</th>\n",
       "      <td>2007.00000</td>\n",
       "      <td>24400</td>\n",
       "      <td>15446525.00000</td>\n",
       "      <td>1.30744</td>\n",
       "    </tr>\n",
       "    <tr>\n",
       "      <th>3</th>\n",
       "      <td>2008.00000</td>\n",
       "      <td>54586</td>\n",
       "      <td>39423050.00000</td>\n",
       "      <td>3.33687</td>\n",
       "    </tr>\n",
       "    <tr>\n",
       "      <th>4</th>\n",
       "      <td>2009.00000</td>\n",
       "      <td>83076</td>\n",
       "      <td>59689475.00000</td>\n",
       "      <td>5.05228</td>\n",
       "    </tr>\n",
       "    <tr>\n",
       "      <th>5</th>\n",
       "      <td>2010.00000</td>\n",
       "      <td>93466</td>\n",
       "      <td>72609150.00000</td>\n",
       "      <td>6.14583</td>\n",
       "    </tr>\n",
       "    <tr>\n",
       "      <th>6</th>\n",
       "      <td>2011.00000</td>\n",
       "      <td>114540</td>\n",
       "      <td>93699300.00000</td>\n",
       "      <td>7.93096</td>\n",
       "    </tr>\n",
       "    <tr>\n",
       "      <th>7</th>\n",
       "      <td>2012.00000</td>\n",
       "      <td>133650</td>\n",
       "      <td>119977575.00000</td>\n",
       "      <td>10.15522</td>\n",
       "    </tr>\n",
       "    <tr>\n",
       "      <th>8</th>\n",
       "      <td>2013.00000</td>\n",
       "      <td>140167</td>\n",
       "      <td>132043925.00000</td>\n",
       "      <td>11.17655</td>\n",
       "    </tr>\n",
       "    <tr>\n",
       "      <th>9</th>\n",
       "      <td>2014.00000</td>\n",
       "      <td>172709</td>\n",
       "      <td>152270425.00000</td>\n",
       "      <td>12.88857</td>\n",
       "    </tr>\n",
       "    <tr>\n",
       "      <th>10</th>\n",
       "      <td>2015.00000</td>\n",
       "      <td>183671</td>\n",
       "      <td>155835650.00000</td>\n",
       "      <td>13.19034</td>\n",
       "    </tr>\n",
       "    <tr>\n",
       "      <th>11</th>\n",
       "      <td>2016.00000</td>\n",
       "      <td>197187</td>\n",
       "      <td>160978375.00000</td>\n",
       "      <td>13.62564</td>\n",
       "    </tr>\n",
       "    <tr>\n",
       "      <th>12</th>\n",
       "      <td>2017.00000</td>\n",
       "      <td>216003</td>\n",
       "      <td>166053650.00000</td>\n",
       "      <td>14.05522</td>\n",
       "    </tr>\n",
       "    <tr>\n",
       "      <th>13</th>\n",
       "      <td>2018.00000</td>\n",
       "      <td>964</td>\n",
       "      <td>990025.00000</td>\n",
       "      <td>0.08380</td>\n",
       "    </tr>\n",
       "  </tbody>\n",
       "</table>\n",
       "</div>"
      ],
      "text/plain": [
       "    disburse_year  borrow_count  overall_amount_borrowed  \\\n",
       "0      2005.00000           203             102850.00000   \n",
       "1      2006.00000          2172            1376575.00000   \n",
       "2      2007.00000         24400           15446525.00000   \n",
       "3      2008.00000         54586           39423050.00000   \n",
       "4      2009.00000         83076           59689475.00000   \n",
       "5      2010.00000         93466           72609150.00000   \n",
       "6      2011.00000        114540           93699300.00000   \n",
       "7      2012.00000        133650          119977575.00000   \n",
       "8      2013.00000        140167          132043925.00000   \n",
       "9      2014.00000        172709          152270425.00000   \n",
       "10     2015.00000        183671          155835650.00000   \n",
       "11     2016.00000        197187          160978375.00000   \n",
       "12     2017.00000        216003          166053650.00000   \n",
       "13     2018.00000           964             990025.00000   \n",
       "\n",
       "    overall_amount_borrowed/total  \n",
       "0                         0.00871  \n",
       "1                         0.11652  \n",
       "2                         1.30744  \n",
       "3                         3.33687  \n",
       "4                         5.05228  \n",
       "5                         6.14583  \n",
       "6                         7.93096  \n",
       "7                        10.15522  \n",
       "8                        11.17655  \n",
       "9                        12.88857  \n",
       "10                       13.19034  \n",
       "11                       13.62564  \n",
       "12                       14.05522  \n",
       "13                        0.08380  "
      ]
     },
     "execution_count": 22,
     "metadata": {},
     "output_type": "execute_result"
    }
   ],
   "source": [
    "borrow_by_year"
   ]
  },
  {
   "cell_type": "markdown",
   "metadata": {},
   "source": [
    "### Point 8: For each lender, compute the overall amount of money lent. For each loan that has more than one lender, you must assume that all lenders contributed the same amount.\n"
   ]
  },
  {
   "cell_type": "code",
   "execution_count": 23,
   "metadata": {},
   "outputs": [],
   "source": [
    "loans['base_contribution'] = loans.loan_amount / loans.num_lenders_total"
   ]
  },
  {
   "cell_type": "code",
   "execution_count": 24,
   "metadata": {},
   "outputs": [],
   "source": [
    "ids = set(loans.loan_id) - set(loan_lenders.loan_id)\n",
    "ids2 = set(loan_lenders.loan_id) - set(loans.loan_id)\n"
   ]
  },
  {
   "cell_type": "code",
   "execution_count": 25,
   "metadata": {},
   "outputs": [],
   "source": [
    "loans_cleaned = loans[(loans.num_lenders_total > 0) & (~loans.loan_id.isin(ids))] ### verify maybe useless"
   ]
  },
  {
   "cell_type": "code",
   "execution_count": 26,
   "metadata": {},
   "outputs": [],
   "source": [
    "norm_cleaned = norm_loan_lenders[~norm_loan_lenders.loan_id.isin(ids2)] ### verify maybe useless"
   ]
  },
  {
   "cell_type": "code",
   "execution_count": 27,
   "metadata": {},
   "outputs": [
    {
     "name": "stdout",
     "output_type": "stream",
     "text": [
      "CPU times: user 2.89 s, sys: 3.2 s, total: 6.09 s\n",
      "Wall time: 6.12 s\n"
     ]
    }
   ],
   "source": [
    "%%time\n",
    "\n",
    "joined = pd.concat([norm_cleaned.set_index('loan_id'), loans_cleaned.set_index('loan_id')], axis=1, join='inner')"
   ]
  },
  {
   "cell_type": "code",
   "execution_count": 28,
   "metadata": {},
   "outputs": [],
   "source": [
    "overall_amount_per_lender = joined.groupby('lenders')['base_contribution'].sum().reset_index(name='overall_amount_lent')"
   ]
  },
  {
   "cell_type": "code",
   "execution_count": 29,
   "metadata": {},
   "outputs": [
    {
     "data": {
      "text/html": [
       "<div>\n",
       "<style scoped>\n",
       "    .dataframe tbody tr th:only-of-type {\n",
       "        vertical-align: middle;\n",
       "    }\n",
       "\n",
       "    .dataframe tbody tr th {\n",
       "        vertical-align: top;\n",
       "    }\n",
       "\n",
       "    .dataframe thead th {\n",
       "        text-align: right;\n",
       "    }\n",
       "</style>\n",
       "<table border=\"1\" class=\"dataframe\">\n",
       "  <thead>\n",
       "    <tr style=\"text-align: right;\">\n",
       "      <th></th>\n",
       "      <th>lenders</th>\n",
       "      <th>overall_amount_lent</th>\n",
       "    </tr>\n",
       "  </thead>\n",
       "  <tbody>\n",
       "    <tr>\n",
       "      <th>0</th>\n",
       "      <td>000</td>\n",
       "      <td>1485.30966</td>\n",
       "    </tr>\n",
       "    <tr>\n",
       "      <th>1</th>\n",
       "      <td>00000</td>\n",
       "      <td>1249.94736</td>\n",
       "    </tr>\n",
       "    <tr>\n",
       "      <th>2</th>\n",
       "      <td>0002</td>\n",
       "      <td>2201.18046</td>\n",
       "    </tr>\n",
       "    <tr>\n",
       "      <th>3</th>\n",
       "      <td>00mike00</td>\n",
       "      <td>38.46154</td>\n",
       "    </tr>\n",
       "    <tr>\n",
       "      <th>4</th>\n",
       "      <td>0101craign0101</td>\n",
       "      <td>2424.08893</td>\n",
       "    </tr>\n",
       "    <tr>\n",
       "      <th>5</th>\n",
       "      <td>0132575</td>\n",
       "      <td>113.58770</td>\n",
       "    </tr>\n",
       "    <tr>\n",
       "      <th>6</th>\n",
       "      <td>0154884</td>\n",
       "      <td>122.07768</td>\n",
       "    </tr>\n",
       "    <tr>\n",
       "      <th>7</th>\n",
       "      <td>0161130</td>\n",
       "      <td>52.73973</td>\n",
       "    </tr>\n",
       "    <tr>\n",
       "      <th>8</th>\n",
       "      <td>0169713</td>\n",
       "      <td>90.68987</td>\n",
       "    </tr>\n",
       "    <tr>\n",
       "      <th>9</th>\n",
       "      <td>0185429</td>\n",
       "      <td>52.86378</td>\n",
       "    </tr>\n",
       "    <tr>\n",
       "      <th>10</th>\n",
       "      <td>0197462</td>\n",
       "      <td>32.81250</td>\n",
       "    </tr>\n",
       "    <tr>\n",
       "      <th>11</th>\n",
       "      <td>0206338</td>\n",
       "      <td>58.06452</td>\n",
       "    </tr>\n",
       "    <tr>\n",
       "      <th>12</th>\n",
       "      <td>0219854</td>\n",
       "      <td>88.17617</td>\n",
       "    </tr>\n",
       "    <tr>\n",
       "      <th>13</th>\n",
       "      <td>0221581</td>\n",
       "      <td>56.57895</td>\n",
       "    </tr>\n",
       "    <tr>\n",
       "      <th>14</th>\n",
       "      <td>0239059</td>\n",
       "      <td>57.05645</td>\n",
       "    </tr>\n",
       "  </tbody>\n",
       "</table>\n",
       "</div>"
      ],
      "text/plain": [
       "            lenders  overall_amount_lent\n",
       "0               000           1485.30966\n",
       "1             00000           1249.94736\n",
       "2              0002           2201.18046\n",
       "3          00mike00             38.46154\n",
       "4    0101craign0101           2424.08893\n",
       "5           0132575            113.58770\n",
       "6           0154884            122.07768\n",
       "7           0161130             52.73973\n",
       "8           0169713             90.68987\n",
       "9           0185429             52.86378\n",
       "10          0197462             32.81250\n",
       "11          0206338             58.06452\n",
       "12          0219854             88.17617\n",
       "13          0221581             56.57895\n",
       "14          0239059             57.05645"
      ]
     },
     "execution_count": 29,
     "metadata": {},
     "output_type": "execute_result"
    }
   ],
   "source": [
    "overall_amount_per_lender.head(15)"
   ]
  },
  {
   "cell_type": "code",
   "execution_count": 30,
   "metadata": {},
   "outputs": [
    {
     "data": {
      "text/html": [
       "<div>\n",
       "<style scoped>\n",
       "    .dataframe tbody tr th:only-of-type {\n",
       "        vertical-align: middle;\n",
       "    }\n",
       "\n",
       "    .dataframe tbody tr th {\n",
       "        vertical-align: top;\n",
       "    }\n",
       "\n",
       "    .dataframe thead th {\n",
       "        text-align: right;\n",
       "    }\n",
       "</style>\n",
       "<table border=\"1\" class=\"dataframe\">\n",
       "  <thead>\n",
       "    <tr style=\"text-align: right;\">\n",
       "      <th></th>\n",
       "      <th>lenders</th>\n",
       "      <th>overall_amount_lent</th>\n",
       "    </tr>\n",
       "  </thead>\n",
       "  <tbody>\n",
       "    <tr>\n",
       "      <th>1639011</th>\n",
       "      <td>zvi</td>\n",
       "      <td>370.57695</td>\n",
       "    </tr>\n",
       "    <tr>\n",
       "      <th>1639012</th>\n",
       "      <td>zvi1263</td>\n",
       "      <td>28.84615</td>\n",
       "    </tr>\n",
       "    <tr>\n",
       "      <th>1639013</th>\n",
       "      <td>zvika5974</td>\n",
       "      <td>35.71429</td>\n",
       "    </tr>\n",
       "    <tr>\n",
       "      <th>1639014</th>\n",
       "      <td>zvonimir7460</td>\n",
       "      <td>34.37500</td>\n",
       "    </tr>\n",
       "    <tr>\n",
       "      <th>1639015</th>\n",
       "      <td>zx147</td>\n",
       "      <td>177.17835</td>\n",
       "    </tr>\n",
       "    <tr>\n",
       "      <th>1639016</th>\n",
       "      <td>zyra9641</td>\n",
       "      <td>26.88679</td>\n",
       "    </tr>\n",
       "    <tr>\n",
       "      <th>1639017</th>\n",
       "      <td>zyrah8525</td>\n",
       "      <td>166.69643</td>\n",
       "    </tr>\n",
       "    <tr>\n",
       "      <th>1639018</th>\n",
       "      <td>zyrorl</td>\n",
       "      <td>92.59959</td>\n",
       "    </tr>\n",
       "    <tr>\n",
       "      <th>1639019</th>\n",
       "      <td>zzaba</td>\n",
       "      <td>25.00000</td>\n",
       "    </tr>\n",
       "    <tr>\n",
       "      <th>1639020</th>\n",
       "      <td>zzaman</td>\n",
       "      <td>642.25094</td>\n",
       "    </tr>\n",
       "    <tr>\n",
       "      <th>1639021</th>\n",
       "      <td>zzanita</td>\n",
       "      <td>62.50000</td>\n",
       "    </tr>\n",
       "    <tr>\n",
       "      <th>1639022</th>\n",
       "      <td>zzcyna7269</td>\n",
       "      <td>44.28571</td>\n",
       "    </tr>\n",
       "    <tr>\n",
       "      <th>1639023</th>\n",
       "      <td>zzinnia</td>\n",
       "      <td>32.75862</td>\n",
       "    </tr>\n",
       "    <tr>\n",
       "      <th>1639024</th>\n",
       "      <td>zzmcfate</td>\n",
       "      <td>2033.75020</td>\n",
       "    </tr>\n",
       "    <tr>\n",
       "      <th>1639025</th>\n",
       "      <td>zzrvmf8538</td>\n",
       "      <td>112.82051</td>\n",
       "    </tr>\n",
       "  </tbody>\n",
       "</table>\n",
       "</div>"
      ],
      "text/plain": [
       "              lenders  overall_amount_lent\n",
       "1639011           zvi            370.57695\n",
       "1639012       zvi1263             28.84615\n",
       "1639013     zvika5974             35.71429\n",
       "1639014  zvonimir7460             34.37500\n",
       "1639015         zx147            177.17835\n",
       "1639016      zyra9641             26.88679\n",
       "1639017     zyrah8525            166.69643\n",
       "1639018        zyrorl             92.59959\n",
       "1639019         zzaba             25.00000\n",
       "1639020        zzaman            642.25094\n",
       "1639021       zzanita             62.50000\n",
       "1639022    zzcyna7269             44.28571\n",
       "1639023       zzinnia             32.75862\n",
       "1639024      zzmcfate           2033.75020\n",
       "1639025    zzrvmf8538            112.82051"
      ]
     },
     "execution_count": 30,
     "metadata": {},
     "output_type": "execute_result"
    }
   ],
   "source": [
    "overall_amount_per_lender.tail(15)"
   ]
  },
  {
   "cell_type": "code",
   "execution_count": 31,
   "metadata": {},
   "outputs": [
    {
     "data": {
      "text/html": [
       "<div>\n",
       "<style scoped>\n",
       "    .dataframe tbody tr th:only-of-type {\n",
       "        vertical-align: middle;\n",
       "    }\n",
       "\n",
       "    .dataframe tbody tr th {\n",
       "        vertical-align: top;\n",
       "    }\n",
       "\n",
       "    .dataframe thead th {\n",
       "        text-align: right;\n",
       "    }\n",
       "</style>\n",
       "<table border=\"1\" class=\"dataframe\">\n",
       "  <thead>\n",
       "    <tr style=\"text-align: right;\">\n",
       "      <th></th>\n",
       "      <th>overall_amount_lent</th>\n",
       "    </tr>\n",
       "  </thead>\n",
       "  <tbody>\n",
       "    <tr>\n",
       "      <th>count</th>\n",
       "      <td>1639026.00000</td>\n",
       "    </tr>\n",
       "    <tr>\n",
       "      <th>mean</th>\n",
       "      <td>637.10046</td>\n",
       "    </tr>\n",
       "    <tr>\n",
       "      <th>std</th>\n",
       "      <td>12587.00054</td>\n",
       "    </tr>\n",
       "    <tr>\n",
       "      <th>min</th>\n",
       "      <td>5.43478</td>\n",
       "    </tr>\n",
       "    <tr>\n",
       "      <th>25%</th>\n",
       "      <td>33.48962</td>\n",
       "    </tr>\n",
       "    <tr>\n",
       "      <th>50%</th>\n",
       "      <td>88.17220</td>\n",
       "    </tr>\n",
       "    <tr>\n",
       "      <th>75%</th>\n",
       "      <td>289.14772</td>\n",
       "    </tr>\n",
       "    <tr>\n",
       "      <th>max</th>\n",
       "      <td>6296800.48566</td>\n",
       "    </tr>\n",
       "  </tbody>\n",
       "</table>\n",
       "</div>"
      ],
      "text/plain": [
       "       overall_amount_lent\n",
       "count        1639026.00000\n",
       "mean             637.10046\n",
       "std            12587.00054\n",
       "min                5.43478\n",
       "25%               33.48962\n",
       "50%               88.17220\n",
       "75%              289.14772\n",
       "max          6296800.48566"
      ]
     },
     "execution_count": 31,
     "metadata": {},
     "output_type": "execute_result"
    }
   ],
   "source": [
    "overall_amount_per_lender.describe()"
   ]
  },
  {
   "cell_type": "markdown",
   "metadata": {},
   "source": [
    "### Point 9: For each country, compute the difference between the overall amount of money lent and the overall amount of money borrowed. Since the country of the lender is often unknown, you can assume that the true distribution among the countries is the same as the one computed from the rows where the country is known."
   ]
  },
  {
   "cell_type": "code",
   "execution_count": 32,
   "metadata": {},
   "outputs": [
    {
     "data": {
      "text/html": [
       "<div>\n",
       "<style scoped>\n",
       "    .dataframe tbody tr th:only-of-type {\n",
       "        vertical-align: middle;\n",
       "    }\n",
       "\n",
       "    .dataframe tbody tr th {\n",
       "        vertical-align: top;\n",
       "    }\n",
       "\n",
       "    .dataframe thead th {\n",
       "        text-align: right;\n",
       "    }\n",
       "</style>\n",
       "<table border=\"1\" class=\"dataframe\">\n",
       "  <thead>\n",
       "    <tr style=\"text-align: right;\">\n",
       "      <th></th>\n",
       "      <th>country_code</th>\n",
       "      <th>borrow_count</th>\n",
       "      <th>overall_amount_borrowed</th>\n",
       "      <th>overall_amount_borrowed/total</th>\n",
       "    </tr>\n",
       "  </thead>\n",
       "  <tbody>\n",
       "    <tr>\n",
       "      <th>0</th>\n",
       "      <td>AF</td>\n",
       "      <td>2337</td>\n",
       "      <td>1967950.00000</td>\n",
       "      <td>0.16657</td>\n",
       "    </tr>\n",
       "    <tr>\n",
       "      <th>1</th>\n",
       "      <td>AL</td>\n",
       "      <td>3075</td>\n",
       "      <td>4307350.00000</td>\n",
       "      <td>0.36459</td>\n",
       "    </tr>\n",
       "    <tr>\n",
       "      <th>2</th>\n",
       "      <td>AM</td>\n",
       "      <td>13952</td>\n",
       "      <td>22950475.00000</td>\n",
       "      <td>1.94259</td>\n",
       "    </tr>\n",
       "    <tr>\n",
       "      <th>3</th>\n",
       "      <td>AZ</td>\n",
       "      <td>10172</td>\n",
       "      <td>14784625.00000</td>\n",
       "      <td>1.25141</td>\n",
       "    </tr>\n",
       "    <tr>\n",
       "      <th>4</th>\n",
       "      <td>BA</td>\n",
       "      <td>608</td>\n",
       "      <td>477250.00000</td>\n",
       "      <td>0.04040</td>\n",
       "    </tr>\n",
       "  </tbody>\n",
       "</table>\n",
       "</div>"
      ],
      "text/plain": [
       "  country_code  borrow_count  overall_amount_borrowed  \\\n",
       "0           AF          2337            1967950.00000   \n",
       "1           AL          3075            4307350.00000   \n",
       "2           AM         13952           22950475.00000   \n",
       "3           AZ         10172           14784625.00000   \n",
       "4           BA           608             477250.00000   \n",
       "\n",
       "   overall_amount_borrowed/total  \n",
       "0                        0.16657  \n",
       "1                        0.36459  \n",
       "2                        1.94259  \n",
       "3                        1.25141  \n",
       "4                        0.04040  "
      ]
     },
     "execution_count": 32,
     "metadata": {},
     "output_type": "execute_result"
    }
   ],
   "source": [
    "borrow_by_country.head()"
   ]
  },
  {
   "cell_type": "code",
   "execution_count": 33,
   "metadata": {},
   "outputs": [],
   "source": [
    "lenders = pd.read_csv('data/lenders.csv')"
   ]
  },
  {
   "cell_type": "code",
   "execution_count": 34,
   "metadata": {},
   "outputs": [
    {
     "data": {
      "text/plain": [
       "1458635"
      ]
     },
     "execution_count": 34,
     "metadata": {},
     "output_type": "execute_result"
    }
   ],
   "source": [
    "sum(lenders['country_code'].isna()) ### lot of nan's. we must assume "
   ]
  },
  {
   "cell_type": "code",
   "execution_count": 35,
   "metadata": {},
   "outputs": [
    {
     "data": {
      "text/plain": [
       "US    591612\n",
       "CA     67970\n",
       "GB     38380\n",
       "AU     37103\n",
       "DE     16007\n",
       "       ...  \n",
       "GW         1\n",
       "MS         1\n",
       "KM         1\n",
       "IO         1\n",
       "TF         1\n",
       "Name: country_code, Length: 234, dtype: int64"
      ]
     },
     "execution_count": 35,
     "metadata": {},
     "output_type": "execute_result"
    }
   ],
   "source": [
    "lenders['country_code'].dropna().value_counts()"
   ]
  },
  {
   "cell_type": "code",
   "execution_count": 36,
   "metadata": {},
   "outputs": [
    {
     "data": {
      "text/plain": [
       "count     890539\n",
       "unique       234\n",
       "top           US\n",
       "freq      591612\n",
       "Name: country_code, dtype: object"
      ]
     },
     "execution_count": 36,
     "metadata": {},
     "output_type": "execute_result"
    }
   ],
   "source": [
    "lenders['country_code'].dropna().describe()"
   ]
  },
  {
   "cell_type": "code",
   "execution_count": 37,
   "metadata": {},
   "outputs": [],
   "source": [
    "s = lenders.country_code.value_counts(normalize=True)"
   ]
  },
  {
   "cell_type": "code",
   "execution_count": 38,
   "metadata": {},
   "outputs": [],
   "source": [
    "missing = lenders['country_code'].isnull()\n",
    "lenders.loc[missing,'country_code'] = np.random.choice(s.index, size=len(lenders[missing]),p=s.values)"
   ]
  },
  {
   "cell_type": "code",
   "execution_count": 39,
   "metadata": {},
   "outputs": [],
   "source": [
    "overall_amount_per_lender.lenders = overall_amount_per_lender.lenders.apply(lambda x: x.strip())"
   ]
  },
  {
   "cell_type": "code",
   "execution_count": 40,
   "metadata": {},
   "outputs": [
    {
     "name": "stdout",
     "output_type": "stream",
     "text": [
      "CPU times: user 9.88 s, sys: 11.3 ms, total: 9.89 s\n",
      "Wall time: 9.9 s\n"
     ]
    }
   ],
   "source": [
    "%%time\n",
    "\n",
    "df4 = pd.concat([overall_amount_per_lender.set_index('lenders'), lenders.set_index('permanent_name')], axis=1, join='inner')"
   ]
  },
  {
   "cell_type": "code",
   "execution_count": 44,
   "metadata": {},
   "outputs": [],
   "source": [
    "lend_by_country = df4.groupby('country_code')['overall_amount_lent'].sum().reset_index(name='overall_amount_lent')"
   ]
  },
  {
   "cell_type": "code",
   "execution_count": 46,
   "metadata": {},
   "outputs": [
    {
     "data": {
      "text/html": [
       "<div>\n",
       "<style scoped>\n",
       "    .dataframe tbody tr th:only-of-type {\n",
       "        vertical-align: middle;\n",
       "    }\n",
       "\n",
       "    .dataframe tbody tr th {\n",
       "        vertical-align: top;\n",
       "    }\n",
       "\n",
       "    .dataframe thead th {\n",
       "        text-align: right;\n",
       "    }\n",
       "</style>\n",
       "<table border=\"1\" class=\"dataframe\">\n",
       "  <thead>\n",
       "    <tr style=\"text-align: right;\">\n",
       "      <th></th>\n",
       "      <th>country_code</th>\n",
       "      <th>overall_amount_lent</th>\n",
       "    </tr>\n",
       "  </thead>\n",
       "  <tbody>\n",
       "    <tr>\n",
       "      <th>0</th>\n",
       "      <td>AD</td>\n",
       "      <td>11946.35850</td>\n",
       "    </tr>\n",
       "    <tr>\n",
       "      <th>1</th>\n",
       "      <td>AE</td>\n",
       "      <td>1763811.46252</td>\n",
       "    </tr>\n",
       "    <tr>\n",
       "      <th>2</th>\n",
       "      <td>AF</td>\n",
       "      <td>140235.43471</td>\n",
       "    </tr>\n",
       "    <tr>\n",
       "      <th>3</th>\n",
       "      <td>AG</td>\n",
       "      <td>2340.00991</td>\n",
       "    </tr>\n",
       "    <tr>\n",
       "      <th>4</th>\n",
       "      <td>AI</td>\n",
       "      <td>322.57733</td>\n",
       "    </tr>\n",
       "  </tbody>\n",
       "</table>\n",
       "</div>"
      ],
      "text/plain": [
       "  country_code  overall_amount_lent\n",
       "0           AD          11946.35850\n",
       "1           AE        1763811.46252\n",
       "2           AF         140235.43471\n",
       "3           AG           2340.00991\n",
       "4           AI            322.57733"
      ]
     },
     "execution_count": 46,
     "metadata": {},
     "output_type": "execute_result"
    }
   ],
   "source": [
    "lend_by_country.head()"
   ]
  },
  {
   "cell_type": "code",
   "execution_count": 48,
   "metadata": {},
   "outputs": [
    {
     "data": {
      "text/plain": [
       "96"
      ]
     },
     "execution_count": 48,
     "metadata": {},
     "output_type": "execute_result"
    }
   ],
   "source": [
    "len(loans['country_code'].unique())"
   ]
  },
  {
   "cell_type": "code",
   "execution_count": 49,
   "metadata": {},
   "outputs": [
    {
     "data": {
      "text/plain": [
       "234"
      ]
     },
     "execution_count": 49,
     "metadata": {},
     "output_type": "execute_result"
    }
   ],
   "source": [
    "len(lenders['country_code'].unique())"
   ]
  },
  {
   "cell_type": "code",
   "execution_count": 57,
   "metadata": {},
   "outputs": [],
   "source": [
    "overall_in_out = pd.concat([borrow_by_country.set_index('country_code'), lend_by_country.set_index('country_code')], axis = 1, join='inner')"
   ]
  },
  {
   "cell_type": "code",
   "execution_count": 59,
   "metadata": {},
   "outputs": [],
   "source": [
    "overall_in_out['lent - borrow'] = overall_in_out['overall_amount_lent'] - overall_in_out['overall_amount_borrowed']"
   ]
  },
  {
   "cell_type": "code",
   "execution_count": 62,
   "metadata": {},
   "outputs": [
    {
     "data": {
      "text/html": [
       "<div>\n",
       "<style scoped>\n",
       "    .dataframe tbody tr th:only-of-type {\n",
       "        vertical-align: middle;\n",
       "    }\n",
       "\n",
       "    .dataframe tbody tr th {\n",
       "        vertical-align: top;\n",
       "    }\n",
       "\n",
       "    .dataframe thead th {\n",
       "        text-align: right;\n",
       "    }\n",
       "</style>\n",
       "<table border=\"1\" class=\"dataframe\">\n",
       "  <thead>\n",
       "    <tr style=\"text-align: right;\">\n",
       "      <th></th>\n",
       "      <th>borrow_count</th>\n",
       "      <th>overall_amount_borrowed</th>\n",
       "      <th>overall_amount_borrowed/total</th>\n",
       "      <th>overall_amount_lent</th>\n",
       "      <th>lent - borrow</th>\n",
       "    </tr>\n",
       "    <tr>\n",
       "      <th>country_code</th>\n",
       "      <th></th>\n",
       "      <th></th>\n",
       "      <th></th>\n",
       "      <th></th>\n",
       "      <th></th>\n",
       "    </tr>\n",
       "  </thead>\n",
       "  <tbody>\n",
       "    <tr>\n",
       "      <th>TZ</th>\n",
       "      <td>16110</td>\n",
       "      <td>18720300.00000</td>\n",
       "      <td>1.58454</td>\n",
       "      <td>70367.01870</td>\n",
       "      <td>-18649932.98130</td>\n",
       "    </tr>\n",
       "    <tr>\n",
       "      <th>UA</th>\n",
       "      <td>4994</td>\n",
       "      <td>7091800.00000</td>\n",
       "      <td>0.60027</td>\n",
       "      <td>114280.46340</td>\n",
       "      <td>-6977519.53660</td>\n",
       "    </tr>\n",
       "    <tr>\n",
       "      <th>UG</th>\n",
       "      <td>45882</td>\n",
       "      <td>38386500.00000</td>\n",
       "      <td>3.24914</td>\n",
       "      <td>102381.23528</td>\n",
       "      <td>-38284118.76472</td>\n",
       "    </tr>\n",
       "    <tr>\n",
       "      <th>US</th>\n",
       "      <td>9180</td>\n",
       "      <td>46352000.00000</td>\n",
       "      <td>3.92336</td>\n",
       "      <td>631675518.47026</td>\n",
       "      <td>585323518.47026</td>\n",
       "    </tr>\n",
       "    <tr>\n",
       "      <th>UY</th>\n",
       "      <td>1</td>\n",
       "      <td>8000.00000</td>\n",
       "      <td>0.00068</td>\n",
       "      <td>105222.22637</td>\n",
       "      <td>97222.22637</td>\n",
       "    </tr>\n",
       "    <tr>\n",
       "      <th>VC</th>\n",
       "      <td>16</td>\n",
       "      <td>49225.00000</td>\n",
       "      <td>0.00417</td>\n",
       "      <td>6786.12962</td>\n",
       "      <td>-42438.87038</td>\n",
       "    </tr>\n",
       "    <tr>\n",
       "      <th>VI</th>\n",
       "      <td>2</td>\n",
       "      <td>10000.00000</td>\n",
       "      <td>0.00085</td>\n",
       "      <td>21853.39804</td>\n",
       "      <td>11853.39804</td>\n",
       "    </tr>\n",
       "    <tr>\n",
       "      <th>VN</th>\n",
       "      <td>21839</td>\n",
       "      <td>24681100.00000</td>\n",
       "      <td>2.08907</td>\n",
       "      <td>425110.09003</td>\n",
       "      <td>-24255989.90997</td>\n",
       "    </tr>\n",
       "    <tr>\n",
       "      <th>VU</th>\n",
       "      <td>4</td>\n",
       "      <td>9250.00000</td>\n",
       "      <td>0.00078</td>\n",
       "      <td>295842.49563</td>\n",
       "      <td>286592.49563</td>\n",
       "    </tr>\n",
       "    <tr>\n",
       "      <th>WS</th>\n",
       "      <td>16435</td>\n",
       "      <td>12212175.00000</td>\n",
       "      <td>1.03367</td>\n",
       "      <td>2246.87062</td>\n",
       "      <td>-12209928.12938</td>\n",
       "    </tr>\n",
       "    <tr>\n",
       "      <th>XK</th>\n",
       "      <td>2178</td>\n",
       "      <td>3083025.00000</td>\n",
       "      <td>0.26096</td>\n",
       "      <td>13154.93598</td>\n",
       "      <td>-3069870.06402</td>\n",
       "    </tr>\n",
       "    <tr>\n",
       "      <th>YE</th>\n",
       "      <td>4206</td>\n",
       "      <td>3444000.00000</td>\n",
       "      <td>0.29151</td>\n",
       "      <td>312829.98036</td>\n",
       "      <td>-3131170.01964</td>\n",
       "    </tr>\n",
       "    <tr>\n",
       "      <th>ZA</th>\n",
       "      <td>633</td>\n",
       "      <td>1006525.00000</td>\n",
       "      <td>0.08519</td>\n",
       "      <td>699493.07846</td>\n",
       "      <td>-307031.92154</td>\n",
       "    </tr>\n",
       "    <tr>\n",
       "      <th>ZM</th>\n",
       "      <td>1277</td>\n",
       "      <td>1978975.00000</td>\n",
       "      <td>0.16751</td>\n",
       "      <td>35935.10897</td>\n",
       "      <td>-1943039.89103</td>\n",
       "    </tr>\n",
       "    <tr>\n",
       "      <th>ZW</th>\n",
       "      <td>5513</td>\n",
       "      <td>5851875.00000</td>\n",
       "      <td>0.49532</td>\n",
       "      <td>19830.65871</td>\n",
       "      <td>-5832044.34129</td>\n",
       "    </tr>\n",
       "  </tbody>\n",
       "</table>\n",
       "</div>"
      ],
      "text/plain": [
       "              borrow_count  overall_amount_borrowed  \\\n",
       "country_code                                          \n",
       "TZ                   16110           18720300.00000   \n",
       "UA                    4994            7091800.00000   \n",
       "UG                   45882           38386500.00000   \n",
       "US                    9180           46352000.00000   \n",
       "UY                       1               8000.00000   \n",
       "VC                      16              49225.00000   \n",
       "VI                       2              10000.00000   \n",
       "VN                   21839           24681100.00000   \n",
       "VU                       4               9250.00000   \n",
       "WS                   16435           12212175.00000   \n",
       "XK                    2178            3083025.00000   \n",
       "YE                    4206            3444000.00000   \n",
       "ZA                     633            1006525.00000   \n",
       "ZM                    1277            1978975.00000   \n",
       "ZW                    5513            5851875.00000   \n",
       "\n",
       "              overall_amount_borrowed/total  overall_amount_lent  \\\n",
       "country_code                                                       \n",
       "TZ                                  1.58454          70367.01870   \n",
       "UA                                  0.60027         114280.46340   \n",
       "UG                                  3.24914         102381.23528   \n",
       "US                                  3.92336      631675518.47026   \n",
       "UY                                  0.00068         105222.22637   \n",
       "VC                                  0.00417           6786.12962   \n",
       "VI                                  0.00085          21853.39804   \n",
       "VN                                  2.08907         425110.09003   \n",
       "VU                                  0.00078         295842.49563   \n",
       "WS                                  1.03367           2246.87062   \n",
       "XK                                  0.26096          13154.93598   \n",
       "YE                                  0.29151         312829.98036   \n",
       "ZA                                  0.08519         699493.07846   \n",
       "ZM                                  0.16751          35935.10897   \n",
       "ZW                                  0.49532          19830.65871   \n",
       "\n",
       "               lent - borrow  \n",
       "country_code                  \n",
       "TZ           -18649932.98130  \n",
       "UA            -6977519.53660  \n",
       "UG           -38284118.76472  \n",
       "US           585323518.47026  \n",
       "UY               97222.22637  \n",
       "VC              -42438.87038  \n",
       "VI               11853.39804  \n",
       "VN           -24255989.90997  \n",
       "VU              286592.49563  \n",
       "WS           -12209928.12938  \n",
       "XK            -3069870.06402  \n",
       "YE            -3131170.01964  \n",
       "ZA             -307031.92154  \n",
       "ZM            -1943039.89103  \n",
       "ZW            -5832044.34129  "
      ]
     },
     "execution_count": 62,
     "metadata": {},
     "output_type": "execute_result"
    }
   ],
   "source": [
    "overall_in_out.tail(15)"
   ]
  },
  {
   "cell_type": "code",
   "execution_count": null,
   "metadata": {},
   "outputs": [],
   "source": []
  }
 ],
 "metadata": {
  "kernelspec": {
   "display_name": "Python 3",
   "language": "python",
   "name": "python3"
  },
  "language_info": {
   "codemirror_mode": {
    "name": "ipython",
    "version": 3
   },
   "file_extension": ".py",
   "mimetype": "text/x-python",
   "name": "python",
   "nbconvert_exporter": "python",
   "pygments_lexer": "ipython3",
   "version": "3.7.6"
  }
 },
 "nbformat": 4,
 "nbformat_minor": 2
}
